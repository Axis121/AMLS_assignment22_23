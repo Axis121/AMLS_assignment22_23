{
  "cells": [
    {
      "cell_type": "markdown",
      "metadata": {
        "id": "view-in-github",
        "colab_type": "text"
      },
      "source": [
        "<a href=\"https://colab.research.google.com/github/Axis121/AMLS_Project/blob/main/Emotion_Detector_2_0.ipynb\" target=\"_parent\"><img src=\"https://colab.research.google.com/assets/colab-badge.svg\" alt=\"Open In Colab\"/></a>"
      ]
    },
    {
      "cell_type": "code",
      "execution_count": 1,
      "metadata": {
        "colab": {
          "base_uri": "https://localhost:8080/"
        },
        "id": "iztaEUNzOAMP",
        "outputId": "7e0d6e65-b285-4044-b2c8-fa0ae9309738"
      },
      "outputs": [
        {
          "output_type": "stream",
          "name": "stdout",
          "text": [
            "Mounted at /content/drive\n"
          ]
        }
      ],
      "source": [
        "from google.colab import drive\n",
        "drive.mount('/content/drive')"
      ]
    },
    {
      "cell_type": "code",
      "execution_count": null,
      "metadata": {
        "id": "97Jj4HHUOB_X"
      },
      "outputs": [],
      "source": [
        "#https://towardsdatascience.com/basic-smile-detection-using-opencv-and-dlib-aeb22afb9e67\n"
      ]
    },
    {
      "cell_type": "code",
      "execution_count": 2,
      "metadata": {
        "id": "FKhxLRjkSjzr"
      },
      "outputs": [],
      "source": [
        "import cv2\n",
        "import dlib\n",
        "from google.colab.patches import cv2_imshow\n",
        "#https://stackoverflow.com/questions/3426108/how-to-sort-a-list-of-strings-numerically\n",
        "from natsort import natsorted # pip install natsort\n",
        "import os\n",
        "from os import listdir\n",
        "import numpy as np\n",
        "import pandas as pd\n",
        "from sklearn.linear_model import LinearRegression\n",
        "from sklearn import metrics\n",
        "from sklearn.linear_model import LogisticRegression\n",
        "import matplotlib.pyplot as plt"
      ]
    },
    {
      "cell_type": "code",
      "execution_count": 3,
      "metadata": {
        "id": "09_mBJgWSqXT"
      },
      "outputs": [],
      "source": [
        "def faceLandmarks(im):\n",
        "\n",
        "    # Path for the detection model, you can download it from here: https://github.com/italojs/facial-landmarks-recognition/blob/master/shape_predictor_68_face_landmarks.dat\n",
        "    PREDICTOR_PATH = r\"/content/drive/MyDrive/Colab Notebooks/Test_folder/shape_predictor_68_face_landmarks.dat\"\n",
        "    \n",
        "    # Create object to detect the face\n",
        "    faceDetector = dlib.get_frontal_face_detector()\n",
        "\n",
        "    # Create object to detect the facial landmarks\n",
        "    landmarkDetector = dlib.shape_predictor(PREDICTOR_PATH)\n",
        "\n",
        "    # Detect faces\n",
        "    faceRects = faceDetector(im, 0)\n",
        "\n",
        "    # Initialize landmarksAll array\n",
        "    landmarksAll = []\n",
        "\n",
        "    # For each face detected in the image, this chunk of code creates a ROI around the face and pass it as an argument to the \n",
        "    # facial landmark detector and append the result to the array landmarks \n",
        "    for i in range(0, len(faceRects)):\n",
        "        newRect = dlib.rectangle(int(faceRects[i].left()),\n",
        "                            int(faceRects[i].top()),\n",
        "                            int(faceRects[i].right()),\n",
        "                            int(faceRects[i].bottom()))\n",
        "        landmarks = landmarkDetector(im, newRect)\n",
        "        landmarksAll.append(landmarks)\n",
        "\n",
        "    return landmarksAll, faceRects\n"
      ]
    },
    {
      "cell_type": "code",
      "execution_count": 4,
      "metadata": {
        "id": "j71iWF-vSxO1"
      },
      "outputs": [],
      "source": [
        "def renderFacialLandmarks(im, landmarks):\n",
        "    \n",
        "    # Convert landmarks into iteratable array\n",
        "    points = []\n",
        "    [points.append((p.x, p.y)) for p in landmarks.parts()]\n",
        "\n",
        "    # Loop through array and draw a circle for each landmark\n",
        "    for p in points:\n",
        "        cv2.circle(im, (int(p[0]),int(p[1])), 2, (255,0,0),-1)\n",
        "\n",
        "    # Return image with facial landmarks \n",
        "    return im"
      ]
    },
    {
      "cell_type": "markdown",
      "metadata": {
        "id": "CY4fvRBxHB5n"
      },
      "source": [
        "Extractions of features"
      ]
    },
    {
      "cell_type": "code",
      "execution_count": 5,
      "metadata": {
        "id": "BstHIzNgBSnF"
      },
      "outputs": [],
      "source": [
        "def extractFeatures(folder_dir): \n",
        "    number_of_features = 136 #68 coordinates, x and y points\n",
        "    features = np.ones((1,number_of_features))*10\n",
        "    current_features = np.zeros((1,number_of_features))\n",
        "\n",
        "    for images in natsorted(os.listdir(folder_dir)):\n",
        "    \n",
        "        # check if the image ends with png\n",
        "        if (images.endswith(\".jpg\")):\n",
        "            \n",
        "            print(images) # for testing\n",
        "            #type(images)\n",
        "            ##use images to finish the directory call for im\n",
        "            ## Read an image to a variable\n",
        "            im = cv2.imread(folder_dir +\"/\" + images)\n",
        "            \n",
        "            # Get landmarks using the function created above\n",
        "            landmarks, _ = faceLandmarks(im)\n",
        "\n",
        "            if len(landmarks) == 0: #set features to 0\n",
        "                for j in range(68):\n",
        "                  current_features [0,j]=0\n",
        "                  current_features [0,j+68]=0\n",
        "\n",
        "            else:\n",
        "                # Render the landmarks on the first face detected. You can specify the face by passing the desired index to the landmarks array.\n",
        "                # In this case, one face was detected, so I'm passing landmarks[0] as the argument.\n",
        "                faceWithLandmarks = renderFacialLandmarks(im, landmarks[0])\n",
        "                for j in range(68):\n",
        "                  #print(j)\n",
        "                  current_features [0,j]=landmarks[0].parts()[0].x-landmarks[0].parts()[j].x\n",
        "                  current_features [0,j+68]=landmarks[0].parts()[0].y-landmarks[0].parts()[j].y\n",
        "        features = np.vstack((features,current_features))\n",
        "    \n",
        "    features = np.delete(features,0,axis = 0)\n",
        "    return features\n",
        "    print(\"done\")\n",
        "            "
      ]
    },
    {
      "cell_type": "code",
      "source": [
        "def getSelectedFacialFeatures(features): # derive the specific features from the landmark coordinates\n",
        "  rows, cols = features.shape\n",
        "  number_of_features = 18\n",
        "  x = features [:,:68] # extract x coordinates from features matrix\n",
        "  y = features [:,-68:] # extract y coordinates from features matrix\n",
        "\n",
        "  selected_features = np.zeros((rows,number_of_features))\n",
        "\n",
        "  # lip width\n",
        "  selected_features [:,0] = x[:,48] - x[:,54]\n",
        "\n",
        "  # jaw width\n",
        "  selected_features [:,1] = x[:,2] - x[:,14]\n",
        "\n",
        "  # ratio of lip and jaw width\n",
        "  selected_features [:,2] = selected_features [:,0]/selected_features [:,1]\n",
        "\n",
        "  # MAR (Mouth Aspect Ratio) (a1 + a2)/(2*a3)\n",
        "  a1 = y[:,50] - y[:,58]\n",
        "  a2 = y[:,51] - y[:,57]\n",
        "  a3 = y[:,52] - y[:,56]\n",
        "  a4 = x[:,48] - x[:,54]\n",
        "\n",
        "  selected_features [:,3] = (a1+a2+a3)/(3*a4) \n",
        "\n",
        "  # Cheek puffiness\n",
        "  selected_features [:,4] = y[:,11] - y[:,30]\n",
        "\n",
        "  # lip curvature ## check formula\n",
        "  selected_features [:,5] = y[:,60] - y[:,66]\n",
        "\n",
        "  # Mouth corners\n",
        "  selected_features [:,6] = x[:,48]\n",
        "  selected_features [:,7] = y[:,48]\n",
        "\n",
        "  selected_features [:,8] = x[:,54]\n",
        "  selected_features [:,9] = y[:,54]\n",
        "\n",
        "  # eye corners\n",
        "\n",
        "  selected_features [:,10] = x[:,16]\n",
        "  selected_features [:,11] = y[:,16]\n",
        "\n",
        "  selected_features [:,12] = x[:,20]\n",
        "  selected_features [:,13] = y[:,20]\n",
        "\n",
        "  selected_features [:,14] = x[:,21]\n",
        "  selected_features [:,15] = y[:,21]\n",
        "\n",
        "  selected_features [:,16] = x[:,25]\n",
        "  selected_features [:,17] = y[:,25]\n",
        "\n",
        "  return abs(selected_features)"
      ],
      "metadata": {
        "id": "pbluSnY9xcJM"
      },
      "execution_count": 6,
      "outputs": []
    },
    {
      "cell_type": "code",
      "source": [
        "def getLabel(label_dir,column):\n",
        "  df = pd.read_csv(label_dir)\n",
        "  #df = pd.read_csv('/content/drive/MyDrive/Colab Notebooks/Test_folder/dataset/labels_modified.csv')\n",
        "  #df = pd.read_csv('/content/drive/MyDrive/Colab Notebooks/Test_folder/Upload/Datasets/celeba/labels_modified.csv')\n",
        "  #print(df.iloc[:,3].values)\n",
        "\n",
        "\n",
        "  # replace() syntax\n",
        "  df = df.replace(-1,0)\n",
        "  labels = df.iloc[:,column].values #face shape is the 3rd coloumn, eye colour is the 2nd\n",
        "  labels = np.transpose(labels)\n",
        "\n",
        "  return labels"
      ],
      "metadata": {
        "id": "R6TIiR_Vh-MQ"
      },
      "execution_count": 7,
      "outputs": []
    },
    {
      "cell_type": "code",
      "source": [
        "def removeMissingValues (features, labels):\n",
        "\n",
        "  rows, cols = features.shape\n",
        "  featuresAndLabels = np.column_stack((features,labels)) # combine the features and labels into one matrix, horizontally\n",
        "  featuresAndLabels = featuresAndLabels[~np.all(featuresAndLabels[:,:136] == 0, axis=1)] #remove rows if the feature row section is full of zeroes\n",
        "  featuresAndLabels = featuresAndLabels[~np.any(np.isnan(featuresAndLabels[:,:136])==True, axis=1)] #remove rows if the feature row section is full of zeroes\n",
        "  featuresAndLabels = featuresAndLabels[~np.any(np.isinf(featuresAndLabels[:,:136])==True, axis=1)] #remove rows if the feature row section is full of zeroes\n",
        "\n",
        "\n",
        "  clean_features = featuresAndLabels [:,:cols] # remake feature matrix\n",
        "  clean_labels = featuresAndLabels [:,-1] # remake label vector\n",
        "\n",
        "  return clean_features, clean_labels"
      ],
      "metadata": {
        "id": "IDI3QBB9v1g5"
      },
      "execution_count": 8,
      "outputs": []
    },
    {
      "cell_type": "code",
      "source": [
        "folder_dir = \"/content/drive/MyDrive/Colab Notebooks/Test_folder/Upload/Datasets/celeba/img\" # training set\n",
        "#folder_dir = \"//content/drive/MyDrive/Colab Notebooks/Test_folder/Upload/dataset_AMLS_22-23_test/celeba_test/img\" # test set\n",
        "\n",
        "features = extractFeatures(folder_dir)\n",
        "np.save(\"/content/drive/MyDrive/Colab Notebooks/Test_folder/Upload/A1/CelebA_feature_set.npy\",features)"
      ],
      "metadata": {
        "id": "BefDETqNL8Os"
      },
      "execution_count": null,
      "outputs": []
    },
    {
      "cell_type": "markdown",
      "source": [
        "Loading saved features and importing labels"
      ],
      "metadata": {
        "id": "n3o8gFMsrTZq"
      }
    },
    {
      "cell_type": "code",
      "source": [
        "features = np.load(\"/content/drive/MyDrive/Colab Notebooks/Test_folder/Upload/A1/CelebA_feature_set.npy\")"
      ],
      "metadata": {
        "id": "KKN4x4JM7pHL"
      },
      "execution_count": 9,
      "outputs": []
    },
    {
      "cell_type": "code",
      "execution_count": 10,
      "metadata": {
        "id": "jqS_bYQpOhp5"
      },
      "outputs": [],
      "source": [
        "label_dir = '/content/drive/MyDrive/Colab Notebooks/Test_folder/Upload/Datasets/celeba/labels_modified.csv' # training set labels\n",
        "#label_dir = '/content/drive/MyDrive/Colab Notebooks/Test_folder/Upload/dataset_AMLS_22-23_test/cartoon_set_test/modified_labels.csv' # test set labels\n",
        "\n",
        "labels = getLabel(label_dir,column = 3) # get label vector #gender is the 3rd column, smile is the 4th"
      ]
    },
    {
      "cell_type": "code",
      "source": [
        "print(labels)"
      ],
      "metadata": {
        "id": "Hjv6YRt113V_",
        "colab": {
          "base_uri": "https://localhost:8080/"
        },
        "outputId": "1ade32b8-a027-48b9-f912-1b279211b92c"
      },
      "execution_count": 31,
      "outputs": [
        {
          "output_type": "stream",
          "name": "stdout",
          "text": [
            "[1 1 0 ... 1 1 1]\n"
          ]
        }
      ]
    },
    {
      "cell_type": "markdown",
      "source": [
        "Processing Data"
      ],
      "metadata": {
        "id": "bVEG49vu4ua8"
      }
    },
    {
      "cell_type": "code",
      "source": [
        "# get selected facial features\n",
        "selected_features = getSelectedFacialFeatures (features)\n",
        "#remove rows with missing values\n",
        "clean_features, clean_labels = removeMissingValues (selected_features, labels)"
      ],
      "metadata": {
        "colab": {
          "base_uri": "https://localhost:8080/"
        },
        "id": "kcOt3to24t0y",
        "outputId": "afa5ac77-7f0e-4493-ff8a-cc12a9a3e5bf"
      },
      "execution_count": 11,
      "outputs": [
        {
          "output_type": "stream",
          "name": "stderr",
          "text": [
            "<ipython-input-6-a7736995b600>:16: RuntimeWarning: invalid value encountered in true_divide\n",
            "  selected_features [:,2] = selected_features [:,0]/selected_features [:,1]\n",
            "<ipython-input-6-a7736995b600>:24: RuntimeWarning: invalid value encountered in true_divide\n",
            "  selected_features [:,3] = (a1+a2+a3)/(3*a4)\n"
          ]
        }
      ]
    },
    {
      "cell_type": "code",
      "source": [
        "print(clean_features.shape)\n",
        "print(clean_labels.shape)"
      ],
      "metadata": {
        "id": "VKWamJ9Rr-9G",
        "colab": {
          "base_uri": "https://localhost:8080/"
        },
        "outputId": "394c41c1-20cc-432d-8bc8-04ee42598a9f"
      },
      "execution_count": 64,
      "outputs": [
        {
          "output_type": "stream",
          "name": "stdout",
          "text": [
            "(4868, 18)\n",
            "(4868,)\n"
          ]
        }
      ]
    },
    {
      "cell_type": "markdown",
      "metadata": {
        "id": "ruUCXMTdjNmz"
      },
      "source": [
        "Graph features and lables"
      ]
    },
    {
      "cell_type": "code",
      "execution_count": 47,
      "metadata": {
        "id": "mYjtdKJjjPzQ",
        "colab": {
          "base_uri": "https://localhost:8080/",
          "height": 279
        },
        "outputId": "ab574595-de31-4e7f-bf36-b27b6203e6d0"
      },
      "outputs": [
        {
          "output_type": "display_data",
          "data": {
            "text/plain": [
              "<Figure size 432x288 with 1 Axes>"
            ],
            "image/png": "[encoded data removed]"
          },
          "metadata": {
            "needs_background": "light"
          }
        }
      ],
      "source": [
        "col = np.where(clean_labels>0,'b','r')\n",
        "\n",
        "feature_norm = clean_features / clean_features.max(axis=0)\n",
        "\n",
        "plt.scatter(clean_features[:,4], clean_features[:,1], c=col, s=5, linewidth=0)\n",
        "plt.xlabel(\"Feature 4\")\n",
        "plt.ylabel(\"Feature 16\")\n",
        "plt.show()\n",
        "# 1,6\n",
        "# 0 1\n",
        "# 15 0\n",
        "# 12 6\n"
      ]
    },
    {
      "cell_type": "code",
      "source": [
        "# distribution of labels\n",
        "unique, counts = np.unique(clean_labels, return_counts=True)\n",
        "print(np.asarray((unique, counts)).T)"
      ],
      "metadata": {
        "colab": {
          "base_uri": "https://localhost:8080/"
        },
        "id": "ZSK0M-gxvG5I",
        "outputId": "9af2dc76-8bd3-4f30-ccd5-fa0497fda151"
      },
      "execution_count": 49,
      "outputs": [
        {
          "output_type": "stream",
          "name": "stdout",
          "text": [
            "[[0.000e+00 2.389e+03]\n",
            " [1.000e+00 2.479e+03]]\n"
          ]
        }
      ]
    },
    {
      "cell_type": "markdown",
      "source": [
        "Obtain training and validation sets from feature selected dataset"
      ],
      "metadata": {
        "id": "7gPaSgIfxF1t"
      }
    },
    {
      "cell_type": "code",
      "source": [
        "from sklearn.model_selection import train_test_split\n",
        "# train test split is used to produce train and validate sets\n",
        "X_train, X_validate, Y_train, Y_validate = train_test_split(clean_features, clean_labels, test_size=0.3,random_state=109) # 70% training and 30% test"
      ],
      "metadata": {
        "id": "FryRZkg2Jf62"
      },
      "execution_count": 12,
      "outputs": []
    },
    {
      "cell_type": "markdown",
      "source": [
        "Obtain test set from separate directory of images"
      ],
      "metadata": {
        "id": "JMVubyoM1i44"
      }
    },
    {
      "cell_type": "code",
      "source": [
        "##make a check to see if load file exists then reload, if it does not exist then extract."
      ],
      "metadata": {
        "id": "hoFyhO_F2rmU"
      },
      "execution_count": null,
      "outputs": []
    },
    {
      "cell_type": "code",
      "source": [
        "## Extract Features\n",
        "folder_dir = \"/content/drive/MyDrive/Colab Notebooks/Test_folder/Upload/dataset_AMLS_22-23_test/celeba_test/img\" # test set\n",
        "features = extractFeatures(folder_dir)\n",
        "np.save(\"/content/drive/MyDrive/Colab Notebooks/Test_folder/Upload/A1/celebA_feature_test_set.npy\",features) # saving features to a file"
      ],
      "metadata": {
        "id": "Rr4nZ5K71qbe"
      },
      "execution_count": null,
      "outputs": []
    },
    {
      "cell_type": "code",
      "source": [
        "## reload features from saved file and get labels\n",
        "features_test = np.load(\"/content/drive/MyDrive/Colab Notebooks/Test_folder/Upload/A1/celebA_feature_test_set.npy\")\n",
        "\n",
        "## labels\n",
        "label_dir = '/content/drive/MyDrive/Colab Notebooks/Test_folder/Upload/dataset_AMLS_22-23_test/celeba_test/labels_modified.csv' # test set labels\n",
        "labels_test = getLabel(label_dir, column = 3) # get label vector #face shape is the 3rd column, eye colour is the 2nd\n",
        "\n",
        "# get selected facial features\n",
        "selected_features_test = getSelectedFacialFeatures (features_test)\n",
        "#remove rows with missing values\n",
        "clean_features_test, clean_labels_test = removeMissingValues (selected_features_test, labels_test)\n",
        "\n",
        "## Match naming convention\n",
        "X_test = clean_features_test\n",
        "Y_test = clean_labels_test"
      ],
      "metadata": {
        "id": "eauVOGrR2R9R",
        "colab": {
          "base_uri": "https://localhost:8080/"
        },
        "outputId": "0a895012-1ea0-4701-9efd-321a1a271a3f"
      },
      "execution_count": 18,
      "outputs": [
        {
          "output_type": "stream",
          "name": "stderr",
          "text": [
            "<ipython-input-6-a7736995b600>:16: RuntimeWarning: invalid value encountered in true_divide\n",
            "  selected_features [:,2] = selected_features [:,0]/selected_features [:,1]\n",
            "<ipython-input-6-a7736995b600>:24: RuntimeWarning: invalid value encountered in true_divide\n",
            "  selected_features [:,3] = (a1+a2+a3)/(3*a4)\n"
          ]
        }
      ]
    },
    {
      "cell_type": "code",
      "source": [
        "features_test.shape"
      ],
      "metadata": {
        "colab": {
          "base_uri": "https://localhost:8080/"
        },
        "id": "VT2BL77-CSNh",
        "outputId": "aa1ca5a2-3cf8-4926-d849-4464f11b6976"
      },
      "execution_count": null,
      "outputs": [
        {
          "output_type": "execute_result",
          "data": {
            "text/plain": [
              "(2500, 136)"
            ]
          },
          "metadata": {},
          "execution_count": 22
        }
      ]
    },
    {
      "cell_type": "markdown",
      "source": [
        "Process Test Data"
      ],
      "metadata": {
        "id": "qKhkXyEB4cbz"
      }
    },
    {
      "cell_type": "code",
      "source": [
        "## get selected features\n",
        "\n",
        "## remove missing values\n",
        "clean_features_test, clean_labels_test = removeMissingValues (features_test, labels_test)\n",
        "\n",
        "## Match naming convention\n",
        "X_test = clean_features_test\n",
        "Y_test = clean_labels_test"
      ],
      "metadata": {
        "id": "SyGWDKsz4cHr"
      },
      "execution_count": 14,
      "outputs": []
    },
    {
      "cell_type": "code",
      "source": [
        "Y_test.shape\n",
        "X_test.shape"
      ],
      "metadata": {
        "colab": {
          "base_uri": "https://localhost:8080/"
        },
        "id": "FVdJrA76CH8A",
        "outputId": "5f241234-67f4-48a7-ebb1-7d4ee97dfc39"
      },
      "execution_count": null,
      "outputs": [
        {
          "output_type": "execute_result",
          "data": {
            "text/plain": [
              "(1979, 30)"
            ]
          },
          "metadata": {},
          "execution_count": 25
        }
      ]
    },
    {
      "cell_type": "markdown",
      "source": [
        "Training and Validation of models"
      ],
      "metadata": {
        "id": "vgqhQnlVxux7"
      }
    },
    {
      "cell_type": "code",
      "source": [
        "# features required to be normalised to allow convegrence when fitting model\n",
        "X_validate_normalised = X_validate / X_validate.max(axis=0)\n",
        "X_train_normalised = X_train / X_train.max(axis=0)\n",
        "X_test_normalised = X_test / X_test.max(axis=0)"
      ],
      "metadata": {
        "id": "gJQDS8WqrxKD"
      },
      "execution_count": 36,
      "outputs": []
    },
    {
      "cell_type": "code",
      "source": [
        "## tune hyperparameter for log\n",
        "# defining parameter range\n",
        "param_grid = {'C': [0.01, 0.1, 1, 10, 100],\n",
        "      'solver': ['newton-cg', 'lbfgs', 'liblinear'],\n",
        "      \"penalty\": [\"l2\"],\n",
        "  \t  \"max_iter\": [100, 200, 300, 400, 500, 600, 700, 800]\n",
        "      }\n",
        "\n",
        "grid = GridSearchCV(LogisticRegression(), param_grid, verbose = 3)\n",
        "\n",
        "# fitting the model for grid search\n",
        "#grid.fit(X_validate, Y_validate)\n",
        "grid.fit(X_validate_normalised, Y_validate)"
      ],
      "metadata": {
        "colab": {
          "base_uri": "https://localhost:8080/"
        },
        "id": "7mw2sDD2ncYL",
        "outputId": "0aa313fd-3cd0-4d61-ada1-836dc1505c85"
      },
      "execution_count": 40,
      "outputs": [
        {
          "output_type": "stream",
          "name": "stdout",
          "text": [
            "Fitting 5 folds for each of 120 candidates, totalling 600 fits\n",
            "[CV 1/5] END C=0.01, max_iter=100, penalty=l2, solver=newton-cg;, score=0.860 total time=   0.0s\n",
            "[CV 2/5] END C=0.01, max_iter=100, penalty=l2, solver=newton-cg;, score=0.818 total time=   0.0s\n",
            "[CV 3/5] END C=0.01, max_iter=100, penalty=l2, solver=newton-cg;, score=0.856 total time=   0.0s\n",
            "[CV 4/5] END C=0.01, max_iter=100, penalty=l2, solver=newton-cg;, score=0.901 total time=   0.0s\n",
            "[CV 5/5] END C=0.01, max_iter=100, penalty=l2, solver=newton-cg;, score=0.846 total time=   0.0s\n",
            "[CV 1/5] END C=0.01, max_iter=100, penalty=l2, solver=lbfgs;, score=0.860 total time=   0.0s\n",
            "[CV 2/5] END C=0.01, max_iter=100, penalty=l2, solver=lbfgs;, score=0.818 total time=   0.0s\n",
            "[CV 3/5] END C=0.01, max_iter=100, penalty=l2, solver=lbfgs;, score=0.856 total time=   0.0s\n",
            "[CV 4/5] END C=0.01, max_iter=100, penalty=l2, solver=lbfgs;, score=0.901 total time=   0.0s\n",
            "[CV 5/5] END C=0.01, max_iter=100, penalty=l2, solver=lbfgs;, score=0.846 total time=   0.0s\n",
            "[CV 1/5] END C=0.01, max_iter=100, penalty=l2, solver=liblinear;, score=0.857 total time=   0.0s\n",
            "[CV 2/5] END C=0.01, max_iter=100, penalty=l2, solver=liblinear;, score=0.839 total time=   0.0s\n",
            "[CV 3/5] END C=0.01, max_iter=100, penalty=l2, solver=liblinear;, score=0.897 total time=   0.0s\n",
            "[CV 4/5] END C=0.01, max_iter=100, penalty=l2, solver=liblinear;, score=0.873 total time=   0.0s\n",
            "[CV 5/5] END C=0.01, max_iter=100, penalty=l2, solver=liblinear;, score=0.832 total time=   0.0s\n",
            "[CV 1/5] END C=0.01, max_iter=200, penalty=l2, solver=newton-cg;, score=0.860 total time=   0.0s\n",
            "[CV 2/5] END C=0.01, max_iter=200, penalty=l2, solver=newton-cg;, score=0.818 total time=   0.0s\n",
            "[CV 3/5] END C=0.01, max_iter=200, penalty=l2, solver=newton-cg;, score=0.856 total time=   0.0s\n",
            "[CV 4/5] END C=0.01, max_iter=200, penalty=l2, solver=newton-cg;, score=0.901 total time=   0.0s\n",
            "[CV 5/5] END C=0.01, max_iter=200, penalty=l2, solver=newton-cg;, score=0.846 total time=   0.0s\n",
            "[CV 1/5] END C=0.01, max_iter=200, penalty=l2, solver=lbfgs;, score=0.860 total time=   0.0s\n",
            "[CV 2/5] END C=0.01, max_iter=200, penalty=l2, solver=lbfgs;, score=0.818 total time=   0.0s\n",
            "[CV 3/5] END C=0.01, max_iter=200, penalty=l2, solver=lbfgs;, score=0.856 total time=   0.0s\n",
            "[CV 4/5] END C=0.01, max_iter=200, penalty=l2, solver=lbfgs;, score=0.901 total time=   0.0s\n",
            "[CV 5/5] END C=0.01, max_iter=200, penalty=l2, solver=lbfgs;, score=0.846 total time=   0.0s\n",
            "[CV 1/5] END C=0.01, max_iter=200, penalty=l2, solver=liblinear;, score=0.857 total time=   0.0s\n",
            "[CV 2/5] END C=0.01, max_iter=200, penalty=l2, solver=liblinear;, score=0.839 total time=   0.0s\n",
            "[CV 3/5] END C=0.01, max_iter=200, penalty=l2, solver=liblinear;, score=0.897 total time=   0.0s\n",
            "[CV 4/5] END C=0.01, max_iter=200, penalty=l2, solver=liblinear;, score=0.873 total time=   0.0s\n",
            "[CV 5/5] END C=0.01, max_iter=200, penalty=l2, solver=liblinear;, score=0.832 total time=   0.0s\n",
            "[CV 1/5] END C=0.01, max_iter=300, penalty=l2, solver=newton-cg;, score=0.860 total time=   0.0s\n",
            "[CV 2/5] END C=0.01, max_iter=300, penalty=l2, solver=newton-cg;, score=0.818 total time=   0.0s\n",
            "[CV 3/5] END C=0.01, max_iter=300, penalty=l2, solver=newton-cg;, score=0.856 total time=   0.0s\n",
            "[CV 4/5] END C=0.01, max_iter=300, penalty=l2, solver=newton-cg;, score=0.901 total time=   0.0s\n",
            "[CV 5/5] END C=0.01, max_iter=300, penalty=l2, solver=newton-cg;, score=0.846 total time=   0.0s\n",
            "[CV 1/5] END C=0.01, max_iter=300, penalty=l2, solver=lbfgs;, score=0.860 total time=   0.0s\n",
            "[CV 2/5] END C=0.01, max_iter=300, penalty=l2, solver=lbfgs;, score=0.818 total time=   0.0s\n",
            "[CV 3/5] END C=0.01, max_iter=300, penalty=l2, solver=lbfgs;, score=0.856 total time=   0.0s\n",
            "[CV 4/5] END C=0.01, max_iter=300, penalty=l2, solver=lbfgs;, score=0.901 total time=   0.0s\n",
            "[CV 5/5] END C=0.01, max_iter=300, penalty=l2, solver=lbfgs;, score=0.846 total time=   0.0s\n",
            "[CV 1/5] END C=0.01, max_iter=300, penalty=l2, solver=liblinear;, score=0.857 total time=   0.0s\n",
            "[CV 2/5] END C=0.01, max_iter=300, penalty=l2, solver=liblinear;, score=0.839 total time=   0.0s\n",
            "[CV 3/5] END C=0.01, max_iter=300, penalty=l2, solver=liblinear;, score=0.897 total time=   0.0s\n",
            "[CV 4/5] END C=0.01, max_iter=300, penalty=l2, solver=liblinear;, score=0.873 total time=   0.0s\n",
            "[CV 5/5] END C=0.01, max_iter=300, penalty=l2, solver=liblinear;, score=0.832 total time=   0.0s\n",
            "[CV 1/5] END C=0.01, max_iter=400, penalty=l2, solver=newton-cg;, score=0.860 total time=   0.0s\n",
            "[CV 2/5] END C=0.01, max_iter=400, penalty=l2, solver=newton-cg;, score=0.818 total time=   0.0s\n",
            "[CV 3/5] END C=0.01, max_iter=400, penalty=l2, solver=newton-cg;, score=0.856 total time=   0.0s\n",
            "[CV 4/5] END C=0.01, max_iter=400, penalty=l2, solver=newton-cg;, score=0.901 total time=   0.0s\n",
            "[CV 5/5] END C=0.01, max_iter=400, penalty=l2, solver=newton-cg;, score=0.846 total time=   0.0s\n",
            "[CV 1/5] END C=0.01, max_iter=400, penalty=l2, solver=lbfgs;, score=0.860 total time=   0.0s\n",
            "[CV 2/5] END C=0.01, max_iter=400, penalty=l2, solver=lbfgs;, score=0.818 total time=   0.0s\n",
            "[CV 3/5] END C=0.01, max_iter=400, penalty=l2, solver=lbfgs;, score=0.856 total time=   0.0s\n",
            "[CV 4/5] END C=0.01, max_iter=400, penalty=l2, solver=lbfgs;, score=0.901 total time=   0.0s\n",
            "[CV 5/5] END C=0.01, max_iter=400, penalty=l2, solver=lbfgs;, score=0.846 total time=   0.0s\n",
            "[CV 1/5] END C=0.01, max_iter=400, penalty=l2, solver=liblinear;, score=0.857 total time=   0.0s\n",
            "[CV 2/5] END C=0.01, max_iter=400, penalty=l2, solver=liblinear;, score=0.839 total time=   0.0s\n",
            "[CV 3/5] END C=0.01, max_iter=400, penalty=l2, solver=liblinear;, score=0.897 total time=   0.0s\n",
            "[CV 4/5] END C=0.01, max_iter=400, penalty=l2, solver=liblinear;, score=0.873 total time=   0.0s\n",
            "[CV 5/5] END C=0.01, max_iter=400, penalty=l2, solver=liblinear;, score=0.832 total time=   0.0s\n",
            "[CV 1/5] END C=0.01, max_iter=500, penalty=l2, solver=newton-cg;, score=0.860 total time=   0.0s\n",
            "[CV 2/5] END C=0.01, max_iter=500, penalty=l2, solver=newton-cg;, score=0.818 total time=   0.0s\n",
            "[CV 3/5] END C=0.01, max_iter=500, penalty=l2, solver=newton-cg;, score=0.856 total time=   0.0s\n",
            "[CV 4/5] END C=0.01, max_iter=500, penalty=l2, solver=newton-cg;, score=0.901 total time=   0.0s\n",
            "[CV 5/5] END C=0.01, max_iter=500, penalty=l2, solver=newton-cg;, score=0.846 total time=   0.0s\n",
            "[CV 1/5] END C=0.01, max_iter=500, penalty=l2, solver=lbfgs;, score=0.860 total time=   0.0s\n",
            "[CV 2/5] END C=0.01, max_iter=500, penalty=l2, solver=lbfgs;, score=0.818 total time=   0.0s\n",
            "[CV 3/5] END C=0.01, max_iter=500, penalty=l2, solver=lbfgs;, score=0.856 total time=   0.0s\n",
            "[CV 4/5] END C=0.01, max_iter=500, penalty=l2, solver=lbfgs;, score=0.901 total time=   0.0s\n",
            "[CV 5/5] END C=0.01, max_iter=500, penalty=l2, solver=lbfgs;, score=0.846 total time=   0.0s\n",
            "[CV 1/5] END C=0.01, max_iter=500, penalty=l2, solver=liblinear;, score=0.857 total time=   0.0s\n",
            "[CV 2/5] END C=0.01, max_iter=500, penalty=l2, solver=liblinear;, score=0.839 total time=   0.0s\n",
            "[CV 3/5] END C=0.01, max_iter=500, penalty=l2, solver=liblinear;, score=0.897 total time=   0.0s\n",
            "[CV 4/5] END C=0.01, max_iter=500, penalty=l2, solver=liblinear;, score=0.873 total time=   0.0s\n",
            "[CV 5/5] END C=0.01, max_iter=500, penalty=l2, solver=liblinear;, score=0.832 total time=   0.0s\n",
            "[CV 1/5] END C=0.01, max_iter=600, penalty=l2, solver=newton-cg;, score=0.860 total time=   0.0s\n",
            "[CV 2/5] END C=0.01, max_iter=600, penalty=l2, solver=newton-cg;, score=0.818 total time=   0.0s\n",
            "[CV 3/5] END C=0.01, max_iter=600, penalty=l2, solver=newton-cg;, score=0.856 total time=   0.0s\n",
            "[CV 4/5] END C=0.01, max_iter=600, penalty=l2, solver=newton-cg;, score=0.901 total time=   0.0s\n",
            "[CV 5/5] END C=0.01, max_iter=600, penalty=l2, solver=newton-cg;, score=0.846 total time=   0.0s\n",
            "[CV 1/5] END C=0.01, max_iter=600, penalty=l2, solver=lbfgs;, score=0.860 total time=   0.0s\n",
            "[CV 2/5] END C=0.01, max_iter=600, penalty=l2, solver=lbfgs;, score=0.818 total time=   0.0s\n",
            "[CV 3/5] END C=0.01, max_iter=600, penalty=l2, solver=lbfgs;, score=0.856 total time=   0.0s\n",
            "[CV 4/5] END C=0.01, max_iter=600, penalty=l2, solver=lbfgs;, score=0.901 total time=   0.0s\n",
            "[CV 5/5] END C=0.01, max_iter=600, penalty=l2, solver=lbfgs;, score=0.846 total time=   0.0s\n",
            "[CV 1/5] END C=0.01, max_iter=600, penalty=l2, solver=liblinear;, score=0.857 total time=   0.0s\n",
            "[CV 2/5] END C=0.01, max_iter=600, penalty=l2, solver=liblinear;, score=0.839 total time=   0.0s\n",
            "[CV 3/5] END C=0.01, max_iter=600, penalty=l2, solver=liblinear;, score=0.897 total time=   0.0s\n",
            "[CV 4/5] END C=0.01, max_iter=600, penalty=l2, solver=liblinear;, score=0.873 total time=   0.0s\n",
            "[CV 5/5] END C=0.01, max_iter=600, penalty=l2, solver=liblinear;, score=0.832 total time=   0.0s\n",
            "[CV 1/5] END C=0.01, max_iter=700, penalty=l2, solver=newton-cg;, score=0.860 total time=   0.0s\n",
            "[CV 2/5] END C=0.01, max_iter=700, penalty=l2, solver=newton-cg;, score=0.818 total time=   0.0s\n",
            "[CV 3/5] END C=0.01, max_iter=700, penalty=l2, solver=newton-cg;, score=0.856 total time=   0.0s\n",
            "[CV 4/5] END C=0.01, max_iter=700, penalty=l2, solver=newton-cg;, score=0.901 total time=   0.0s\n",
            "[CV 5/5] END C=0.01, max_iter=700, penalty=l2, solver=newton-cg;, score=0.846 total time=   0.0s\n",
            "[CV 1/5] END C=0.01, max_iter=700, penalty=l2, solver=lbfgs;, score=0.860 total time=   0.0s\n",
            "[CV 2/5] END C=0.01, max_iter=700, penalty=l2, solver=lbfgs;, score=0.818 total time=   0.0s\n",
            "[CV 3/5] END C=0.01, max_iter=700, penalty=l2, solver=lbfgs;, score=0.856 total time=   0.0s\n",
            "[CV 4/5] END C=0.01, max_iter=700, penalty=l2, solver=lbfgs;, score=0.901 total time=   0.0s\n",
            "[CV 5/5] END C=0.01, max_iter=700, penalty=l2, solver=lbfgs;, score=0.846 total time=   0.0s\n",
            "[CV 1/5] END C=0.01, max_iter=700, penalty=l2, solver=liblinear;, score=0.857 total time=   0.0s\n",
            "[CV 2/5] END C=0.01, max_iter=700, penalty=l2, solver=liblinear;, score=0.839 total time=   0.0s\n",
            "[CV 3/5] END C=0.01, max_iter=700, penalty=l2, solver=liblinear;, score=0.897 total time=   0.0s\n",
            "[CV 4/5] END C=0.01, max_iter=700, penalty=l2, solver=liblinear;, score=0.873 total time=   0.0s\n",
            "[CV 5/5] END C=0.01, max_iter=700, penalty=l2, solver=liblinear;, score=0.832 total time=   0.0s\n",
            "[CV 1/5] END C=0.01, max_iter=800, penalty=l2, solver=newton-cg;, score=0.860 total time=   0.0s\n",
            "[CV 2/5] END C=0.01, max_iter=800, penalty=l2, solver=newton-cg;, score=0.818 total time=   0.0s\n",
            "[CV 3/5] END C=0.01, max_iter=800, penalty=l2, solver=newton-cg;, score=0.856 total time=   0.0s\n",
            "[CV 4/5] END C=0.01, max_iter=800, penalty=l2, solver=newton-cg;, score=0.901 total time=   0.0s\n",
            "[CV 5/5] END C=0.01, max_iter=800, penalty=l2, solver=newton-cg;, score=0.846 total time=   0.0s\n",
            "[CV 1/5] END C=0.01, max_iter=800, penalty=l2, solver=lbfgs;, score=0.860 total time=   0.0s\n",
            "[CV 2/5] END C=0.01, max_iter=800, penalty=l2, solver=lbfgs;, score=0.818 total time=   0.0s\n",
            "[CV 3/5] END C=0.01, max_iter=800, penalty=l2, solver=lbfgs;, score=0.856 total time=   0.0s\n",
            "[CV 4/5] END C=0.01, max_iter=800, penalty=l2, solver=lbfgs;, score=0.901 total time=   0.0s\n",
            "[CV 5/5] END C=0.01, max_iter=800, penalty=l2, solver=lbfgs;, score=0.846 total time=   0.0s\n",
            "[CV 1/5] END C=0.01, max_iter=800, penalty=l2, solver=liblinear;, score=0.857 total time=   0.0s\n",
            "[CV 2/5] END C=0.01, max_iter=800, penalty=l2, solver=liblinear;, score=0.839 total time=   0.0s\n",
            "[CV 3/5] END C=0.01, max_iter=800, penalty=l2, solver=liblinear;, score=0.897 total time=   0.0s\n",
            "[CV 4/5] END C=0.01, max_iter=800, penalty=l2, solver=liblinear;, score=0.873 total time=   0.0s\n",
            "[CV 5/5] END C=0.01, max_iter=800, penalty=l2, solver=liblinear;, score=0.832 total time=   0.0s\n",
            "[CV 1/5] END C=0.1, max_iter=100, penalty=l2, solver=newton-cg;, score=0.881 total time=   0.0s\n",
            "[CV 2/5] END C=0.1, max_iter=100, penalty=l2, solver=newton-cg;, score=0.842 total time=   0.0s\n",
            "[CV 3/5] END C=0.1, max_iter=100, penalty=l2, solver=newton-cg;, score=0.866 total time=   0.0s\n",
            "[CV 4/5] END C=0.1, max_iter=100, penalty=l2, solver=newton-cg;, score=0.914 total time=   0.0s\n",
            "[CV 5/5] END C=0.1, max_iter=100, penalty=l2, solver=newton-cg;, score=0.849 total time=   0.0s\n",
            "[CV 1/5] END C=0.1, max_iter=100, penalty=l2, solver=lbfgs;, score=0.881 total time=   0.0s\n",
            "[CV 2/5] END C=0.1, max_iter=100, penalty=l2, solver=lbfgs;, score=0.842 total time=   0.0s\n",
            "[CV 3/5] END C=0.1, max_iter=100, penalty=l2, solver=lbfgs;, score=0.866 total time=   0.0s\n",
            "[CV 4/5] END C=0.1, max_iter=100, penalty=l2, solver=lbfgs;, score=0.914 total time=   0.0s\n",
            "[CV 5/5] END C=0.1, max_iter=100, penalty=l2, solver=lbfgs;, score=0.849 total time=   0.0s\n",
            "[CV 1/5] END C=0.1, max_iter=100, penalty=l2, solver=liblinear;, score=0.877 total time=   0.0s\n",
            "[CV 2/5] END C=0.1, max_iter=100, penalty=l2, solver=liblinear;, score=0.860 total time=   0.0s\n",
            "[CV 3/5] END C=0.1, max_iter=100, penalty=l2, solver=liblinear;, score=0.894 total time=   0.0s\n",
            "[CV 4/5] END C=0.1, max_iter=100, penalty=l2, solver=liblinear;, score=0.894 total time=   0.0s\n",
            "[CV 5/5] END C=0.1, max_iter=100, penalty=l2, solver=liblinear;, score=0.846 total time=   0.0s\n",
            "[CV 1/5] END C=0.1, max_iter=200, penalty=l2, solver=newton-cg;, score=0.881 total time=   0.0s\n",
            "[CV 2/5] END C=0.1, max_iter=200, penalty=l2, solver=newton-cg;, score=0.842 total time=   0.0s\n",
            "[CV 3/5] END C=0.1, max_iter=200, penalty=l2, solver=newton-cg;, score=0.866 total time=   0.0s\n",
            "[CV 4/5] END C=0.1, max_iter=200, penalty=l2, solver=newton-cg;, score=0.914 total time=   0.0s\n",
            "[CV 5/5] END C=0.1, max_iter=200, penalty=l2, solver=newton-cg;, score=0.849 total time=   0.0s\n",
            "[CV 1/5] END C=0.1, max_iter=200, penalty=l2, solver=lbfgs;, score=0.881 total time=   0.0s\n",
            "[CV 2/5] END C=0.1, max_iter=200, penalty=l2, solver=lbfgs;, score=0.842 total time=   0.0s\n",
            "[CV 3/5] END C=0.1, max_iter=200, penalty=l2, solver=lbfgs;, score=0.866 total time=   0.0s\n",
            "[CV 4/5] END C=0.1, max_iter=200, penalty=l2, solver=lbfgs;, score=0.914 total time=   0.0s\n",
            "[CV 5/5] END C=0.1, max_iter=200, penalty=l2, solver=lbfgs;, score=0.849 total time=   0.0s\n",
            "[CV 1/5] END C=0.1, max_iter=200, penalty=l2, solver=liblinear;, score=0.877 total time=   0.0s\n",
            "[CV 2/5] END C=0.1, max_iter=200, penalty=l2, solver=liblinear;, score=0.860 total time=   0.0s\n",
            "[CV 3/5] END C=0.1, max_iter=200, penalty=l2, solver=liblinear;, score=0.894 total time=   0.0s\n",
            "[CV 4/5] END C=0.1, max_iter=200, penalty=l2, solver=liblinear;, score=0.894 total time=   0.0s\n",
            "[CV 5/5] END C=0.1, max_iter=200, penalty=l2, solver=liblinear;, score=0.846 total time=   0.0s\n",
            "[CV 1/5] END C=0.1, max_iter=300, penalty=l2, solver=newton-cg;, score=0.881 total time=   0.0s\n",
            "[CV 2/5] END C=0.1, max_iter=300, penalty=l2, solver=newton-cg;, score=0.842 total time=   0.0s\n",
            "[CV 3/5] END C=0.1, max_iter=300, penalty=l2, solver=newton-cg;, score=0.866 total time=   0.0s\n",
            "[CV 4/5] END C=0.1, max_iter=300, penalty=l2, solver=newton-cg;, score=0.914 total time=   0.0s\n",
            "[CV 5/5] END C=0.1, max_iter=300, penalty=l2, solver=newton-cg;, score=0.849 total time=   0.0s\n",
            "[CV 1/5] END C=0.1, max_iter=300, penalty=l2, solver=lbfgs;, score=0.881 total time=   0.0s\n",
            "[CV 2/5] END C=0.1, max_iter=300, penalty=l2, solver=lbfgs;, score=0.842 total time=   0.0s\n",
            "[CV 3/5] END C=0.1, max_iter=300, penalty=l2, solver=lbfgs;, score=0.866 total time=   0.0s\n",
            "[CV 4/5] END C=0.1, max_iter=300, penalty=l2, solver=lbfgs;, score=0.914 total time=   0.0s\n",
            "[CV 5/5] END C=0.1, max_iter=300, penalty=l2, solver=lbfgs;, score=0.849 total time=   0.0s\n",
            "[CV 1/5] END C=0.1, max_iter=300, penalty=l2, solver=liblinear;, score=0.877 total time=   0.0s\n",
            "[CV 2/5] END C=0.1, max_iter=300, penalty=l2, solver=liblinear;, score=0.860 total time=   0.0s\n",
            "[CV 3/5] END C=0.1, max_iter=300, penalty=l2, solver=liblinear;, score=0.894 total time=   0.0s\n",
            "[CV 4/5] END C=0.1, max_iter=300, penalty=l2, solver=liblinear;, score=0.894 total time=   0.0s\n",
            "[CV 5/5] END C=0.1, max_iter=300, penalty=l2, solver=liblinear;, score=0.846 total time=   0.0s\n",
            "[CV 1/5] END C=0.1, max_iter=400, penalty=l2, solver=newton-cg;, score=0.881 total time=   0.0s\n",
            "[CV 2/5] END C=0.1, max_iter=400, penalty=l2, solver=newton-cg;, score=0.842 total time=   0.0s\n",
            "[CV 3/5] END C=0.1, max_iter=400, penalty=l2, solver=newton-cg;, score=0.866 total time=   0.0s\n",
            "[CV 4/5] END C=0.1, max_iter=400, penalty=l2, solver=newton-cg;, score=0.914 total time=   0.0s\n",
            "[CV 5/5] END C=0.1, max_iter=400, penalty=l2, solver=newton-cg;, score=0.849 total time=   0.0s\n",
            "[CV 1/5] END C=0.1, max_iter=400, penalty=l2, solver=lbfgs;, score=0.881 total time=   0.0s\n",
            "[CV 2/5] END C=0.1, max_iter=400, penalty=l2, solver=lbfgs;, score=0.842 total time=   0.1s\n",
            "[CV 3/5] END C=0.1, max_iter=400, penalty=l2, solver=lbfgs;, score=0.866 total time=   0.0s\n",
            "[CV 4/5] END C=0.1, max_iter=400, penalty=l2, solver=lbfgs;, score=0.914 total time=   0.0s\n",
            "[CV 5/5] END C=0.1, max_iter=400, penalty=l2, solver=lbfgs;, score=0.849 total time=   0.0s\n",
            "[CV 1/5] END C=0.1, max_iter=400, penalty=l2, solver=liblinear;, score=0.877 total time=   0.0s\n",
            "[CV 2/5] END C=0.1, max_iter=400, penalty=l2, solver=liblinear;, score=0.860 total time=   0.0s\n",
            "[CV 3/5] END C=0.1, max_iter=400, penalty=l2, solver=liblinear;, score=0.894 total time=   0.0s\n",
            "[CV 4/5] END C=0.1, max_iter=400, penalty=l2, solver=liblinear;, score=0.894 total time=   0.0s\n",
            "[CV 5/5] END C=0.1, max_iter=400, penalty=l2, solver=liblinear;, score=0.846 total time=   0.0s\n",
            "[CV 1/5] END C=0.1, max_iter=500, penalty=l2, solver=newton-cg;, score=0.881 total time=   0.0s\n",
            "[CV 2/5] END C=0.1, max_iter=500, penalty=l2, solver=newton-cg;, score=0.842 total time=   0.0s\n",
            "[CV 3/5] END C=0.1, max_iter=500, penalty=l2, solver=newton-cg;, score=0.866 total time=   0.0s\n",
            "[CV 4/5] END C=0.1, max_iter=500, penalty=l2, solver=newton-cg;, score=0.914 total time=   0.0s\n",
            "[CV 5/5] END C=0.1, max_iter=500, penalty=l2, solver=newton-cg;, score=0.849 total time=   0.0s\n",
            "[CV 1/5] END C=0.1, max_iter=500, penalty=l2, solver=lbfgs;, score=0.881 total time=   0.0s\n",
            "[CV 2/5] END C=0.1, max_iter=500, penalty=l2, solver=lbfgs;, score=0.842 total time=   0.0s\n",
            "[CV 3/5] END C=0.1, max_iter=500, penalty=l2, solver=lbfgs;, score=0.866 total time=   0.0s\n",
            "[CV 4/5] END C=0.1, max_iter=500, penalty=l2, solver=lbfgs;, score=0.914 total time=   0.0s\n",
            "[CV 5/5] END C=0.1, max_iter=500, penalty=l2, solver=lbfgs;, score=0.849 total time=   0.0s\n",
            "[CV 1/5] END C=0.1, max_iter=500, penalty=l2, solver=liblinear;, score=0.877 total time=   0.0s\n",
            "[CV 2/5] END C=0.1, max_iter=500, penalty=l2, solver=liblinear;, score=0.860 total time=   0.0s\n",
            "[CV 3/5] END C=0.1, max_iter=500, penalty=l2, solver=liblinear;, score=0.894 total time=   0.0s\n",
            "[CV 4/5] END C=0.1, max_iter=500, penalty=l2, solver=liblinear;, score=0.894 total time=   0.0s\n",
            "[CV 5/5] END C=0.1, max_iter=500, penalty=l2, solver=liblinear;, score=0.846 total time=   0.0s\n",
            "[CV 1/5] END C=0.1, max_iter=600, penalty=l2, solver=newton-cg;, score=0.881 total time=   0.0s\n",
            "[CV 2/5] END C=0.1, max_iter=600, penalty=l2, solver=newton-cg;, score=0.842 total time=   0.0s\n",
            "[CV 3/5] END C=0.1, max_iter=600, penalty=l2, solver=newton-cg;, score=0.866 total time=   0.0s\n",
            "[CV 4/5] END C=0.1, max_iter=600, penalty=l2, solver=newton-cg;, score=0.914 total time=   0.0s\n",
            "[CV 5/5] END C=0.1, max_iter=600, penalty=l2, solver=newton-cg;, score=0.849 total time=   0.0s\n",
            "[CV 1/5] END C=0.1, max_iter=600, penalty=l2, solver=lbfgs;, score=0.881 total time=   0.0s\n",
            "[CV 2/5] END C=0.1, max_iter=600, penalty=l2, solver=lbfgs;, score=0.842 total time=   0.0s\n",
            "[CV 3/5] END C=0.1, max_iter=600, penalty=l2, solver=lbfgs;, score=0.866 total time=   0.0s\n",
            "[CV 4/5] END C=0.1, max_iter=600, penalty=l2, solver=lbfgs;, score=0.914 total time=   0.0s\n",
            "[CV 5/5] END C=0.1, max_iter=600, penalty=l2, solver=lbfgs;, score=0.849 total time=   0.0s\n",
            "[CV 1/5] END C=0.1, max_iter=600, penalty=l2, solver=liblinear;, score=0.877 total time=   0.0s\n",
            "[CV 2/5] END C=0.1, max_iter=600, penalty=l2, solver=liblinear;, score=0.860 total time=   0.0s\n",
            "[CV 3/5] END C=0.1, max_iter=600, penalty=l2, solver=liblinear;, score=0.894 total time=   0.0s\n",
            "[CV 4/5] END C=0.1, max_iter=600, penalty=l2, solver=liblinear;, score=0.894 total time=   0.0s\n",
            "[CV 5/5] END C=0.1, max_iter=600, penalty=l2, solver=liblinear;, score=0.846 total time=   0.0s\n",
            "[CV 1/5] END C=0.1, max_iter=700, penalty=l2, solver=newton-cg;, score=0.881 total time=   0.0s\n",
            "[CV 2/5] END C=0.1, max_iter=700, penalty=l2, solver=newton-cg;, score=0.842 total time=   0.0s\n",
            "[CV 3/5] END C=0.1, max_iter=700, penalty=l2, solver=newton-cg;, score=0.866 total time=   0.0s\n",
            "[CV 4/5] END C=0.1, max_iter=700, penalty=l2, solver=newton-cg;, score=0.914 total time=   0.0s\n",
            "[CV 5/5] END C=0.1, max_iter=700, penalty=l2, solver=newton-cg;, score=0.849 total time=   0.0s\n",
            "[CV 1/5] END C=0.1, max_iter=700, penalty=l2, solver=lbfgs;, score=0.881 total time=   0.0s\n",
            "[CV 2/5] END C=0.1, max_iter=700, penalty=l2, solver=lbfgs;, score=0.842 total time=   0.0s\n",
            "[CV 3/5] END C=0.1, max_iter=700, penalty=l2, solver=lbfgs;, score=0.866 total time=   0.0s\n",
            "[CV 4/5] END C=0.1, max_iter=700, penalty=l2, solver=lbfgs;, score=0.914 total time=   0.0s\n",
            "[CV 5/5] END C=0.1, max_iter=700, penalty=l2, solver=lbfgs;, score=0.849 total time=   0.0s\n",
            "[CV 1/5] END C=0.1, max_iter=700, penalty=l2, solver=liblinear;, score=0.877 total time=   0.0s\n",
            "[CV 2/5] END C=0.1, max_iter=700, penalty=l2, solver=liblinear;, score=0.860 total time=   0.0s\n",
            "[CV 3/5] END C=0.1, max_iter=700, penalty=l2, solver=liblinear;, score=0.894 total time=   0.0s\n",
            "[CV 4/5] END C=0.1, max_iter=700, penalty=l2, solver=liblinear;, score=0.894 total time=   0.0s\n",
            "[CV 5/5] END C=0.1, max_iter=700, penalty=l2, solver=liblinear;, score=0.846 total time=   0.0s\n",
            "[CV 1/5] END C=0.1, max_iter=800, penalty=l2, solver=newton-cg;, score=0.881 total time=   0.0s\n",
            "[CV 2/5] END C=0.1, max_iter=800, penalty=l2, solver=newton-cg;, score=0.842 total time=   0.0s\n",
            "[CV 3/5] END C=0.1, max_iter=800, penalty=l2, solver=newton-cg;, score=0.866 total time=   0.0s\n",
            "[CV 4/5] END C=0.1, max_iter=800, penalty=l2, solver=newton-cg;, score=0.914 total time=   0.0s\n",
            "[CV 5/5] END C=0.1, max_iter=800, penalty=l2, solver=newton-cg;, score=0.849 total time=   0.0s\n",
            "[CV 1/5] END C=0.1, max_iter=800, penalty=l2, solver=lbfgs;, score=0.881 total time=   0.0s\n",
            "[CV 2/5] END C=0.1, max_iter=800, penalty=l2, solver=lbfgs;, score=0.842 total time=   0.0s\n",
            "[CV 3/5] END C=0.1, max_iter=800, penalty=l2, solver=lbfgs;, score=0.866 total time=   0.0s\n",
            "[CV 4/5] END C=0.1, max_iter=800, penalty=l2, solver=lbfgs;, score=0.914 total time=   0.0s\n",
            "[CV 5/5] END C=0.1, max_iter=800, penalty=l2, solver=lbfgs;, score=0.849 total time=   0.0s\n",
            "[CV 1/5] END C=0.1, max_iter=800, penalty=l2, solver=liblinear;, score=0.877 total time=   0.0s\n",
            "[CV 2/5] END C=0.1, max_iter=800, penalty=l2, solver=liblinear;, score=0.860 total time=   0.0s\n",
            "[CV 3/5] END C=0.1, max_iter=800, penalty=l2, solver=liblinear;, score=0.894 total time=   0.0s\n",
            "[CV 4/5] END C=0.1, max_iter=800, penalty=l2, solver=liblinear;, score=0.894 total time=   0.0s\n",
            "[CV 5/5] END C=0.1, max_iter=800, penalty=l2, solver=liblinear;, score=0.846 total time=   0.0s\n",
            "[CV 1/5] END C=1, max_iter=100, penalty=l2, solver=newton-cg;, score=0.894 total time=   0.0s\n",
            "[CV 2/5] END C=1, max_iter=100, penalty=l2, solver=newton-cg;, score=0.870 total time=   0.0s\n",
            "[CV 3/5] END C=1, max_iter=100, penalty=l2, solver=newton-cg;, score=0.894 total time=   0.0s\n",
            "[CV 4/5] END C=1, max_iter=100, penalty=l2, solver=newton-cg;, score=0.911 total time=   0.0s\n",
            "[CV 5/5] END C=1, max_iter=100, penalty=l2, solver=newton-cg;, score=0.870 total time=   0.0s\n",
            "[CV 1/5] END C=1, max_iter=100, penalty=l2, solver=lbfgs;, score=0.894 total time=   0.0s\n",
            "[CV 2/5] END C=1, max_iter=100, penalty=l2, solver=lbfgs;, score=0.870 total time=   0.0s\n",
            "[CV 3/5] END C=1, max_iter=100, penalty=l2, solver=lbfgs;, score=0.894 total time=   0.0s\n",
            "[CV 4/5] END C=1, max_iter=100, penalty=l2, solver=lbfgs;, score=0.911 total time=   0.0s\n",
            "[CV 5/5] END C=1, max_iter=100, penalty=l2, solver=lbfgs;, score=0.870 total time=   0.0s\n",
            "[CV 1/5] END C=1, max_iter=100, penalty=l2, solver=liblinear;, score=0.887 total time=   0.0s\n",
            "[CV 2/5] END C=1, max_iter=100, penalty=l2, solver=liblinear;, score=0.873 total time=   0.0s\n",
            "[CV 3/5] END C=1, max_iter=100, penalty=l2, solver=liblinear;, score=0.894 total time=   0.0s\n",
            "[CV 4/5] END C=1, max_iter=100, penalty=l2, solver=liblinear;, score=0.911 total time=   0.0s\n",
            "[CV 5/5] END C=1, max_iter=100, penalty=l2, solver=liblinear;, score=0.846 total time=   0.0s\n",
            "[CV 1/5] END C=1, max_iter=200, penalty=l2, solver=newton-cg;, score=0.894 total time=   0.0s\n",
            "[CV 2/5] END C=1, max_iter=200, penalty=l2, solver=newton-cg;, score=0.870 total time=   0.0s\n",
            "[CV 3/5] END C=1, max_iter=200, penalty=l2, solver=newton-cg;, score=0.894 total time=   0.0s\n",
            "[CV 4/5] END C=1, max_iter=200, penalty=l2, solver=newton-cg;, score=0.911 total time=   0.0s\n",
            "[CV 5/5] END C=1, max_iter=200, penalty=l2, solver=newton-cg;, score=0.870 total time=   0.0s\n",
            "[CV 1/5] END C=1, max_iter=200, penalty=l2, solver=lbfgs;, score=0.894 total time=   0.0s\n",
            "[CV 2/5] END C=1, max_iter=200, penalty=l2, solver=lbfgs;, score=0.870 total time=   0.0s\n",
            "[CV 3/5] END C=1, max_iter=200, penalty=l2, solver=lbfgs;, score=0.894 total time=   0.0s\n",
            "[CV 4/5] END C=1, max_iter=200, penalty=l2, solver=lbfgs;, score=0.911 total time=   0.0s\n",
            "[CV 5/5] END C=1, max_iter=200, penalty=l2, solver=lbfgs;, score=0.870 total time=   0.0s\n",
            "[CV 1/5] END C=1, max_iter=200, penalty=l2, solver=liblinear;, score=0.887 total time=   0.0s\n",
            "[CV 2/5] END C=1, max_iter=200, penalty=l2, solver=liblinear;, score=0.873 total time=   0.0s\n",
            "[CV 3/5] END C=1, max_iter=200, penalty=l2, solver=liblinear;, score=0.894 total time=   0.0s\n",
            "[CV 4/5] END C=1, max_iter=200, penalty=l2, solver=liblinear;, score=0.911 total time=   0.0s\n",
            "[CV 5/5] END C=1, max_iter=200, penalty=l2, solver=liblinear;, score=0.846 total time=   0.0s\n",
            "[CV 1/5] END C=1, max_iter=300, penalty=l2, solver=newton-cg;, score=0.894 total time=   0.0s\n",
            "[CV 2/5] END C=1, max_iter=300, penalty=l2, solver=newton-cg;, score=0.870 total time=   0.0s\n",
            "[CV 3/5] END C=1, max_iter=300, penalty=l2, solver=newton-cg;, score=0.894 total time=   0.0s\n",
            "[CV 4/5] END C=1, max_iter=300, penalty=l2, solver=newton-cg;, score=0.911 total time=   0.0s\n",
            "[CV 5/5] END C=1, max_iter=300, penalty=l2, solver=newton-cg;, score=0.870 total time=   0.0s\n",
            "[CV 1/5] END C=1, max_iter=300, penalty=l2, solver=lbfgs;, score=0.894 total time=   0.0s\n",
            "[CV 2/5] END C=1, max_iter=300, penalty=l2, solver=lbfgs;, score=0.870 total time=   0.0s\n",
            "[CV 3/5] END C=1, max_iter=300, penalty=l2, solver=lbfgs;, score=0.894 total time=   0.0s\n",
            "[CV 4/5] END C=1, max_iter=300, penalty=l2, solver=lbfgs;, score=0.911 total time=   0.0s\n",
            "[CV 5/5] END C=1, max_iter=300, penalty=l2, solver=lbfgs;, score=0.870 total time=   0.0s\n",
            "[CV 1/5] END C=1, max_iter=300, penalty=l2, solver=liblinear;, score=0.887 total time=   0.0s\n",
            "[CV 2/5] END C=1, max_iter=300, penalty=l2, solver=liblinear;, score=0.873 total time=   0.0s\n",
            "[CV 3/5] END C=1, max_iter=300, penalty=l2, solver=liblinear;, score=0.894 total time=   0.0s\n",
            "[CV 4/5] END C=1, max_iter=300, penalty=l2, solver=liblinear;, score=0.911 total time=   0.0s\n",
            "[CV 5/5] END C=1, max_iter=300, penalty=l2, solver=liblinear;, score=0.846 total time=   0.0s\n",
            "[CV 1/5] END C=1, max_iter=400, penalty=l2, solver=newton-cg;, score=0.894 total time=   0.0s\n",
            "[CV 2/5] END C=1, max_iter=400, penalty=l2, solver=newton-cg;, score=0.870 total time=   0.0s\n",
            "[CV 3/5] END C=1, max_iter=400, penalty=l2, solver=newton-cg;, score=0.894 total time=   0.0s\n",
            "[CV 4/5] END C=1, max_iter=400, penalty=l2, solver=newton-cg;, score=0.911 total time=   0.0s\n",
            "[CV 5/5] END C=1, max_iter=400, penalty=l2, solver=newton-cg;, score=0.870 total time=   0.0s\n",
            "[CV 1/5] END C=1, max_iter=400, penalty=l2, solver=lbfgs;, score=0.894 total time=   0.0s\n",
            "[CV 2/5] END C=1, max_iter=400, penalty=l2, solver=lbfgs;, score=0.870 total time=   0.0s\n",
            "[CV 3/5] END C=1, max_iter=400, penalty=l2, solver=lbfgs;, score=0.894 total time=   0.0s\n",
            "[CV 4/5] END C=1, max_iter=400, penalty=l2, solver=lbfgs;, score=0.911 total time=   0.0s\n",
            "[CV 5/5] END C=1, max_iter=400, penalty=l2, solver=lbfgs;, score=0.870 total time=   0.0s\n",
            "[CV 1/5] END C=1, max_iter=400, penalty=l2, solver=liblinear;, score=0.887 total time=   0.0s\n",
            "[CV 2/5] END C=1, max_iter=400, penalty=l2, solver=liblinear;, score=0.873 total time=   0.0s\n",
            "[CV 3/5] END C=1, max_iter=400, penalty=l2, solver=liblinear;, score=0.894 total time=   0.0s\n",
            "[CV 4/5] END C=1, max_iter=400, penalty=l2, solver=liblinear;, score=0.911 total time=   0.0s\n",
            "[CV 5/5] END C=1, max_iter=400, penalty=l2, solver=liblinear;, score=0.846 total time=   0.0s\n",
            "[CV 1/5] END C=1, max_iter=500, penalty=l2, solver=newton-cg;, score=0.894 total time=   0.0s\n",
            "[CV 2/5] END C=1, max_iter=500, penalty=l2, solver=newton-cg;, score=0.870 total time=   0.0s\n",
            "[CV 3/5] END C=1, max_iter=500, penalty=l2, solver=newton-cg;, score=0.894 total time=   0.0s\n",
            "[CV 4/5] END C=1, max_iter=500, penalty=l2, solver=newton-cg;, score=0.911 total time=   0.0s\n",
            "[CV 5/5] END C=1, max_iter=500, penalty=l2, solver=newton-cg;, score=0.870 total time=   0.0s\n",
            "[CV 1/5] END C=1, max_iter=500, penalty=l2, solver=lbfgs;, score=0.894 total time=   0.0s\n",
            "[CV 2/5] END C=1, max_iter=500, penalty=l2, solver=lbfgs;, score=0.870 total time=   0.0s\n",
            "[CV 3/5] END C=1, max_iter=500, penalty=l2, solver=lbfgs;, score=0.894 total time=   0.0s\n",
            "[CV 4/5] END C=1, max_iter=500, penalty=l2, solver=lbfgs;, score=0.911 total time=   0.0s\n",
            "[CV 5/5] END C=1, max_iter=500, penalty=l2, solver=lbfgs;, score=0.870 total time=   0.0s\n",
            "[CV 1/5] END C=1, max_iter=500, penalty=l2, solver=liblinear;, score=0.887 total time=   0.0s\n",
            "[CV 2/5] END C=1, max_iter=500, penalty=l2, solver=liblinear;, score=0.873 total time=   0.0s\n",
            "[CV 3/5] END C=1, max_iter=500, penalty=l2, solver=liblinear;, score=0.894 total time=   0.0s\n",
            "[CV 4/5] END C=1, max_iter=500, penalty=l2, solver=liblinear;, score=0.911 total time=   0.0s\n",
            "[CV 5/5] END C=1, max_iter=500, penalty=l2, solver=liblinear;, score=0.846 total time=   0.0s\n",
            "[CV 1/5] END C=1, max_iter=600, penalty=l2, solver=newton-cg;, score=0.894 total time=   0.0s\n",
            "[CV 2/5] END C=1, max_iter=600, penalty=l2, solver=newton-cg;, score=0.870 total time=   0.0s\n",
            "[CV 3/5] END C=1, max_iter=600, penalty=l2, solver=newton-cg;, score=0.894 total time=   0.0s\n",
            "[CV 4/5] END C=1, max_iter=600, penalty=l2, solver=newton-cg;, score=0.911 total time=   0.0s\n",
            "[CV 5/5] END C=1, max_iter=600, penalty=l2, solver=newton-cg;, score=0.870 total time=   0.0s\n",
            "[CV 1/5] END C=1, max_iter=600, penalty=l2, solver=lbfgs;, score=0.894 total time=   0.0s\n",
            "[CV 2/5] END C=1, max_iter=600, penalty=l2, solver=lbfgs;, score=0.870 total time=   0.0s\n",
            "[CV 3/5] END C=1, max_iter=600, penalty=l2, solver=lbfgs;, score=0.894 total time=   0.0s\n",
            "[CV 4/5] END C=1, max_iter=600, penalty=l2, solver=lbfgs;, score=0.911 total time=   0.0s\n",
            "[CV 5/5] END C=1, max_iter=600, penalty=l2, solver=lbfgs;, score=0.870 total time=   0.0s\n",
            "[CV 1/5] END C=1, max_iter=600, penalty=l2, solver=liblinear;, score=0.887 total time=   0.0s\n",
            "[CV 2/5] END C=1, max_iter=600, penalty=l2, solver=liblinear;, score=0.873 total time=   0.0s\n",
            "[CV 3/5] END C=1, max_iter=600, penalty=l2, solver=liblinear;, score=0.894 total time=   0.0s\n",
            "[CV 4/5] END C=1, max_iter=600, penalty=l2, solver=liblinear;, score=0.911 total time=   0.0s\n",
            "[CV 5/5] END C=1, max_iter=600, penalty=l2, solver=liblinear;, score=0.846 total time=   0.0s\n",
            "[CV 1/5] END C=1, max_iter=700, penalty=l2, solver=newton-cg;, score=0.894 total time=   0.0s\n",
            "[CV 2/5] END C=1, max_iter=700, penalty=l2, solver=newton-cg;, score=0.870 total time=   0.0s\n",
            "[CV 3/5] END C=1, max_iter=700, penalty=l2, solver=newton-cg;, score=0.894 total time=   0.0s\n",
            "[CV 4/5] END C=1, max_iter=700, penalty=l2, solver=newton-cg;, score=0.911 total time=   0.0s\n",
            "[CV 5/5] END C=1, max_iter=700, penalty=l2, solver=newton-cg;, score=0.870 total time=   0.0s\n",
            "[CV 1/5] END C=1, max_iter=700, penalty=l2, solver=lbfgs;, score=0.894 total time=   0.0s\n",
            "[CV 2/5] END C=1, max_iter=700, penalty=l2, solver=lbfgs;, score=0.870 total time=   0.0s\n",
            "[CV 3/5] END C=1, max_iter=700, penalty=l2, solver=lbfgs;, score=0.894 total time=   0.0s\n",
            "[CV 4/5] END C=1, max_iter=700, penalty=l2, solver=lbfgs;, score=0.911 total time=   0.0s\n",
            "[CV 5/5] END C=1, max_iter=700, penalty=l2, solver=lbfgs;, score=0.870 total time=   0.0s\n",
            "[CV 1/5] END C=1, max_iter=700, penalty=l2, solver=liblinear;, score=0.887 total time=   0.0s\n",
            "[CV 2/5] END C=1, max_iter=700, penalty=l2, solver=liblinear;, score=0.873 total time=   0.0s\n",
            "[CV 3/5] END C=1, max_iter=700, penalty=l2, solver=liblinear;, score=0.894 total time=   0.0s\n",
            "[CV 4/5] END C=1, max_iter=700, penalty=l2, solver=liblinear;, score=0.911 total time=   0.0s\n",
            "[CV 5/5] END C=1, max_iter=700, penalty=l2, solver=liblinear;, score=0.846 total time=   0.0s\n",
            "[CV 1/5] END C=1, max_iter=800, penalty=l2, solver=newton-cg;, score=0.894 total time=   0.0s\n",
            "[CV 2/5] END C=1, max_iter=800, penalty=l2, solver=newton-cg;, score=0.870 total time=   0.0s\n",
            "[CV 3/5] END C=1, max_iter=800, penalty=l2, solver=newton-cg;, score=0.894 total time=   0.0s\n",
            "[CV 4/5] END C=1, max_iter=800, penalty=l2, solver=newton-cg;, score=0.911 total time=   0.0s\n",
            "[CV 5/5] END C=1, max_iter=800, penalty=l2, solver=newton-cg;, score=0.870 total time=   0.0s\n",
            "[CV 1/5] END C=1, max_iter=800, penalty=l2, solver=lbfgs;, score=0.894 total time=   0.0s\n",
            "[CV 2/5] END C=1, max_iter=800, penalty=l2, solver=lbfgs;, score=0.870 total time=   0.0s\n",
            "[CV 3/5] END C=1, max_iter=800, penalty=l2, solver=lbfgs;, score=0.894 total time=   0.0s\n",
            "[CV 4/5] END C=1, max_iter=800, penalty=l2, solver=lbfgs;, score=0.911 total time=   0.0s\n",
            "[CV 5/5] END C=1, max_iter=800, penalty=l2, solver=lbfgs;, score=0.870 total time=   0.0s\n",
            "[CV 1/5] END C=1, max_iter=800, penalty=l2, solver=liblinear;, score=0.887 total time=   0.0s\n",
            "[CV 2/5] END C=1, max_iter=800, penalty=l2, solver=liblinear;, score=0.873 total time=   0.0s\n",
            "[CV 3/5] END C=1, max_iter=800, penalty=l2, solver=liblinear;, score=0.894 total time=   0.0s\n",
            "[CV 4/5] END C=1, max_iter=800, penalty=l2, solver=liblinear;, score=0.911 total time=   0.0s\n",
            "[CV 5/5] END C=1, max_iter=800, penalty=l2, solver=liblinear;, score=0.846 total time=   0.0s\n",
            "[CV 1/5] END C=10, max_iter=100, penalty=l2, solver=newton-cg;, score=0.898 total time=   0.0s\n",
            "[CV 2/5] END C=10, max_iter=100, penalty=l2, solver=newton-cg;, score=0.884 total time=   0.0s\n",
            "[CV 3/5] END C=10, max_iter=100, penalty=l2, solver=newton-cg;, score=0.897 total time=   0.0s\n",
            "[CV 4/5] END C=10, max_iter=100, penalty=l2, solver=newton-cg;, score=0.904 total time=   0.0s\n",
            "[CV 5/5] END C=10, max_iter=100, penalty=l2, solver=newton-cg;, score=0.856 total time=   0.0s\n"
          ]
        },
        {
          "output_type": "stream",
          "name": "stderr",
          "text": [
            "/usr/local/lib/python3.8/dist-packages/sklearn/linear_model/_logistic.py:814: ConvergenceWarning: lbfgs failed to converge (status=1):\n",
            "STOP: TOTAL NO. of ITERATIONS REACHED LIMIT.\n",
            "\n",
            "Increase the number of iterations (max_iter) or scale the data as shown in:\n",
            "    https://scikit-learn.org/stable/modules/preprocessing.html\n",
            "Please also refer to the documentation for alternative solver options:\n",
            "    https://scikit-learn.org/stable/modules/linear_model.html#logistic-regression\n",
            "  n_iter_i = _check_optimize_result(\n",
            "/usr/local/lib/python3.8/dist-packages/sklearn/linear_model/_logistic.py:814: ConvergenceWarning: lbfgs failed to converge (status=1):\n",
            "STOP: TOTAL NO. of ITERATIONS REACHED LIMIT.\n",
            "\n",
            "Increase the number of iterations (max_iter) or scale the data as shown in:\n",
            "    https://scikit-learn.org/stable/modules/preprocessing.html\n",
            "Please also refer to the documentation for alternative solver options:\n",
            "    https://scikit-learn.org/stable/modules/linear_model.html#logistic-regression\n",
            "  n_iter_i = _check_optimize_result(\n",
            "/usr/local/lib/python3.8/dist-packages/sklearn/linear_model/_logistic.py:814: ConvergenceWarning: lbfgs failed to converge (status=1):\n",
            "STOP: TOTAL NO. of ITERATIONS REACHED LIMIT.\n",
            "\n",
            "Increase the number of iterations (max_iter) or scale the data as shown in:\n",
            "    https://scikit-learn.org/stable/modules/preprocessing.html\n",
            "Please also refer to the documentation for alternative solver options:\n",
            "    https://scikit-learn.org/stable/modules/linear_model.html#logistic-regression\n",
            "  n_iter_i = _check_optimize_result(\n",
            "/usr/local/lib/python3.8/dist-packages/sklearn/linear_model/_logistic.py:814: ConvergenceWarning: lbfgs failed to converge (status=1):\n",
            "STOP: TOTAL NO. of ITERATIONS REACHED LIMIT.\n",
            "\n",
            "Increase the number of iterations (max_iter) or scale the data as shown in:\n",
            "    https://scikit-learn.org/stable/modules/preprocessing.html\n",
            "Please also refer to the documentation for alternative solver options:\n",
            "    https://scikit-learn.org/stable/modules/linear_model.html#logistic-regression\n",
            "  n_iter_i = _check_optimize_result(\n",
            "/usr/local/lib/python3.8/dist-packages/sklearn/linear_model/_logistic.py:814: ConvergenceWarning: lbfgs failed to converge (status=1):\n",
            "STOP: TOTAL NO. of ITERATIONS REACHED LIMIT.\n",
            "\n",
            "Increase the number of iterations (max_iter) or scale the data as shown in:\n",
            "    https://scikit-learn.org/stable/modules/preprocessing.html\n",
            "Please also refer to the documentation for alternative solver options:\n",
            "    https://scikit-learn.org/stable/modules/linear_model.html#logistic-regression\n",
            "  n_iter_i = _check_optimize_result(\n"
          ]
        },
        {
          "output_type": "stream",
          "name": "stdout",
          "text": [
            "[CV 1/5] END C=10, max_iter=100, penalty=l2, solver=lbfgs;, score=0.894 total time=   0.0s\n",
            "[CV 2/5] END C=10, max_iter=100, penalty=l2, solver=lbfgs;, score=0.887 total time=   0.0s\n",
            "[CV 3/5] END C=10, max_iter=100, penalty=l2, solver=lbfgs;, score=0.897 total time=   0.0s\n",
            "[CV 4/5] END C=10, max_iter=100, penalty=l2, solver=lbfgs;, score=0.904 total time=   0.0s\n",
            "[CV 5/5] END C=10, max_iter=100, penalty=l2, solver=lbfgs;, score=0.856 total time=   0.0s\n",
            "[CV 1/5] END C=10, max_iter=100, penalty=l2, solver=liblinear;, score=0.891 total time=   0.0s\n",
            "[CV 2/5] END C=10, max_iter=100, penalty=l2, solver=liblinear;, score=0.873 total time=   0.0s\n",
            "[CV 3/5] END C=10, max_iter=100, penalty=l2, solver=liblinear;, score=0.894 total time=   0.0s\n",
            "[CV 4/5] END C=10, max_iter=100, penalty=l2, solver=liblinear;, score=0.908 total time=   0.0s\n",
            "[CV 5/5] END C=10, max_iter=100, penalty=l2, solver=liblinear;, score=0.846 total time=   0.0s\n",
            "[CV 1/5] END C=10, max_iter=200, penalty=l2, solver=newton-cg;, score=0.898 total time=   0.0s\n",
            "[CV 2/5] END C=10, max_iter=200, penalty=l2, solver=newton-cg;, score=0.884 total time=   0.0s\n",
            "[CV 3/5] END C=10, max_iter=200, penalty=l2, solver=newton-cg;, score=0.897 total time=   0.0s\n",
            "[CV 4/5] END C=10, max_iter=200, penalty=l2, solver=newton-cg;, score=0.904 total time=   0.0s\n",
            "[CV 5/5] END C=10, max_iter=200, penalty=l2, solver=newton-cg;, score=0.856 total time=   0.0s\n",
            "[CV 1/5] END C=10, max_iter=200, penalty=l2, solver=lbfgs;, score=0.898 total time=   0.0s\n",
            "[CV 2/5] END C=10, max_iter=200, penalty=l2, solver=lbfgs;, score=0.884 total time=   0.0s\n",
            "[CV 3/5] END C=10, max_iter=200, penalty=l2, solver=lbfgs;, score=0.897 total time=   0.0s\n",
            "[CV 4/5] END C=10, max_iter=200, penalty=l2, solver=lbfgs;, score=0.904 total time=   0.0s\n",
            "[CV 5/5] END C=10, max_iter=200, penalty=l2, solver=lbfgs;, score=0.856 total time=   0.0s\n",
            "[CV 1/5] END C=10, max_iter=200, penalty=l2, solver=liblinear;, score=0.891 total time=   0.0s\n",
            "[CV 2/5] END C=10, max_iter=200, penalty=l2, solver=liblinear;, score=0.873 total time=   0.0s\n",
            "[CV 3/5] END C=10, max_iter=200, penalty=l2, solver=liblinear;, score=0.894 total time=   0.0s\n",
            "[CV 4/5] END C=10, max_iter=200, penalty=l2, solver=liblinear;, score=0.908 total time=   0.0s\n",
            "[CV 5/5] END C=10, max_iter=200, penalty=l2, solver=liblinear;, score=0.846 total time=   0.0s\n",
            "[CV 1/5] END C=10, max_iter=300, penalty=l2, solver=newton-cg;, score=0.898 total time=   0.0s\n",
            "[CV 2/5] END C=10, max_iter=300, penalty=l2, solver=newton-cg;, score=0.884 total time=   0.0s\n",
            "[CV 3/5] END C=10, max_iter=300, penalty=l2, solver=newton-cg;, score=0.897 total time=   0.0s\n",
            "[CV 4/5] END C=10, max_iter=300, penalty=l2, solver=newton-cg;, score=0.904 total time=   0.0s\n",
            "[CV 5/5] END C=10, max_iter=300, penalty=l2, solver=newton-cg;, score=0.856 total time=   0.0s\n",
            "[CV 1/5] END C=10, max_iter=300, penalty=l2, solver=lbfgs;, score=0.898 total time=   0.0s\n",
            "[CV 2/5] END C=10, max_iter=300, penalty=l2, solver=lbfgs;, score=0.884 total time=   0.0s\n",
            "[CV 3/5] END C=10, max_iter=300, penalty=l2, solver=lbfgs;, score=0.897 total time=   0.1s\n",
            "[CV 4/5] END C=10, max_iter=300, penalty=l2, solver=lbfgs;, score=0.904 total time=   0.0s\n",
            "[CV 5/5] END C=10, max_iter=300, penalty=l2, solver=lbfgs;, score=0.856 total time=   0.0s\n",
            "[CV 1/5] END C=10, max_iter=300, penalty=l2, solver=liblinear;, score=0.891 total time=   0.0s\n",
            "[CV 2/5] END C=10, max_iter=300, penalty=l2, solver=liblinear;, score=0.873 total time=   0.0s\n",
            "[CV 3/5] END C=10, max_iter=300, penalty=l2, solver=liblinear;, score=0.894 total time=   0.0s\n",
            "[CV 4/5] END C=10, max_iter=300, penalty=l2, solver=liblinear;, score=0.908 total time=   0.0s\n",
            "[CV 5/5] END C=10, max_iter=300, penalty=l2, solver=liblinear;, score=0.846 total time=   0.0s\n",
            "[CV 1/5] END C=10, max_iter=400, penalty=l2, solver=newton-cg;, score=0.898 total time=   0.0s\n",
            "[CV 2/5] END C=10, max_iter=400, penalty=l2, solver=newton-cg;, score=0.884 total time=   0.0s\n",
            "[CV 3/5] END C=10, max_iter=400, penalty=l2, solver=newton-cg;, score=0.897 total time=   0.0s\n",
            "[CV 4/5] END C=10, max_iter=400, penalty=l2, solver=newton-cg;, score=0.904 total time=   0.0s\n",
            "[CV 5/5] END C=10, max_iter=400, penalty=l2, solver=newton-cg;, score=0.856 total time=   0.0s\n",
            "[CV 1/5] END C=10, max_iter=400, penalty=l2, solver=lbfgs;, score=0.898 total time=   0.0s\n",
            "[CV 2/5] END C=10, max_iter=400, penalty=l2, solver=lbfgs;, score=0.884 total time=   0.0s\n",
            "[CV 3/5] END C=10, max_iter=400, penalty=l2, solver=lbfgs;, score=0.897 total time=   0.0s\n",
            "[CV 4/5] END C=10, max_iter=400, penalty=l2, solver=lbfgs;, score=0.904 total time=   0.0s\n",
            "[CV 5/5] END C=10, max_iter=400, penalty=l2, solver=lbfgs;, score=0.856 total time=   0.0s\n",
            "[CV 1/5] END C=10, max_iter=400, penalty=l2, solver=liblinear;, score=0.891 total time=   0.0s\n",
            "[CV 2/5] END C=10, max_iter=400, penalty=l2, solver=liblinear;, score=0.873 total time=   0.0s\n",
            "[CV 3/5] END C=10, max_iter=400, penalty=l2, solver=liblinear;, score=0.894 total time=   0.0s\n",
            "[CV 4/5] END C=10, max_iter=400, penalty=l2, solver=liblinear;, score=0.908 total time=   0.0s\n",
            "[CV 5/5] END C=10, max_iter=400, penalty=l2, solver=liblinear;, score=0.846 total time=   0.0s\n",
            "[CV 1/5] END C=10, max_iter=500, penalty=l2, solver=newton-cg;, score=0.898 total time=   0.0s\n",
            "[CV 2/5] END C=10, max_iter=500, penalty=l2, solver=newton-cg;, score=0.884 total time=   0.0s\n",
            "[CV 3/5] END C=10, max_iter=500, penalty=l2, solver=newton-cg;, score=0.897 total time=   0.0s\n",
            "[CV 4/5] END C=10, max_iter=500, penalty=l2, solver=newton-cg;, score=0.904 total time=   0.0s\n",
            "[CV 5/5] END C=10, max_iter=500, penalty=l2, solver=newton-cg;, score=0.856 total time=   0.0s\n",
            "[CV 1/5] END C=10, max_iter=500, penalty=l2, solver=lbfgs;, score=0.898 total time=   0.1s\n",
            "[CV 2/5] END C=10, max_iter=500, penalty=l2, solver=lbfgs;, score=0.884 total time=   0.0s\n",
            "[CV 3/5] END C=10, max_iter=500, penalty=l2, solver=lbfgs;, score=0.897 total time=   0.0s\n",
            "[CV 4/5] END C=10, max_iter=500, penalty=l2, solver=lbfgs;, score=0.904 total time=   0.0s\n",
            "[CV 5/5] END C=10, max_iter=500, penalty=l2, solver=lbfgs;, score=0.856 total time=   0.0s\n",
            "[CV 1/5] END C=10, max_iter=500, penalty=l2, solver=liblinear;, score=0.891 total time=   0.0s\n",
            "[CV 2/5] END C=10, max_iter=500, penalty=l2, solver=liblinear;, score=0.873 total time=   0.0s\n",
            "[CV 3/5] END C=10, max_iter=500, penalty=l2, solver=liblinear;, score=0.894 total time=   0.0s\n",
            "[CV 4/5] END C=10, max_iter=500, penalty=l2, solver=liblinear;, score=0.908 total time=   0.0s\n",
            "[CV 5/5] END C=10, max_iter=500, penalty=l2, solver=liblinear;, score=0.846 total time=   0.0s\n",
            "[CV 1/5] END C=10, max_iter=600, penalty=l2, solver=newton-cg;, score=0.898 total time=   0.0s\n",
            "[CV 2/5] END C=10, max_iter=600, penalty=l2, solver=newton-cg;, score=0.884 total time=   0.0s\n",
            "[CV 3/5] END C=10, max_iter=600, penalty=l2, solver=newton-cg;, score=0.897 total time=   0.0s\n",
            "[CV 4/5] END C=10, max_iter=600, penalty=l2, solver=newton-cg;, score=0.904 total time=   0.0s\n",
            "[CV 5/5] END C=10, max_iter=600, penalty=l2, solver=newton-cg;, score=0.856 total time=   0.0s\n",
            "[CV 1/5] END C=10, max_iter=600, penalty=l2, solver=lbfgs;, score=0.898 total time=   0.1s\n",
            "[CV 2/5] END C=10, max_iter=600, penalty=l2, solver=lbfgs;, score=0.884 total time=   0.0s\n",
            "[CV 3/5] END C=10, max_iter=600, penalty=l2, solver=lbfgs;, score=0.897 total time=   0.0s\n",
            "[CV 4/5] END C=10, max_iter=600, penalty=l2, solver=lbfgs;, score=0.904 total time=   0.0s\n",
            "[CV 5/5] END C=10, max_iter=600, penalty=l2, solver=lbfgs;, score=0.856 total time=   0.0s\n",
            "[CV 1/5] END C=10, max_iter=600, penalty=l2, solver=liblinear;, score=0.891 total time=   0.0s\n",
            "[CV 2/5] END C=10, max_iter=600, penalty=l2, solver=liblinear;, score=0.873 total time=   0.0s\n",
            "[CV 3/5] END C=10, max_iter=600, penalty=l2, solver=liblinear;, score=0.894 total time=   0.0s\n",
            "[CV 4/5] END C=10, max_iter=600, penalty=l2, solver=liblinear;, score=0.908 total time=   0.0s\n",
            "[CV 5/5] END C=10, max_iter=600, penalty=l2, solver=liblinear;, score=0.846 total time=   0.0s\n",
            "[CV 1/5] END C=10, max_iter=700, penalty=l2, solver=newton-cg;, score=0.898 total time=   0.0s\n",
            "[CV 2/5] END C=10, max_iter=700, penalty=l2, solver=newton-cg;, score=0.884 total time=   0.0s\n",
            "[CV 3/5] END C=10, max_iter=700, penalty=l2, solver=newton-cg;, score=0.897 total time=   0.0s\n",
            "[CV 4/5] END C=10, max_iter=700, penalty=l2, solver=newton-cg;, score=0.904 total time=   0.0s\n",
            "[CV 5/5] END C=10, max_iter=700, penalty=l2, solver=newton-cg;, score=0.856 total time=   0.0s\n",
            "[CV 1/5] END C=10, max_iter=700, penalty=l2, solver=lbfgs;, score=0.898 total time=   0.0s\n",
            "[CV 2/5] END C=10, max_iter=700, penalty=l2, solver=lbfgs;, score=0.884 total time=   0.0s\n",
            "[CV 3/5] END C=10, max_iter=700, penalty=l2, solver=lbfgs;, score=0.897 total time=   0.0s\n",
            "[CV 4/5] END C=10, max_iter=700, penalty=l2, solver=lbfgs;, score=0.904 total time=   0.0s\n",
            "[CV 5/5] END C=10, max_iter=700, penalty=l2, solver=lbfgs;, score=0.856 total time=   0.0s\n",
            "[CV 1/5] END C=10, max_iter=700, penalty=l2, solver=liblinear;, score=0.891 total time=   0.0s\n",
            "[CV 2/5] END C=10, max_iter=700, penalty=l2, solver=liblinear;, score=0.873 total time=   0.0s\n",
            "[CV 3/5] END C=10, max_iter=700, penalty=l2, solver=liblinear;, score=0.894 total time=   0.0s\n",
            "[CV 4/5] END C=10, max_iter=700, penalty=l2, solver=liblinear;, score=0.908 total time=   0.0s\n",
            "[CV 5/5] END C=10, max_iter=700, penalty=l2, solver=liblinear;, score=0.846 total time=   0.0s\n",
            "[CV 1/5] END C=10, max_iter=800, penalty=l2, solver=newton-cg;, score=0.898 total time=   0.0s\n",
            "[CV 2/5] END C=10, max_iter=800, penalty=l2, solver=newton-cg;, score=0.884 total time=   0.0s\n",
            "[CV 3/5] END C=10, max_iter=800, penalty=l2, solver=newton-cg;, score=0.897 total time=   0.0s\n",
            "[CV 4/5] END C=10, max_iter=800, penalty=l2, solver=newton-cg;, score=0.904 total time=   0.0s\n",
            "[CV 5/5] END C=10, max_iter=800, penalty=l2, solver=newton-cg;, score=0.856 total time=   0.0s\n",
            "[CV 1/5] END C=10, max_iter=800, penalty=l2, solver=lbfgs;, score=0.898 total time=   0.0s\n",
            "[CV 2/5] END C=10, max_iter=800, penalty=l2, solver=lbfgs;, score=0.884 total time=   0.0s\n",
            "[CV 3/5] END C=10, max_iter=800, penalty=l2, solver=lbfgs;, score=0.897 total time=   0.0s\n",
            "[CV 4/5] END C=10, max_iter=800, penalty=l2, solver=lbfgs;, score=0.904 total time=   0.0s\n",
            "[CV 5/5] END C=10, max_iter=800, penalty=l2, solver=lbfgs;, score=0.856 total time=   0.0s\n",
            "[CV 1/5] END C=10, max_iter=800, penalty=l2, solver=liblinear;, score=0.891 total time=   0.0s\n",
            "[CV 2/5] END C=10, max_iter=800, penalty=l2, solver=liblinear;, score=0.873 total time=   0.0s\n",
            "[CV 3/5] END C=10, max_iter=800, penalty=l2, solver=liblinear;, score=0.894 total time=   0.0s\n",
            "[CV 4/5] END C=10, max_iter=800, penalty=l2, solver=liblinear;, score=0.908 total time=   0.0s\n",
            "[CV 5/5] END C=10, max_iter=800, penalty=l2, solver=liblinear;, score=0.846 total time=   0.0s\n",
            "[CV 1/5] END C=100, max_iter=100, penalty=l2, solver=newton-cg;, score=0.898 total time=   0.0s\n",
            "[CV 2/5] END C=100, max_iter=100, penalty=l2, solver=newton-cg;, score=0.880 total time=   0.0s\n",
            "[CV 3/5] END C=100, max_iter=100, penalty=l2, solver=newton-cg;, score=0.901 total time=   0.0s\n",
            "[CV 4/5] END C=100, max_iter=100, penalty=l2, solver=newton-cg;, score=0.897 total time=   0.0s\n",
            "[CV 5/5] END C=100, max_iter=100, penalty=l2, solver=newton-cg;, score=0.853 total time=   0.0s\n",
            "[CV 1/5] END C=100, max_iter=100, penalty=l2, solver=lbfgs;, score=0.898 total time=   0.0s\n",
            "[CV 2/5] END C=100, max_iter=100, penalty=l2, solver=lbfgs;, score=0.880 total time=   0.0s\n"
          ]
        },
        {
          "output_type": "stream",
          "name": "stderr",
          "text": [
            "/usr/local/lib/python3.8/dist-packages/sklearn/linear_model/_logistic.py:814: ConvergenceWarning: lbfgs failed to converge (status=1):\n",
            "STOP: TOTAL NO. of ITERATIONS REACHED LIMIT.\n",
            "\n",
            "Increase the number of iterations (max_iter) or scale the data as shown in:\n",
            "    https://scikit-learn.org/stable/modules/preprocessing.html\n",
            "Please also refer to the documentation for alternative solver options:\n",
            "    https://scikit-learn.org/stable/modules/linear_model.html#logistic-regression\n",
            "  n_iter_i = _check_optimize_result(\n",
            "/usr/local/lib/python3.8/dist-packages/sklearn/linear_model/_logistic.py:814: ConvergenceWarning: lbfgs failed to converge (status=1):\n",
            "STOP: TOTAL NO. of ITERATIONS REACHED LIMIT.\n",
            "\n",
            "Increase the number of iterations (max_iter) or scale the data as shown in:\n",
            "    https://scikit-learn.org/stable/modules/preprocessing.html\n",
            "Please also refer to the documentation for alternative solver options:\n",
            "    https://scikit-learn.org/stable/modules/linear_model.html#logistic-regression\n",
            "  n_iter_i = _check_optimize_result(\n",
            "/usr/local/lib/python3.8/dist-packages/sklearn/linear_model/_logistic.py:814: ConvergenceWarning: lbfgs failed to converge (status=1):\n",
            "STOP: TOTAL NO. of ITERATIONS REACHED LIMIT.\n",
            "\n",
            "Increase the number of iterations (max_iter) or scale the data as shown in:\n",
            "    https://scikit-learn.org/stable/modules/preprocessing.html\n",
            "Please also refer to the documentation for alternative solver options:\n",
            "    https://scikit-learn.org/stable/modules/linear_model.html#logistic-regression\n",
            "  n_iter_i = _check_optimize_result(\n",
            "/usr/local/lib/python3.8/dist-packages/sklearn/linear_model/_logistic.py:814: ConvergenceWarning: lbfgs failed to converge (status=1):\n",
            "STOP: TOTAL NO. of ITERATIONS REACHED LIMIT.\n",
            "\n",
            "Increase the number of iterations (max_iter) or scale the data as shown in:\n",
            "    https://scikit-learn.org/stable/modules/preprocessing.html\n",
            "Please also refer to the documentation for alternative solver options:\n",
            "    https://scikit-learn.org/stable/modules/linear_model.html#logistic-regression\n",
            "  n_iter_i = _check_optimize_result(\n",
            "/usr/local/lib/python3.8/dist-packages/sklearn/linear_model/_logistic.py:814: ConvergenceWarning: lbfgs failed to converge (status=1):\n",
            "STOP: TOTAL NO. of ITERATIONS REACHED LIMIT.\n",
            "\n",
            "Increase the number of iterations (max_iter) or scale the data as shown in:\n",
            "    https://scikit-learn.org/stable/modules/preprocessing.html\n",
            "Please also refer to the documentation for alternative solver options:\n",
            "    https://scikit-learn.org/stable/modules/linear_model.html#logistic-regression\n",
            "  n_iter_i = _check_optimize_result(\n"
          ]
        },
        {
          "output_type": "stream",
          "name": "stdout",
          "text": [
            "[CV 3/5] END C=100, max_iter=100, penalty=l2, solver=lbfgs;, score=0.901 total time=   0.0s\n",
            "[CV 4/5] END C=100, max_iter=100, penalty=l2, solver=lbfgs;, score=0.897 total time=   0.0s\n",
            "[CV 5/5] END C=100, max_iter=100, penalty=l2, solver=lbfgs;, score=0.853 total time=   0.0s\n",
            "[CV 1/5] END C=100, max_iter=100, penalty=l2, solver=liblinear;, score=0.898 total time=   0.0s\n",
            "[CV 2/5] END C=100, max_iter=100, penalty=l2, solver=liblinear;, score=0.880 total time=   0.0s\n",
            "[CV 3/5] END C=100, max_iter=100, penalty=l2, solver=liblinear;, score=0.901 total time=   0.0s\n",
            "[CV 4/5] END C=100, max_iter=100, penalty=l2, solver=liblinear;, score=0.897 total time=   0.0s\n",
            "[CV 5/5] END C=100, max_iter=100, penalty=l2, solver=liblinear;, score=0.853 total time=   0.0s\n",
            "[CV 1/5] END C=100, max_iter=200, penalty=l2, solver=newton-cg;, score=0.898 total time=   0.0s\n",
            "[CV 2/5] END C=100, max_iter=200, penalty=l2, solver=newton-cg;, score=0.880 total time=   0.0s\n",
            "[CV 3/5] END C=100, max_iter=200, penalty=l2, solver=newton-cg;, score=0.901 total time=   0.0s\n",
            "[CV 4/5] END C=100, max_iter=200, penalty=l2, solver=newton-cg;, score=0.897 total time=   0.0s\n",
            "[CV 5/5] END C=100, max_iter=200, penalty=l2, solver=newton-cg;, score=0.853 total time=   0.0s\n",
            "[CV 1/5] END C=100, max_iter=200, penalty=l2, solver=lbfgs;, score=0.898 total time=   0.1s\n",
            "[CV 2/5] END C=100, max_iter=200, penalty=l2, solver=lbfgs;, score=0.880 total time=   0.1s\n"
          ]
        },
        {
          "output_type": "stream",
          "name": "stderr",
          "text": [
            "/usr/local/lib/python3.8/dist-packages/sklearn/linear_model/_logistic.py:814: ConvergenceWarning: lbfgs failed to converge (status=1):\n",
            "STOP: TOTAL NO. of ITERATIONS REACHED LIMIT.\n",
            "\n",
            "Increase the number of iterations (max_iter) or scale the data as shown in:\n",
            "    https://scikit-learn.org/stable/modules/preprocessing.html\n",
            "Please also refer to the documentation for alternative solver options:\n",
            "    https://scikit-learn.org/stable/modules/linear_model.html#logistic-regression\n",
            "  n_iter_i = _check_optimize_result(\n",
            "/usr/local/lib/python3.8/dist-packages/sklearn/linear_model/_logistic.py:814: ConvergenceWarning: lbfgs failed to converge (status=1):\n",
            "STOP: TOTAL NO. of ITERATIONS REACHED LIMIT.\n",
            "\n",
            "Increase the number of iterations (max_iter) or scale the data as shown in:\n",
            "    https://scikit-learn.org/stable/modules/preprocessing.html\n",
            "Please also refer to the documentation for alternative solver options:\n",
            "    https://scikit-learn.org/stable/modules/linear_model.html#logistic-regression\n",
            "  n_iter_i = _check_optimize_result(\n",
            "/usr/local/lib/python3.8/dist-packages/sklearn/linear_model/_logistic.py:814: ConvergenceWarning: lbfgs failed to converge (status=1):\n",
            "STOP: TOTAL NO. of ITERATIONS REACHED LIMIT.\n",
            "\n",
            "Increase the number of iterations (max_iter) or scale the data as shown in:\n",
            "    https://scikit-learn.org/stable/modules/preprocessing.html\n",
            "Please also refer to the documentation for alternative solver options:\n",
            "    https://scikit-learn.org/stable/modules/linear_model.html#logistic-regression\n",
            "  n_iter_i = _check_optimize_result(\n"
          ]
        },
        {
          "output_type": "stream",
          "name": "stdout",
          "text": [
            "[CV 3/5] END C=100, max_iter=200, penalty=l2, solver=lbfgs;, score=0.901 total time=   0.1s\n",
            "[CV 4/5] END C=100, max_iter=200, penalty=l2, solver=lbfgs;, score=0.897 total time=   0.1s\n",
            "[CV 5/5] END C=100, max_iter=200, penalty=l2, solver=lbfgs;, score=0.853 total time=   0.1s\n",
            "[CV 1/5] END C=100, max_iter=200, penalty=l2, solver=liblinear;, score=0.898 total time=   0.0s\n",
            "[CV 2/5] END C=100, max_iter=200, penalty=l2, solver=liblinear;, score=0.880 total time=   0.0s\n",
            "[CV 3/5] END C=100, max_iter=200, penalty=l2, solver=liblinear;, score=0.901 total time=   0.0s\n",
            "[CV 4/5] END C=100, max_iter=200, penalty=l2, solver=liblinear;, score=0.897 total time=   0.0s\n",
            "[CV 5/5] END C=100, max_iter=200, penalty=l2, solver=liblinear;, score=0.853 total time=   0.0s\n"
          ]
        },
        {
          "output_type": "stream",
          "name": "stderr",
          "text": [
            "/usr/local/lib/python3.8/dist-packages/sklearn/linear_model/_logistic.py:814: ConvergenceWarning: lbfgs failed to converge (status=1):\n",
            "STOP: TOTAL NO. of ITERATIONS REACHED LIMIT.\n",
            "\n",
            "Increase the number of iterations (max_iter) or scale the data as shown in:\n",
            "    https://scikit-learn.org/stable/modules/preprocessing.html\n",
            "Please also refer to the documentation for alternative solver options:\n",
            "    https://scikit-learn.org/stable/modules/linear_model.html#logistic-regression\n",
            "  n_iter_i = _check_optimize_result(\n",
            "/usr/local/lib/python3.8/dist-packages/sklearn/linear_model/_logistic.py:814: ConvergenceWarning: lbfgs failed to converge (status=1):\n",
            "STOP: TOTAL NO. of ITERATIONS REACHED LIMIT.\n",
            "\n",
            "Increase the number of iterations (max_iter) or scale the data as shown in:\n",
            "    https://scikit-learn.org/stable/modules/preprocessing.html\n",
            "Please also refer to the documentation for alternative solver options:\n",
            "    https://scikit-learn.org/stable/modules/linear_model.html#logistic-regression\n",
            "  n_iter_i = _check_optimize_result(\n"
          ]
        },
        {
          "output_type": "stream",
          "name": "stdout",
          "text": [
            "[CV 1/5] END C=100, max_iter=300, penalty=l2, solver=newton-cg;, score=0.898 total time=   0.0s\n",
            "[CV 2/5] END C=100, max_iter=300, penalty=l2, solver=newton-cg;, score=0.880 total time=   0.0s\n",
            "[CV 3/5] END C=100, max_iter=300, penalty=l2, solver=newton-cg;, score=0.901 total time=   0.0s\n",
            "[CV 4/5] END C=100, max_iter=300, penalty=l2, solver=newton-cg;, score=0.897 total time=   0.0s\n",
            "[CV 5/5] END C=100, max_iter=300, penalty=l2, solver=newton-cg;, score=0.853 total time=   0.0s\n",
            "[CV 1/5] END C=100, max_iter=300, penalty=l2, solver=lbfgs;, score=0.898 total time=   0.1s\n",
            "[CV 2/5] END C=100, max_iter=300, penalty=l2, solver=lbfgs;, score=0.880 total time=   0.1s\n",
            "[CV 3/5] END C=100, max_iter=300, penalty=l2, solver=lbfgs;, score=0.901 total time=   0.1s\n",
            "[CV 4/5] END C=100, max_iter=300, penalty=l2, solver=lbfgs;, score=0.897 total time=   0.1s\n",
            "[CV 5/5] END C=100, max_iter=300, penalty=l2, solver=lbfgs;, score=0.853 total time=   0.1s\n",
            "[CV 1/5] END C=100, max_iter=300, penalty=l2, solver=liblinear;, score=0.898 total time=   0.0s\n",
            "[CV 2/5] END C=100, max_iter=300, penalty=l2, solver=liblinear;, score=0.880 total time=   0.0s\n",
            "[CV 3/5] END C=100, max_iter=300, penalty=l2, solver=liblinear;, score=0.901 total time=   0.0s\n",
            "[CV 4/5] END C=100, max_iter=300, penalty=l2, solver=liblinear;, score=0.897 total time=   0.0s\n",
            "[CV 5/5] END C=100, max_iter=300, penalty=l2, solver=liblinear;, score=0.853 total time=   0.0s\n",
            "[CV 1/5] END C=100, max_iter=400, penalty=l2, solver=newton-cg;, score=0.898 total time=   0.0s\n",
            "[CV 2/5] END C=100, max_iter=400, penalty=l2, solver=newton-cg;, score=0.880 total time=   0.0s\n",
            "[CV 3/5] END C=100, max_iter=400, penalty=l2, solver=newton-cg;, score=0.901 total time=   0.0s\n",
            "[CV 4/5] END C=100, max_iter=400, penalty=l2, solver=newton-cg;, score=0.897 total time=   0.0s\n",
            "[CV 5/5] END C=100, max_iter=400, penalty=l2, solver=newton-cg;, score=0.853 total time=   0.0s\n",
            "[CV 1/5] END C=100, max_iter=400, penalty=l2, solver=lbfgs;, score=0.898 total time=   0.1s\n",
            "[CV 2/5] END C=100, max_iter=400, penalty=l2, solver=lbfgs;, score=0.880 total time=   0.1s\n",
            "[CV 3/5] END C=100, max_iter=400, penalty=l2, solver=lbfgs;, score=0.901 total time=   0.1s\n",
            "[CV 4/5] END C=100, max_iter=400, penalty=l2, solver=lbfgs;, score=0.897 total time=   0.1s\n",
            "[CV 5/5] END C=100, max_iter=400, penalty=l2, solver=lbfgs;, score=0.853 total time=   0.1s\n",
            "[CV 1/5] END C=100, max_iter=400, penalty=l2, solver=liblinear;, score=0.898 total time=   0.0s\n",
            "[CV 2/5] END C=100, max_iter=400, penalty=l2, solver=liblinear;, score=0.880 total time=   0.0s\n",
            "[CV 3/5] END C=100, max_iter=400, penalty=l2, solver=liblinear;, score=0.901 total time=   0.0s\n",
            "[CV 4/5] END C=100, max_iter=400, penalty=l2, solver=liblinear;, score=0.897 total time=   0.0s\n",
            "[CV 5/5] END C=100, max_iter=400, penalty=l2, solver=liblinear;, score=0.853 total time=   0.0s\n",
            "[CV 1/5] END C=100, max_iter=500, penalty=l2, solver=newton-cg;, score=0.898 total time=   0.0s\n",
            "[CV 2/5] END C=100, max_iter=500, penalty=l2, solver=newton-cg;, score=0.880 total time=   0.0s\n",
            "[CV 3/5] END C=100, max_iter=500, penalty=l2, solver=newton-cg;, score=0.901 total time=   0.0s\n",
            "[CV 4/5] END C=100, max_iter=500, penalty=l2, solver=newton-cg;, score=0.897 total time=   0.0s\n",
            "[CV 5/5] END C=100, max_iter=500, penalty=l2, solver=newton-cg;, score=0.853 total time=   0.0s\n",
            "[CV 1/5] END C=100, max_iter=500, penalty=l2, solver=lbfgs;, score=0.898 total time=   0.1s\n",
            "[CV 2/5] END C=100, max_iter=500, penalty=l2, solver=lbfgs;, score=0.880 total time=   0.1s\n",
            "[CV 3/5] END C=100, max_iter=500, penalty=l2, solver=lbfgs;, score=0.901 total time=   0.1s\n",
            "[CV 4/5] END C=100, max_iter=500, penalty=l2, solver=lbfgs;, score=0.897 total time=   0.1s\n",
            "[CV 5/5] END C=100, max_iter=500, penalty=l2, solver=lbfgs;, score=0.853 total time=   0.1s\n",
            "[CV 1/5] END C=100, max_iter=500, penalty=l2, solver=liblinear;, score=0.898 total time=   0.0s\n",
            "[CV 2/5] END C=100, max_iter=500, penalty=l2, solver=liblinear;, score=0.880 total time=   0.0s\n",
            "[CV 3/5] END C=100, max_iter=500, penalty=l2, solver=liblinear;, score=0.901 total time=   0.0s\n",
            "[CV 4/5] END C=100, max_iter=500, penalty=l2, solver=liblinear;, score=0.897 total time=   0.0s\n",
            "[CV 5/5] END C=100, max_iter=500, penalty=l2, solver=liblinear;, score=0.853 total time=   0.0s\n",
            "[CV 1/5] END C=100, max_iter=600, penalty=l2, solver=newton-cg;, score=0.898 total time=   0.0s\n",
            "[CV 2/5] END C=100, max_iter=600, penalty=l2, solver=newton-cg;, score=0.880 total time=   0.0s\n",
            "[CV 3/5] END C=100, max_iter=600, penalty=l2, solver=newton-cg;, score=0.901 total time=   0.0s\n",
            "[CV 4/5] END C=100, max_iter=600, penalty=l2, solver=newton-cg;, score=0.897 total time=   0.0s\n",
            "[CV 5/5] END C=100, max_iter=600, penalty=l2, solver=newton-cg;, score=0.853 total time=   0.0s\n",
            "[CV 1/5] END C=100, max_iter=600, penalty=l2, solver=lbfgs;, score=0.898 total time=   0.1s\n",
            "[CV 2/5] END C=100, max_iter=600, penalty=l2, solver=lbfgs;, score=0.880 total time=   0.1s\n",
            "[CV 3/5] END C=100, max_iter=600, penalty=l2, solver=lbfgs;, score=0.901 total time=   0.1s\n",
            "[CV 4/5] END C=100, max_iter=600, penalty=l2, solver=lbfgs;, score=0.897 total time=   0.1s\n",
            "[CV 5/5] END C=100, max_iter=600, penalty=l2, solver=lbfgs;, score=0.853 total time=   0.1s\n",
            "[CV 1/5] END C=100, max_iter=600, penalty=l2, solver=liblinear;, score=0.898 total time=   0.0s\n",
            "[CV 2/5] END C=100, max_iter=600, penalty=l2, solver=liblinear;, score=0.880 total time=   0.0s\n",
            "[CV 3/5] END C=100, max_iter=600, penalty=l2, solver=liblinear;, score=0.901 total time=   0.0s\n",
            "[CV 4/5] END C=100, max_iter=600, penalty=l2, solver=liblinear;, score=0.897 total time=   0.0s\n",
            "[CV 5/5] END C=100, max_iter=600, penalty=l2, solver=liblinear;, score=0.853 total time=   0.0s\n",
            "[CV 1/5] END C=100, max_iter=700, penalty=l2, solver=newton-cg;, score=0.898 total time=   0.0s\n",
            "[CV 2/5] END C=100, max_iter=700, penalty=l2, solver=newton-cg;, score=0.880 total time=   0.0s\n",
            "[CV 3/5] END C=100, max_iter=700, penalty=l2, solver=newton-cg;, score=0.901 total time=   0.0s\n",
            "[CV 4/5] END C=100, max_iter=700, penalty=l2, solver=newton-cg;, score=0.897 total time=   0.0s\n",
            "[CV 5/5] END C=100, max_iter=700, penalty=l2, solver=newton-cg;, score=0.853 total time=   0.0s\n",
            "[CV 1/5] END C=100, max_iter=700, penalty=l2, solver=lbfgs;, score=0.898 total time=   0.1s\n",
            "[CV 2/5] END C=100, max_iter=700, penalty=l2, solver=lbfgs;, score=0.880 total time=   0.1s\n",
            "[CV 3/5] END C=100, max_iter=700, penalty=l2, solver=lbfgs;, score=0.901 total time=   0.1s\n",
            "[CV 4/5] END C=100, max_iter=700, penalty=l2, solver=lbfgs;, score=0.897 total time=   0.1s\n",
            "[CV 5/5] END C=100, max_iter=700, penalty=l2, solver=lbfgs;, score=0.853 total time=   0.1s\n",
            "[CV 1/5] END C=100, max_iter=700, penalty=l2, solver=liblinear;, score=0.898 total time=   0.0s\n",
            "[CV 2/5] END C=100, max_iter=700, penalty=l2, solver=liblinear;, score=0.880 total time=   0.0s\n",
            "[CV 3/5] END C=100, max_iter=700, penalty=l2, solver=liblinear;, score=0.901 total time=   0.0s\n",
            "[CV 4/5] END C=100, max_iter=700, penalty=l2, solver=liblinear;, score=0.897 total time=   0.0s\n",
            "[CV 5/5] END C=100, max_iter=700, penalty=l2, solver=liblinear;, score=0.853 total time=   0.0s\n",
            "[CV 1/5] END C=100, max_iter=800, penalty=l2, solver=newton-cg;, score=0.898 total time=   0.0s\n",
            "[CV 2/5] END C=100, max_iter=800, penalty=l2, solver=newton-cg;, score=0.880 total time=   0.0s\n",
            "[CV 3/5] END C=100, max_iter=800, penalty=l2, solver=newton-cg;, score=0.901 total time=   0.0s\n",
            "[CV 4/5] END C=100, max_iter=800, penalty=l2, solver=newton-cg;, score=0.897 total time=   0.0s\n",
            "[CV 5/5] END C=100, max_iter=800, penalty=l2, solver=newton-cg;, score=0.853 total time=   0.0s\n",
            "[CV 1/5] END C=100, max_iter=800, penalty=l2, solver=lbfgs;, score=0.898 total time=   0.1s\n",
            "[CV 2/5] END C=100, max_iter=800, penalty=l2, solver=lbfgs;, score=0.880 total time=   0.1s\n",
            "[CV 3/5] END C=100, max_iter=800, penalty=l2, solver=lbfgs;, score=0.901 total time=   0.1s\n",
            "[CV 4/5] END C=100, max_iter=800, penalty=l2, solver=lbfgs;, score=0.897 total time=   0.1s\n",
            "[CV 5/5] END C=100, max_iter=800, penalty=l2, solver=lbfgs;, score=0.853 total time=   0.1s\n",
            "[CV 1/5] END C=100, max_iter=800, penalty=l2, solver=liblinear;, score=0.898 total time=   0.0s\n",
            "[CV 2/5] END C=100, max_iter=800, penalty=l2, solver=liblinear;, score=0.880 total time=   0.0s\n",
            "[CV 3/5] END C=100, max_iter=800, penalty=l2, solver=liblinear;, score=0.901 total time=   0.0s\n",
            "[CV 4/5] END C=100, max_iter=800, penalty=l2, solver=liblinear;, score=0.897 total time=   0.0s\n",
            "[CV 5/5] END C=100, max_iter=800, penalty=l2, solver=liblinear;, score=0.853 total time=   0.0s\n"
          ]
        },
        {
          "output_type": "execute_result",
          "data": {
            "text/plain": [
              "GridSearchCV(estimator=LogisticRegression(),\n",
              "             param_grid={'C': [0.01, 0.1, 1, 10, 100],\n",
              "                         'max_iter': [100, 200, 300, 400, 500, 600, 700, 800],\n",
              "                         'penalty': ['l2'],\n",
              "                         'solver': ['newton-cg', 'lbfgs', 'liblinear']},\n",
              "             verbose=3)"
            ]
          },
          "metadata": {},
          "execution_count": 40
        }
      ]
    },
    {
      "cell_type": "code",
      "source": [
        "# print best parameter after tuning\n",
        "print(grid.best_params_)\n",
        "\n",
        "# print how our model looks after hyper-parameter tuning\n",
        "print(grid.best_estimator_)"
      ],
      "metadata": {
        "colab": {
          "base_uri": "https://localhost:8080/"
        },
        "id": "af95Vl_wpF36",
        "outputId": "505262f7-92ec-40ab-9132-fe56e307e70a"
      },
      "execution_count": 41,
      "outputs": [
        {
          "output_type": "stream",
          "name": "stdout",
          "text": [
            "{'C': 1, 'max_iter': 100, 'penalty': 'l2', 'solver': 'newton-cg'}\n",
            "LogisticRegression(C=1, solver='newton-cg')\n"
          ]
        }
      ]
    },
    {
      "cell_type": "code",
      "source": [
        "#ideal parameters\n",
        "#{'C': 1, 'max_iter': 100, 'penalty': 'l2', 'solver': 'newton-cg'}\n",
        "\n",
        "#logistic regression model\n",
        "logr_model = LogisticRegression(C = 1, max_iter = 100, penalty = \"l2\", solver = \"newton-cg\")\n",
        "logr_model.fit(X_train_normalised, Y_train)\n",
        "\n",
        "preds = logr_model.predict(X_test_normalised)\n",
        "print(metrics.classification_report(preds, Y_test))\n",
        "metrics.confusion_matrix(Y_test,preds)"
      ],
      "metadata": {
        "colab": {
          "base_uri": "https://localhost:8080/"
        },
        "id": "HwukLWbpJX16",
        "outputId": "55dfbe50-bdef-4277-faeb-aff480dbd257"
      },
      "execution_count": 42,
      "outputs": [
        {
          "output_type": "stream",
          "name": "stdout",
          "text": [
            "              precision    recall  f1-score   support\n",
            "\n",
            "         0.0       0.92      0.88      0.90       500\n",
            "         1.0       0.88      0.92      0.90       477\n",
            "\n",
            "    accuracy                           0.90       977\n",
            "   macro avg       0.90      0.90      0.90       977\n",
            "weighted avg       0.90      0.90      0.90       977\n",
            "\n"
          ]
        },
        {
          "output_type": "execute_result",
          "data": {
            "text/plain": [
              "array([[442,  36],\n",
              "       [ 58, 441]])"
            ]
          },
          "metadata": {},
          "execution_count": 42
        }
      ]
    },
    {
      "cell_type": "code",
      "source": [
        "## Tuning hyper parameters of svm rbf model using validation set\n",
        "from sklearn.model_selection import GridSearchCV\n",
        "from sklearn import svm\n",
        "\n",
        "# normalise validation features data\n",
        "#X_test_normalised = X_validate / X_validate.max(axis=0)\n",
        "\n",
        "# defining parameter range\n",
        "param_grid = {'C': [0.1, 1, 10, 100, 1000],\n",
        "\t\t\t'gamma': [1, 0.1, 0.01, 0.001, 0.0001],\n",
        "\t\t\t'kernel': ['linear']}\n",
        "\n",
        "grid = GridSearchCV(svm.SVC(), param_grid, refit = True, verbose = 3)\n",
        "\n",
        "# fitting the model for grid search\n",
        "grid.fit(X_validate, Y_validate)\n",
        "\n"
      ],
      "metadata": {
        "colab": {
          "base_uri": "https://localhost:8080/"
        },
        "id": "uIlmA8HFL09n",
        "outputId": "9ab833d4-2858-48a5-87e1-0254943d6d1a"
      },
      "execution_count": 15,
      "outputs": [
        {
          "output_type": "stream",
          "name": "stdout",
          "text": [
            "Fitting 5 folds for each of 25 candidates, totalling 125 fits\n",
            "[CV 1/5] END .....C=0.1, gamma=1, kernel=linear;, score=0.898 total time=   0.1s\n",
            "[CV 2/5] END .....C=0.1, gamma=1, kernel=linear;, score=0.870 total time=   0.0s\n",
            "[CV 3/5] END .....C=0.1, gamma=1, kernel=linear;, score=0.908 total time=   0.0s\n",
            "[CV 4/5] END .....C=0.1, gamma=1, kernel=linear;, score=0.901 total time=   0.1s\n",
            "[CV 5/5] END .....C=0.1, gamma=1, kernel=linear;, score=0.853 total time=   0.0s\n",
            "[CV 1/5] END ...C=0.1, gamma=0.1, kernel=linear;, score=0.898 total time=   0.1s\n",
            "[CV 2/5] END ...C=0.1, gamma=0.1, kernel=linear;, score=0.870 total time=   0.1s\n",
            "[CV 3/5] END ...C=0.1, gamma=0.1, kernel=linear;, score=0.908 total time=   0.1s\n",
            "[CV 4/5] END ...C=0.1, gamma=0.1, kernel=linear;, score=0.901 total time=   0.1s\n",
            "[CV 5/5] END ...C=0.1, gamma=0.1, kernel=linear;, score=0.853 total time=   0.0s\n",
            "[CV 1/5] END ..C=0.1, gamma=0.01, kernel=linear;, score=0.898 total time=   0.1s\n",
            "[CV 2/5] END ..C=0.1, gamma=0.01, kernel=linear;, score=0.870 total time=   0.1s\n",
            "[CV 3/5] END ..C=0.1, gamma=0.01, kernel=linear;, score=0.908 total time=   0.0s\n",
            "[CV 4/5] END ..C=0.1, gamma=0.01, kernel=linear;, score=0.901 total time=   0.1s\n",
            "[CV 5/5] END ..C=0.1, gamma=0.01, kernel=linear;, score=0.853 total time=   0.0s\n",
            "[CV 1/5] END .C=0.1, gamma=0.001, kernel=linear;, score=0.898 total time=   0.1s\n",
            "[CV 2/5] END .C=0.1, gamma=0.001, kernel=linear;, score=0.870 total time=   0.1s\n",
            "[CV 3/5] END .C=0.1, gamma=0.001, kernel=linear;, score=0.908 total time=   0.0s\n",
            "[CV 4/5] END .C=0.1, gamma=0.001, kernel=linear;, score=0.901 total time=   0.0s\n",
            "[CV 5/5] END .C=0.1, gamma=0.001, kernel=linear;, score=0.853 total time=   0.0s\n",
            "[CV 1/5] END C=0.1, gamma=0.0001, kernel=linear;, score=0.898 total time=   0.1s\n",
            "[CV 2/5] END C=0.1, gamma=0.0001, kernel=linear;, score=0.870 total time=   0.0s\n",
            "[CV 3/5] END C=0.1, gamma=0.0001, kernel=linear;, score=0.908 total time=   0.0s\n",
            "[CV 4/5] END C=0.1, gamma=0.0001, kernel=linear;, score=0.901 total time=   0.1s\n",
            "[CV 5/5] END C=0.1, gamma=0.0001, kernel=linear;, score=0.853 total time=   0.1s\n",
            "[CV 1/5] END .......C=1, gamma=1, kernel=linear;, score=0.904 total time=   0.4s\n",
            "[CV 2/5] END .......C=1, gamma=1, kernel=linear;, score=0.856 total time=   0.3s\n",
            "[CV 3/5] END .......C=1, gamma=1, kernel=linear;, score=0.908 total time=   0.3s\n",
            "[CV 4/5] END .......C=1, gamma=1, kernel=linear;, score=0.904 total time=   0.4s\n",
            "[CV 5/5] END .......C=1, gamma=1, kernel=linear;, score=0.846 total time=   0.3s\n",
            "[CV 1/5] END .....C=1, gamma=0.1, kernel=linear;, score=0.904 total time=   0.4s\n",
            "[CV 2/5] END .....C=1, gamma=0.1, kernel=linear;, score=0.856 total time=   0.3s\n",
            "[CV 3/5] END .....C=1, gamma=0.1, kernel=linear;, score=0.908 total time=   0.2s\n",
            "[CV 4/5] END .....C=1, gamma=0.1, kernel=linear;, score=0.904 total time=   0.4s\n",
            "[CV 5/5] END .....C=1, gamma=0.1, kernel=linear;, score=0.846 total time=   0.3s\n",
            "[CV 1/5] END ....C=1, gamma=0.01, kernel=linear;, score=0.904 total time=   0.3s\n",
            "[CV 2/5] END ....C=1, gamma=0.01, kernel=linear;, score=0.856 total time=   0.3s\n",
            "[CV 3/5] END ....C=1, gamma=0.01, kernel=linear;, score=0.908 total time=   0.2s\n",
            "[CV 4/5] END ....C=1, gamma=0.01, kernel=linear;, score=0.904 total time=   0.4s\n",
            "[CV 5/5] END ....C=1, gamma=0.01, kernel=linear;, score=0.846 total time=   0.3s\n",
            "[CV 1/5] END ...C=1, gamma=0.001, kernel=linear;, score=0.904 total time=   0.3s\n",
            "[CV 2/5] END ...C=1, gamma=0.001, kernel=linear;, score=0.856 total time=   0.3s\n",
            "[CV 3/5] END ...C=1, gamma=0.001, kernel=linear;, score=0.908 total time=   0.2s\n",
            "[CV 4/5] END ...C=1, gamma=0.001, kernel=linear;, score=0.904 total time=   0.4s\n",
            "[CV 5/5] END ...C=1, gamma=0.001, kernel=linear;, score=0.846 total time=   0.3s\n",
            "[CV 1/5] END ..C=1, gamma=0.0001, kernel=linear;, score=0.904 total time=   0.3s\n",
            "[CV 2/5] END ..C=1, gamma=0.0001, kernel=linear;, score=0.856 total time=   0.3s\n",
            "[CV 3/5] END ..C=1, gamma=0.0001, kernel=linear;, score=0.908 total time=   0.2s\n",
            "[CV 4/5] END ..C=1, gamma=0.0001, kernel=linear;, score=0.904 total time=   0.4s\n",
            "[CV 5/5] END ..C=1, gamma=0.0001, kernel=linear;, score=0.846 total time=   0.3s\n",
            "[CV 1/5] END ......C=10, gamma=1, kernel=linear;, score=0.911 total time=   4.7s\n",
            "[CV 2/5] END ......C=10, gamma=1, kernel=linear;, score=0.856 total time=   2.8s\n",
            "[CV 3/5] END ......C=10, gamma=1, kernel=linear;, score=0.908 total time=   3.0s\n",
            "[CV 4/5] END ......C=10, gamma=1, kernel=linear;, score=0.908 total time=   3.6s\n",
            "[CV 5/5] END ......C=10, gamma=1, kernel=linear;, score=0.849 total time=   3.2s\n",
            "[CV 1/5] END ....C=10, gamma=0.1, kernel=linear;, score=0.911 total time=   4.7s\n",
            "[CV 2/5] END ....C=10, gamma=0.1, kernel=linear;, score=0.856 total time=   2.8s\n",
            "[CV 3/5] END ....C=10, gamma=0.1, kernel=linear;, score=0.908 total time=   3.9s\n",
            "[CV 4/5] END ....C=10, gamma=0.1, kernel=linear;, score=0.908 total time=   5.3s\n",
            "[CV 5/5] END ....C=10, gamma=0.1, kernel=linear;, score=0.849 total time=   3.2s\n",
            "[CV 1/5] END ...C=10, gamma=0.01, kernel=linear;, score=0.911 total time=   4.7s\n",
            "[CV 2/5] END ...C=10, gamma=0.01, kernel=linear;, score=0.856 total time=   2.7s\n",
            "[CV 3/5] END ...C=10, gamma=0.01, kernel=linear;, score=0.908 total time=   4.4s\n",
            "[CV 4/5] END ...C=10, gamma=0.01, kernel=linear;, score=0.908 total time=   3.5s\n",
            "[CV 5/5] END ...C=10, gamma=0.01, kernel=linear;, score=0.849 total time=   3.1s\n",
            "[CV 1/5] END ..C=10, gamma=0.001, kernel=linear;, score=0.911 total time=   4.7s\n",
            "[CV 2/5] END ..C=10, gamma=0.001, kernel=linear;, score=0.856 total time=   2.8s\n",
            "[CV 3/5] END ..C=10, gamma=0.001, kernel=linear;, score=0.908 total time=   3.0s\n",
            "[CV 4/5] END ..C=10, gamma=0.001, kernel=linear;, score=0.908 total time=   3.6s\n",
            "[CV 5/5] END ..C=10, gamma=0.001, kernel=linear;, score=0.849 total time=   3.1s\n",
            "[CV 1/5] END .C=10, gamma=0.0001, kernel=linear;, score=0.911 total time=   4.7s\n",
            "[CV 2/5] END .C=10, gamma=0.0001, kernel=linear;, score=0.856 total time=   2.8s\n",
            "[CV 3/5] END .C=10, gamma=0.0001, kernel=linear;, score=0.908 total time=   3.0s\n",
            "[CV 4/5] END .C=10, gamma=0.0001, kernel=linear;, score=0.908 total time=   3.6s\n",
            "[CV 5/5] END .C=10, gamma=0.0001, kernel=linear;, score=0.849 total time=   3.1s\n",
            "[CV 1/5] END .....C=100, gamma=1, kernel=linear;, score=0.901 total time=  11.8s\n",
            "[CV 2/5] END .....C=100, gamma=1, kernel=linear;, score=0.853 total time=  14.5s\n",
            "[CV 3/5] END .....C=100, gamma=1, kernel=linear;, score=0.901 total time=  11.8s\n",
            "[CV 4/5] END .....C=100, gamma=1, kernel=linear;, score=0.901 total time=  13.5s\n",
            "[CV 5/5] END .....C=100, gamma=1, kernel=linear;, score=0.846 total time=  17.9s\n",
            "[CV 1/5] END ...C=100, gamma=0.1, kernel=linear;, score=0.901 total time=  11.8s\n",
            "[CV 2/5] END ...C=100, gamma=0.1, kernel=linear;, score=0.853 total time=  14.6s\n",
            "[CV 3/5] END ...C=100, gamma=0.1, kernel=linear;, score=0.901 total time=  11.8s\n",
            "[CV 4/5] END ...C=100, gamma=0.1, kernel=linear;, score=0.901 total time=  13.4s\n",
            "[CV 5/5] END ...C=100, gamma=0.1, kernel=linear;, score=0.846 total time=  17.9s\n",
            "[CV 1/5] END ..C=100, gamma=0.01, kernel=linear;, score=0.901 total time=  12.9s\n",
            "[CV 2/5] END ..C=100, gamma=0.01, kernel=linear;, score=0.853 total time=  14.5s\n",
            "[CV 3/5] END ..C=100, gamma=0.01, kernel=linear;, score=0.901 total time=  11.7s\n",
            "[CV 4/5] END ..C=100, gamma=0.01, kernel=linear;, score=0.901 total time=  13.4s\n",
            "[CV 5/5] END ..C=100, gamma=0.01, kernel=linear;, score=0.846 total time=  17.9s\n",
            "[CV 1/5] END .C=100, gamma=0.001, kernel=linear;, score=0.901 total time=  11.7s\n",
            "[CV 2/5] END .C=100, gamma=0.001, kernel=linear;, score=0.853 total time=  14.5s\n",
            "[CV 3/5] END .C=100, gamma=0.001, kernel=linear;, score=0.901 total time=  11.7s\n",
            "[CV 4/5] END .C=100, gamma=0.001, kernel=linear;, score=0.901 total time=  13.5s\n",
            "[CV 5/5] END .C=100, gamma=0.001, kernel=linear;, score=0.846 total time=  17.9s\n",
            "[CV 1/5] END C=100, gamma=0.0001, kernel=linear;, score=0.901 total time=  11.7s\n",
            "[CV 2/5] END C=100, gamma=0.0001, kernel=linear;, score=0.853 total time=  14.5s\n",
            "[CV 3/5] END C=100, gamma=0.0001, kernel=linear;, score=0.901 total time=  11.7s\n",
            "[CV 4/5] END C=100, gamma=0.0001, kernel=linear;, score=0.901 total time=  13.4s\n",
            "[CV 5/5] END C=100, gamma=0.0001, kernel=linear;, score=0.846 total time=  17.9s\n",
            "[CV 1/5] END ....C=1000, gamma=1, kernel=linear;, score=0.881 total time=  25.7s\n",
            "[CV 2/5] END ....C=1000, gamma=1, kernel=linear;, score=0.856 total time=  21.3s\n",
            "[CV 3/5] END ....C=1000, gamma=1, kernel=linear;, score=0.918 total time=  29.0s\n",
            "[CV 4/5] END ....C=1000, gamma=1, kernel=linear;, score=0.890 total time=  28.8s\n",
            "[CV 5/5] END ....C=1000, gamma=1, kernel=linear;, score=0.832 total time=  27.5s\n",
            "[CV 1/5] END ..C=1000, gamma=0.1, kernel=linear;, score=0.881 total time=  24.4s\n",
            "[CV 2/5] END ..C=1000, gamma=0.1, kernel=linear;, score=0.856 total time=  21.9s\n",
            "[CV 3/5] END ..C=1000, gamma=0.1, kernel=linear;, score=0.918 total time=  37.7s\n",
            "[CV 4/5] END ..C=1000, gamma=0.1, kernel=linear;, score=0.890 total time=  32.5s\n",
            "[CV 5/5] END ..C=1000, gamma=0.1, kernel=linear;, score=0.832 total time=  33.4s\n",
            "[CV 1/5] END .C=1000, gamma=0.01, kernel=linear;, score=0.881 total time=  27.9s\n",
            "[CV 2/5] END .C=1000, gamma=0.01, kernel=linear;, score=0.856 total time=  23.4s\n",
            "[CV 3/5] END .C=1000, gamma=0.01, kernel=linear;, score=0.918 total time=  32.0s\n",
            "[CV 4/5] END .C=1000, gamma=0.01, kernel=linear;, score=0.890 total time=  29.5s\n",
            "[CV 5/5] END .C=1000, gamma=0.01, kernel=linear;, score=0.832 total time=  28.7s\n",
            "[CV 1/5] END C=1000, gamma=0.001, kernel=linear;, score=0.881 total time=  24.6s\n",
            "[CV 2/5] END C=1000, gamma=0.001, kernel=linear;, score=0.856 total time=  23.2s\n",
            "[CV 3/5] END C=1000, gamma=0.001, kernel=linear;, score=0.918 total time=  29.0s\n",
            "[CV 4/5] END C=1000, gamma=0.001, kernel=linear;, score=0.890 total time=  29.3s\n",
            "[CV 5/5] END C=1000, gamma=0.001, kernel=linear;, score=0.832 total time=  27.7s\n",
            "[CV 1/5] END C=1000, gamma=0.0001, kernel=linear;, score=0.881 total time=  24.5s\n",
            "[CV 2/5] END C=1000, gamma=0.0001, kernel=linear;, score=0.856 total time=  21.4s\n",
            "[CV 3/5] END C=1000, gamma=0.0001, kernel=linear;, score=0.918 total time=  30.1s\n",
            "[CV 4/5] END C=1000, gamma=0.0001, kernel=linear;, score=0.890 total time=  28.7s\n",
            "[CV 5/5] END C=1000, gamma=0.0001, kernel=linear;, score=0.832 total time=  27.5s\n"
          ]
        },
        {
          "output_type": "execute_result",
          "data": {
            "text/plain": [
              "GridSearchCV(estimator=SVC(),\n",
              "             param_grid={'C': [0.1, 1, 10, 100, 1000],\n",
              "                         'gamma': [1, 0.1, 0.01, 0.001, 0.0001],\n",
              "                         'kernel': ['linear']},\n",
              "             verbose=3)"
            ]
          },
          "metadata": {},
          "execution_count": 15
        }
      ]
    },
    {
      "cell_type": "code",
      "source": [
        "# print best parameter after tuning\n",
        "print(grid.best_params_)\n",
        "\n",
        "# print how our model looks after hyper-parameter tuning\n",
        "print(grid.best_estimator_)"
      ],
      "metadata": {
        "colab": {
          "base_uri": "https://localhost:8080/"
        },
        "id": "aN6Bc1jRMcVJ",
        "outputId": "9c20c084-49b8-4789-bff8-70e250e28bb7"
      },
      "execution_count": 19,
      "outputs": [
        {
          "output_type": "stream",
          "name": "stdout",
          "text": [
            "{'C': 10, 'gamma': 1, 'kernel': 'linear'}\n",
            "SVC(C=10, gamma=1, kernel='linear')\n"
          ]
        }
      ]
    },
    {
      "cell_type": "code",
      "source": [
        "## Validation\n",
        "grid_predictions = grid.predict(X_test)\n",
        "\n",
        "# print classification report\n",
        "print(metrics.classification_report(Y_test, grid_predictions))"
      ],
      "metadata": {
        "colab": {
          "base_uri": "https://localhost:8080/"
        },
        "id": "NwRntfUJMdIN",
        "outputId": "68541a12-d741-48af-9f23-3462a86351db"
      },
      "execution_count": 20,
      "outputs": [
        {
          "output_type": "stream",
          "name": "stdout",
          "text": [
            "              precision    recall  f1-score   support\n",
            "\n",
            "         0.0       0.89      0.91      0.90       478\n",
            "         1.0       0.92      0.89      0.90       499\n",
            "\n",
            "    accuracy                           0.90       977\n",
            "   macro avg       0.90      0.90      0.90       977\n",
            "weighted avg       0.90      0.90      0.90       977\n",
            "\n"
          ]
        }
      ]
    },
    {
      "cell_type": "code",
      "source": [
        "## grid searched parameters:\n",
        "# C = 10, gamma = 1, kernel = linear \n",
        "\n",
        "## training tuned model based on training set\n",
        "## features are max normalised\n",
        "from sklearn import svm\n",
        "#feaature should be normalised first\n",
        "X_validate_normalised = X_validate / X_validate.max(axis=0)\n",
        "X_train_normalised = X_train / X_train.max(axis=0)\n",
        "\n",
        "#Create a svm Classifier\n",
        "rbf_svm_model = svm.SVC(decision_function_shape='ovo',kernel='linear',C=10, gamma=1) #\n",
        "\n",
        "#Train the model using the training sets\n",
        "rbf_svm_model.fit(X_train, Y_train)\n",
        "\n",
        "#Predict the response for test dataset\n",
        "y_pred = rbf_svm_model.predict(X_test)\n",
        "\n",
        "print(metrics.classification_report(y_pred, Y_test))\n",
        "metrics.confusion_matrix(Y_test,y_pred)"
      ],
      "metadata": {
        "colab": {
          "base_uri": "https://localhost:8080/"
        },
        "id": "su-Ra8V8J3lG",
        "outputId": "72981f92-b8bf-4671-82fe-df010506dc86"
      },
      "execution_count": 21,
      "outputs": [
        {
          "output_type": "stream",
          "name": "stdout",
          "text": [
            "              precision    recall  f1-score   support\n",
            "\n",
            "         0.0       0.91      0.89      0.90       488\n",
            "         1.0       0.90      0.91      0.90       489\n",
            "\n",
            "    accuracy                           0.90       977\n",
            "   macro avg       0.90      0.90      0.90       977\n",
            "weighted avg       0.90      0.90      0.90       977\n",
            "\n"
          ]
        },
        {
          "output_type": "execute_result",
          "data": {
            "text/plain": [
              "array([[436,  42],\n",
              "       [ 52, 447]])"
            ]
          },
          "metadata": {},
          "execution_count": 21
        }
      ]
    },
    {
      "cell_type": "code",
      "source": [
        "#Predict the response for test dataset\n",
        "y_pred = rbf_svm_model.predict(X_test)\n",
        "\n",
        "print(metrics.classification_report(y_pred, Y_test))\n",
        "metrics.confusion_matrix(Y_test,y_pred)\n"
      ],
      "metadata": {
        "colab": {
          "base_uri": "https://localhost:8080/"
        },
        "id": "pkh-nPl48ADX",
        "outputId": "7fc716cd-8ece-479a-8256-551bad4da03e"
      },
      "execution_count": null,
      "outputs": [
        {
          "output_type": "stream",
          "name": "stdout",
          "text": [
            "              precision    recall  f1-score   support\n",
            "\n",
            "         0.0       0.00      0.00      0.00         0\n",
            "         1.0       0.05      0.19      0.08       107\n",
            "         2.0       0.94      0.20      0.34      1869\n",
            "         3.0       0.00      0.00      0.00         0\n",
            "         4.0       0.00      0.00      0.00         3\n",
            "\n",
            "    accuracy                           0.20      1979\n",
            "   macro avg       0.20      0.08      0.08      1979\n",
            "weighted avg       0.89      0.20      0.32      1979\n",
            "\n"
          ]
        },
        {
          "output_type": "stream",
          "name": "stderr",
          "text": [
            "/usr/local/lib/python3.8/dist-packages/sklearn/metrics/_classification.py:1318: UndefinedMetricWarning: Recall and F-score are ill-defined and being set to 0.0 in labels with no true samples. Use `zero_division` parameter to control this behavior.\n",
            "  _warn_prf(average, modifier, msg_start, len(result))\n",
            "/usr/local/lib/python3.8/dist-packages/sklearn/metrics/_classification.py:1318: UndefinedMetricWarning: Recall and F-score are ill-defined and being set to 0.0 in labels with no true samples. Use `zero_division` parameter to control this behavior.\n",
            "  _warn_prf(average, modifier, msg_start, len(result))\n",
            "/usr/local/lib/python3.8/dist-packages/sklearn/metrics/_classification.py:1318: UndefinedMetricWarning: Recall and F-score are ill-defined and being set to 0.0 in labels with no true samples. Use `zero_division` parameter to control this behavior.\n",
            "  _warn_prf(average, modifier, msg_start, len(result))\n"
          ]
        },
        {
          "output_type": "execute_result",
          "data": {
            "text/plain": [
              "array([[  0,  22, 374,   0,   2],\n",
              "       [  0,  20, 377,   0,   0],\n",
              "       [  0,  25, 382,   0,   0],\n",
              "       [  0,  16, 380,   0,   1],\n",
              "       [  0,  24, 356,   0,   0]])"
            ]
          },
          "metadata": {},
          "execution_count": 33
        }
      ]
    },
    {
      "cell_type": "markdown",
      "source": [
        "https://www.geeksforgeeks.org/svm-hyperparameter-tuning-using-gridsearchcv-ml/"
      ],
      "metadata": {
        "id": "cDZSkFDeb3kA"
      }
    },
    {
      "cell_type": "markdown",
      "source": [
        "Save the model to be reloaded later"
      ],
      "metadata": {
        "id": "eLFe9XljwGHh"
      }
    },
    {
      "cell_type": "code",
      "source": [
        "import pickle"
      ],
      "metadata": {
        "id": "xQg7nZfBwF4E"
      },
      "execution_count": null,
      "outputs": []
    },
    {
      "cell_type": "code",
      "source": [
        "# save the model to disk\n",
        "filename = 'A1_logr_model.sav'\n",
        "pickle.dump(logr_model, open(filename, 'wb'))"
      ],
      "metadata": {
        "id": "8MS2zXLlwMmU"
      },
      "execution_count": null,
      "outputs": []
    },
    {
      "cell_type": "code",
      "source": [
        "# load the model from disk\n",
        "filename = 'A1_logr_model.sav'\n",
        "loaded_model = pickle.load(open(filename, 'rb'))"
      ],
      "metadata": {
        "id": "MNHTlRYSwM59"
      },
      "execution_count": null,
      "outputs": []
    },
    {
      "cell_type": "code",
      "source": [
        "## Test loaded model\n",
        "result = loaded_model.score(X_test, Y_test)\n",
        "print(result)"
      ],
      "metadata": {
        "id": "sTXH_2Du7EqC"
      },
      "execution_count": null,
      "outputs": []
    },
    {
      "cell_type": "markdown",
      "source": [
        "Examination of Learning Curve"
      ],
      "metadata": {
        "id": "Il5dfFllb4Qe"
      }
    },
    {
      "cell_type": "code",
      "source": [
        "from sklearn.model_selection import learning_curve\n",
        "from matplotlib import pyplot as plt\n",
        "\n",
        "estimator = svm.SVC(decision_function_shape='ovo',kernel='rbf',C=100, gamma=0.0001)\n",
        "\n",
        "train_sizes, train_scores, test_scores, fit_times, _ = learning_curve(estimator, selected_features, clean_labels, cv = 5, return_times=True)"
      ],
      "metadata": {
        "colab": {
          "base_uri": "https://localhost:8080/",
          "height": 380
        },
        "id": "g2BJk3zM1Wc4",
        "outputId": "9c80c296-8eba-455b-a142-d19d05b7d2cb"
      },
      "execution_count": null,
      "outputs": [
        {
          "output_type": "error",
          "ename": "KeyboardInterrupt",
          "evalue": "ignored",
          "traceback": [
            "\u001b[0;31m---------------------------------------------------------------------------\u001b[0m",
            "\u001b[0;31mKeyboardInterrupt\u001b[0m                         Traceback (most recent call last)",
            "\u001b[0;32m<ipython-input-33-e7feaff1037a>\u001b[0m in \u001b[0;36m<module>\u001b[0;34m\u001b[0m\n\u001b[1;32m      7\u001b[0m \u001b[0;31m#train_sizes = [1, 100, 500, 2000, 5000, 7654]\u001b[0m\u001b[0;34m\u001b[0m\u001b[0;34m\u001b[0m\u001b[0;34m\u001b[0m\u001b[0m\n\u001b[1;32m      8\u001b[0m \u001b[0;34m\u001b[0m\u001b[0m\n\u001b[0;32m----> 9\u001b[0;31m \u001b[0mtrain_sizes\u001b[0m\u001b[0;34m,\u001b[0m \u001b[0mtrain_scores\u001b[0m\u001b[0;34m,\u001b[0m \u001b[0mtest_scores\u001b[0m\u001b[0;34m,\u001b[0m \u001b[0mfit_times\u001b[0m\u001b[0;34m,\u001b[0m \u001b[0m_\u001b[0m \u001b[0;34m=\u001b[0m \u001b[0mlearning_curve\u001b[0m\u001b[0;34m(\u001b[0m\u001b[0mestimator\u001b[0m\u001b[0;34m,\u001b[0m \u001b[0mselected_features\u001b[0m\u001b[0;34m,\u001b[0m \u001b[0mclean_labels\u001b[0m\u001b[0;34m,\u001b[0m \u001b[0mcv\u001b[0m \u001b[0;34m=\u001b[0m \u001b[0;36m5\u001b[0m\u001b[0;34m,\u001b[0m \u001b[0mreturn_times\u001b[0m\u001b[0;34m=\u001b[0m\u001b[0;32mTrue\u001b[0m\u001b[0;34m)\u001b[0m\u001b[0;34m\u001b[0m\u001b[0;34m\u001b[0m\u001b[0m\n\u001b[0m\u001b[1;32m     10\u001b[0m \u001b[0;34m\u001b[0m\u001b[0m\n",
            "\u001b[0;32m/usr/local/lib/python3.8/dist-packages/sklearn/model_selection/_validation.py\u001b[0m in \u001b[0;36mlearning_curve\u001b[0;34m(estimator, X, y, groups, train_sizes, cv, scoring, exploit_incremental_learning, n_jobs, pre_dispatch, verbose, shuffle, random_state, error_score, return_times, fit_params)\u001b[0m\n\u001b[1;32m   1551\u001b[0m                 \u001b[0mtrain_test_proportions\u001b[0m\u001b[0;34m.\u001b[0m\u001b[0mappend\u001b[0m\u001b[0;34m(\u001b[0m\u001b[0;34m(\u001b[0m\u001b[0mtrain\u001b[0m\u001b[0;34m[\u001b[0m\u001b[0;34m:\u001b[0m\u001b[0mn_train_samples\u001b[0m\u001b[0;34m]\u001b[0m\u001b[0;34m,\u001b[0m \u001b[0mtest\u001b[0m\u001b[0;34m)\u001b[0m\u001b[0;34m)\u001b[0m\u001b[0;34m\u001b[0m\u001b[0;34m\u001b[0m\u001b[0m\n\u001b[1;32m   1552\u001b[0m \u001b[0;34m\u001b[0m\u001b[0m\n\u001b[0;32m-> 1553\u001b[0;31m         results = parallel(\n\u001b[0m\u001b[1;32m   1554\u001b[0m             delayed(_fit_and_score)(\n\u001b[1;32m   1555\u001b[0m                 \u001b[0mclone\u001b[0m\u001b[0;34m(\u001b[0m\u001b[0mestimator\u001b[0m\u001b[0;34m)\u001b[0m\u001b[0;34m,\u001b[0m\u001b[0;34m\u001b[0m\u001b[0;34m\u001b[0m\u001b[0m\n",
            "\u001b[0;32m/usr/local/lib/python3.8/dist-packages/joblib/parallel.py\u001b[0m in \u001b[0;36m__call__\u001b[0;34m(self, iterable)\u001b[0m\n\u001b[1;32m   1086\u001b[0m                 \u001b[0mself\u001b[0m\u001b[0;34m.\u001b[0m\u001b[0m_iterating\u001b[0m \u001b[0;34m=\u001b[0m \u001b[0mself\u001b[0m\u001b[0;34m.\u001b[0m\u001b[0m_original_iterator\u001b[0m \u001b[0;32mis\u001b[0m \u001b[0;32mnot\u001b[0m \u001b[0;32mNone\u001b[0m\u001b[0;34m\u001b[0m\u001b[0;34m\u001b[0m\u001b[0m\n\u001b[1;32m   1087\u001b[0m \u001b[0;34m\u001b[0m\u001b[0m\n\u001b[0;32m-> 1088\u001b[0;31m             \u001b[0;32mwhile\u001b[0m \u001b[0mself\u001b[0m\u001b[0;34m.\u001b[0m\u001b[0mdispatch_one_batch\u001b[0m\u001b[0;34m(\u001b[0m\u001b[0miterator\u001b[0m\u001b[0;34m)\u001b[0m\u001b[0;34m:\u001b[0m\u001b[0;34m\u001b[0m\u001b[0;34m\u001b[0m\u001b[0m\n\u001b[0m\u001b[1;32m   1089\u001b[0m                 \u001b[0;32mpass\u001b[0m\u001b[0;34m\u001b[0m\u001b[0;34m\u001b[0m\u001b[0m\n\u001b[1;32m   1090\u001b[0m \u001b[0;34m\u001b[0m\u001b[0m\n",
            "\u001b[0;32m/usr/local/lib/python3.8/dist-packages/joblib/parallel.py\u001b[0m in \u001b[0;36mdispatch_one_batch\u001b[0;34m(self, iterator)\u001b[0m\n\u001b[1;32m    899\u001b[0m                 \u001b[0;32mreturn\u001b[0m \u001b[0;32mFalse\u001b[0m\u001b[0;34m\u001b[0m\u001b[0;34m\u001b[0m\u001b[0m\n\u001b[1;32m    900\u001b[0m             \u001b[0;32melse\u001b[0m\u001b[0;34m:\u001b[0m\u001b[0;34m\u001b[0m\u001b[0;34m\u001b[0m\u001b[0m\n\u001b[0;32m--> 901\u001b[0;31m                 \u001b[0mself\u001b[0m\u001b[0;34m.\u001b[0m\u001b[0m_dispatch\u001b[0m\u001b[0;34m(\u001b[0m\u001b[0mtasks\u001b[0m\u001b[0;34m)\u001b[0m\u001b[0;34m\u001b[0m\u001b[0;34m\u001b[0m\u001b[0m\n\u001b[0m\u001b[1;32m    902\u001b[0m                 \u001b[0;32mreturn\u001b[0m \u001b[0;32mTrue\u001b[0m\u001b[0;34m\u001b[0m\u001b[0;34m\u001b[0m\u001b[0m\n\u001b[1;32m    903\u001b[0m \u001b[0;34m\u001b[0m\u001b[0m\n",
            "\u001b[0;32m/usr/local/lib/python3.8/dist-packages/joblib/parallel.py\u001b[0m in \u001b[0;36m_dispatch\u001b[0;34m(self, batch)\u001b[0m\n\u001b[1;32m    817\u001b[0m         \u001b[0;32mwith\u001b[0m \u001b[0mself\u001b[0m\u001b[0;34m.\u001b[0m\u001b[0m_lock\u001b[0m\u001b[0;34m:\u001b[0m\u001b[0;34m\u001b[0m\u001b[0;34m\u001b[0m\u001b[0m\n\u001b[1;32m    818\u001b[0m             \u001b[0mjob_idx\u001b[0m \u001b[0;34m=\u001b[0m \u001b[0mlen\u001b[0m\u001b[0;34m(\u001b[0m\u001b[0mself\u001b[0m\u001b[0;34m.\u001b[0m\u001b[0m_jobs\u001b[0m\u001b[0;34m)\u001b[0m\u001b[0;34m\u001b[0m\u001b[0;34m\u001b[0m\u001b[0m\n\u001b[0;32m--> 819\u001b[0;31m             \u001b[0mjob\u001b[0m \u001b[0;34m=\u001b[0m \u001b[0mself\u001b[0m\u001b[0;34m.\u001b[0m\u001b[0m_backend\u001b[0m\u001b[0;34m.\u001b[0m\u001b[0mapply_async\u001b[0m\u001b[0;34m(\u001b[0m\u001b[0mbatch\u001b[0m\u001b[0;34m,\u001b[0m \u001b[0mcallback\u001b[0m\u001b[0;34m=\u001b[0m\u001b[0mcb\u001b[0m\u001b[0;34m)\u001b[0m\u001b[0;34m\u001b[0m\u001b[0;34m\u001b[0m\u001b[0m\n\u001b[0m\u001b[1;32m    820\u001b[0m             \u001b[0;31m# A job can complete so quickly than its callback is\u001b[0m\u001b[0;34m\u001b[0m\u001b[0;34m\u001b[0m\u001b[0;34m\u001b[0m\u001b[0m\n\u001b[1;32m    821\u001b[0m             \u001b[0;31m# called before we get here, causing self._jobs to\u001b[0m\u001b[0;34m\u001b[0m\u001b[0;34m\u001b[0m\u001b[0;34m\u001b[0m\u001b[0m\n",
            "\u001b[0;32m/usr/local/lib/python3.8/dist-packages/joblib/_parallel_backends.py\u001b[0m in \u001b[0;36mapply_async\u001b[0;34m(self, func, callback)\u001b[0m\n\u001b[1;32m    206\u001b[0m     \u001b[0;32mdef\u001b[0m \u001b[0mapply_async\u001b[0m\u001b[0;34m(\u001b[0m\u001b[0mself\u001b[0m\u001b[0;34m,\u001b[0m \u001b[0mfunc\u001b[0m\u001b[0;34m,\u001b[0m \u001b[0mcallback\u001b[0m\u001b[0;34m=\u001b[0m\u001b[0;32mNone\u001b[0m\u001b[0;34m)\u001b[0m\u001b[0;34m:\u001b[0m\u001b[0;34m\u001b[0m\u001b[0;34m\u001b[0m\u001b[0m\n\u001b[1;32m    207\u001b[0m         \u001b[0;34m\"\"\"Schedule a func to be run\"\"\"\u001b[0m\u001b[0;34m\u001b[0m\u001b[0;34m\u001b[0m\u001b[0m\n\u001b[0;32m--> 208\u001b[0;31m         \u001b[0mresult\u001b[0m \u001b[0;34m=\u001b[0m \u001b[0mImmediateResult\u001b[0m\u001b[0;34m(\u001b[0m\u001b[0mfunc\u001b[0m\u001b[0;34m)\u001b[0m\u001b[0;34m\u001b[0m\u001b[0;34m\u001b[0m\u001b[0m\n\u001b[0m\u001b[1;32m    209\u001b[0m         \u001b[0;32mif\u001b[0m \u001b[0mcallback\u001b[0m\u001b[0;34m:\u001b[0m\u001b[0;34m\u001b[0m\u001b[0;34m\u001b[0m\u001b[0m\n\u001b[1;32m    210\u001b[0m             \u001b[0mcallback\u001b[0m\u001b[0;34m(\u001b[0m\u001b[0mresult\u001b[0m\u001b[0;34m)\u001b[0m\u001b[0;34m\u001b[0m\u001b[0;34m\u001b[0m\u001b[0m\n",
            "\u001b[0;32m/usr/local/lib/python3.8/dist-packages/joblib/_parallel_backends.py\u001b[0m in \u001b[0;36m__init__\u001b[0;34m(self, batch)\u001b[0m\n\u001b[1;32m    595\u001b[0m         \u001b[0;31m# Don't delay the application, to avoid keeping the input\u001b[0m\u001b[0;34m\u001b[0m\u001b[0;34m\u001b[0m\u001b[0;34m\u001b[0m\u001b[0m\n\u001b[1;32m    596\u001b[0m         \u001b[0;31m# arguments in memory\u001b[0m\u001b[0;34m\u001b[0m\u001b[0;34m\u001b[0m\u001b[0;34m\u001b[0m\u001b[0m\n\u001b[0;32m--> 597\u001b[0;31m         \u001b[0mself\u001b[0m\u001b[0;34m.\u001b[0m\u001b[0mresults\u001b[0m \u001b[0;34m=\u001b[0m \u001b[0mbatch\u001b[0m\u001b[0;34m(\u001b[0m\u001b[0;34m)\u001b[0m\u001b[0;34m\u001b[0m\u001b[0;34m\u001b[0m\u001b[0m\n\u001b[0m\u001b[1;32m    598\u001b[0m \u001b[0;34m\u001b[0m\u001b[0m\n\u001b[1;32m    599\u001b[0m     \u001b[0;32mdef\u001b[0m \u001b[0mget\u001b[0m\u001b[0;34m(\u001b[0m\u001b[0mself\u001b[0m\u001b[0;34m)\u001b[0m\u001b[0;34m:\u001b[0m\u001b[0;34m\u001b[0m\u001b[0;34m\u001b[0m\u001b[0m\n",
            "\u001b[0;32m/usr/local/lib/python3.8/dist-packages/joblib/parallel.py\u001b[0m in \u001b[0;36m__call__\u001b[0;34m(self)\u001b[0m\n\u001b[1;32m    286\u001b[0m         \u001b[0;31m# change the default number of processes to -1\u001b[0m\u001b[0;34m\u001b[0m\u001b[0;34m\u001b[0m\u001b[0;34m\u001b[0m\u001b[0m\n\u001b[1;32m    287\u001b[0m         \u001b[0;32mwith\u001b[0m \u001b[0mparallel_backend\u001b[0m\u001b[0;34m(\u001b[0m\u001b[0mself\u001b[0m\u001b[0;34m.\u001b[0m\u001b[0m_backend\u001b[0m\u001b[0;34m,\u001b[0m \u001b[0mn_jobs\u001b[0m\u001b[0;34m=\u001b[0m\u001b[0mself\u001b[0m\u001b[0;34m.\u001b[0m\u001b[0m_n_jobs\u001b[0m\u001b[0;34m)\u001b[0m\u001b[0;34m:\u001b[0m\u001b[0;34m\u001b[0m\u001b[0;34m\u001b[0m\u001b[0m\n\u001b[0;32m--> 288\u001b[0;31m             return [func(*args, **kwargs)\n\u001b[0m\u001b[1;32m    289\u001b[0m                     for func, args, kwargs in self.items]\n\u001b[1;32m    290\u001b[0m \u001b[0;34m\u001b[0m\u001b[0m\n",
            "\u001b[0;32m/usr/local/lib/python3.8/dist-packages/joblib/parallel.py\u001b[0m in \u001b[0;36m<listcomp>\u001b[0;34m(.0)\u001b[0m\n\u001b[1;32m    286\u001b[0m         \u001b[0;31m# change the default number of processes to -1\u001b[0m\u001b[0;34m\u001b[0m\u001b[0;34m\u001b[0m\u001b[0;34m\u001b[0m\u001b[0m\n\u001b[1;32m    287\u001b[0m         \u001b[0;32mwith\u001b[0m \u001b[0mparallel_backend\u001b[0m\u001b[0;34m(\u001b[0m\u001b[0mself\u001b[0m\u001b[0;34m.\u001b[0m\u001b[0m_backend\u001b[0m\u001b[0;34m,\u001b[0m \u001b[0mn_jobs\u001b[0m\u001b[0;34m=\u001b[0m\u001b[0mself\u001b[0m\u001b[0;34m.\u001b[0m\u001b[0m_n_jobs\u001b[0m\u001b[0;34m)\u001b[0m\u001b[0;34m:\u001b[0m\u001b[0;34m\u001b[0m\u001b[0;34m\u001b[0m\u001b[0m\n\u001b[0;32m--> 288\u001b[0;31m             return [func(*args, **kwargs)\n\u001b[0m\u001b[1;32m    289\u001b[0m                     for func, args, kwargs in self.items]\n\u001b[1;32m    290\u001b[0m \u001b[0;34m\u001b[0m\u001b[0m\n",
            "\u001b[0;32m/usr/local/lib/python3.8/dist-packages/sklearn/utils/fixes.py\u001b[0m in \u001b[0;36m__call__\u001b[0;34m(self, *args, **kwargs)\u001b[0m\n\u001b[1;32m    214\u001b[0m     \u001b[0;32mdef\u001b[0m \u001b[0m__call__\u001b[0m\u001b[0;34m(\u001b[0m\u001b[0mself\u001b[0m\u001b[0;34m,\u001b[0m \u001b[0;34m*\u001b[0m\u001b[0margs\u001b[0m\u001b[0;34m,\u001b[0m \u001b[0;34m**\u001b[0m\u001b[0mkwargs\u001b[0m\u001b[0;34m)\u001b[0m\u001b[0;34m:\u001b[0m\u001b[0;34m\u001b[0m\u001b[0;34m\u001b[0m\u001b[0m\n\u001b[1;32m    215\u001b[0m         \u001b[0;32mwith\u001b[0m \u001b[0mconfig_context\u001b[0m\u001b[0;34m(\u001b[0m\u001b[0;34m**\u001b[0m\u001b[0mself\u001b[0m\u001b[0;34m.\u001b[0m\u001b[0mconfig\u001b[0m\u001b[0;34m)\u001b[0m\u001b[0;34m:\u001b[0m\u001b[0;34m\u001b[0m\u001b[0;34m\u001b[0m\u001b[0m\n\u001b[0;32m--> 216\u001b[0;31m             \u001b[0;32mreturn\u001b[0m \u001b[0mself\u001b[0m\u001b[0;34m.\u001b[0m\u001b[0mfunction\u001b[0m\u001b[0;34m(\u001b[0m\u001b[0;34m*\u001b[0m\u001b[0margs\u001b[0m\u001b[0;34m,\u001b[0m \u001b[0;34m**\u001b[0m\u001b[0mkwargs\u001b[0m\u001b[0;34m)\u001b[0m\u001b[0;34m\u001b[0m\u001b[0;34m\u001b[0m\u001b[0m\n\u001b[0m\u001b[1;32m    217\u001b[0m \u001b[0;34m\u001b[0m\u001b[0m\n\u001b[1;32m    218\u001b[0m \u001b[0;34m\u001b[0m\u001b[0m\n",
            "\u001b[0;32m/usr/local/lib/python3.8/dist-packages/sklearn/model_selection/_validation.py\u001b[0m in \u001b[0;36m_fit_and_score\u001b[0;34m(estimator, X, y, scorer, train, test, verbose, parameters, fit_params, return_train_score, return_parameters, return_n_test_samples, return_times, return_estimator, split_progress, candidate_progress, error_score)\u001b[0m\n\u001b[1;32m    700\u001b[0m \u001b[0;34m\u001b[0m\u001b[0m\n\u001b[1;32m    701\u001b[0m         \u001b[0mfit_time\u001b[0m \u001b[0;34m=\u001b[0m \u001b[0mtime\u001b[0m\u001b[0;34m.\u001b[0m\u001b[0mtime\u001b[0m\u001b[0;34m(\u001b[0m\u001b[0;34m)\u001b[0m \u001b[0;34m-\u001b[0m \u001b[0mstart_time\u001b[0m\u001b[0;34m\u001b[0m\u001b[0;34m\u001b[0m\u001b[0m\n\u001b[0;32m--> 702\u001b[0;31m         \u001b[0mtest_scores\u001b[0m \u001b[0;34m=\u001b[0m \u001b[0m_score\u001b[0m\u001b[0;34m(\u001b[0m\u001b[0mestimator\u001b[0m\u001b[0;34m,\u001b[0m \u001b[0mX_test\u001b[0m\u001b[0;34m,\u001b[0m \u001b[0my_test\u001b[0m\u001b[0;34m,\u001b[0m \u001b[0mscorer\u001b[0m\u001b[0;34m,\u001b[0m \u001b[0merror_score\u001b[0m\u001b[0;34m)\u001b[0m\u001b[0;34m\u001b[0m\u001b[0;34m\u001b[0m\u001b[0m\n\u001b[0m\u001b[1;32m    703\u001b[0m         \u001b[0mscore_time\u001b[0m \u001b[0;34m=\u001b[0m \u001b[0mtime\u001b[0m\u001b[0;34m.\u001b[0m\u001b[0mtime\u001b[0m\u001b[0;34m(\u001b[0m\u001b[0;34m)\u001b[0m \u001b[0;34m-\u001b[0m \u001b[0mstart_time\u001b[0m \u001b[0;34m-\u001b[0m \u001b[0mfit_time\u001b[0m\u001b[0;34m\u001b[0m\u001b[0;34m\u001b[0m\u001b[0m\n\u001b[1;32m    704\u001b[0m         \u001b[0;32mif\u001b[0m \u001b[0mreturn_train_score\u001b[0m\u001b[0;34m:\u001b[0m\u001b[0;34m\u001b[0m\u001b[0;34m\u001b[0m\u001b[0m\n",
            "\u001b[0;32m/usr/local/lib/python3.8/dist-packages/sklearn/model_selection/_validation.py\u001b[0m in \u001b[0;36m_score\u001b[0;34m(estimator, X_test, y_test, scorer, error_score)\u001b[0m\n\u001b[1;32m    759\u001b[0m             \u001b[0mscores\u001b[0m \u001b[0;34m=\u001b[0m \u001b[0mscorer\u001b[0m\u001b[0;34m(\u001b[0m\u001b[0mestimator\u001b[0m\u001b[0;34m,\u001b[0m \u001b[0mX_test\u001b[0m\u001b[0;34m)\u001b[0m\u001b[0;34m\u001b[0m\u001b[0;34m\u001b[0m\u001b[0m\n\u001b[1;32m    760\u001b[0m         \u001b[0;32melse\u001b[0m\u001b[0;34m:\u001b[0m\u001b[0;34m\u001b[0m\u001b[0;34m\u001b[0m\u001b[0m\n\u001b[0;32m--> 761\u001b[0;31m             \u001b[0mscores\u001b[0m \u001b[0;34m=\u001b[0m \u001b[0mscorer\u001b[0m\u001b[0;34m(\u001b[0m\u001b[0mestimator\u001b[0m\u001b[0;34m,\u001b[0m \u001b[0mX_test\u001b[0m\u001b[0;34m,\u001b[0m \u001b[0my_test\u001b[0m\u001b[0;34m)\u001b[0m\u001b[0;34m\u001b[0m\u001b[0;34m\u001b[0m\u001b[0m\n\u001b[0m\u001b[1;32m    762\u001b[0m     \u001b[0;32mexcept\u001b[0m \u001b[0mException\u001b[0m\u001b[0;34m:\u001b[0m\u001b[0;34m\u001b[0m\u001b[0;34m\u001b[0m\u001b[0m\n\u001b[1;32m    763\u001b[0m         \u001b[0;32mif\u001b[0m \u001b[0merror_score\u001b[0m \u001b[0;34m==\u001b[0m \u001b[0;34m\"raise\"\u001b[0m\u001b[0;34m:\u001b[0m\u001b[0;34m\u001b[0m\u001b[0;34m\u001b[0m\u001b[0m\n",
            "\u001b[0;32m/usr/local/lib/python3.8/dist-packages/sklearn/metrics/_scorer.py\u001b[0m in \u001b[0;36m_passthrough_scorer\u001b[0;34m(estimator, *args, **kwargs)\u001b[0m\n\u001b[1;32m    416\u001b[0m \u001b[0;32mdef\u001b[0m \u001b[0m_passthrough_scorer\u001b[0m\u001b[0;34m(\u001b[0m\u001b[0mestimator\u001b[0m\u001b[0;34m,\u001b[0m \u001b[0;34m*\u001b[0m\u001b[0margs\u001b[0m\u001b[0;34m,\u001b[0m \u001b[0;34m**\u001b[0m\u001b[0mkwargs\u001b[0m\u001b[0;34m)\u001b[0m\u001b[0;34m:\u001b[0m\u001b[0;34m\u001b[0m\u001b[0;34m\u001b[0m\u001b[0m\n\u001b[1;32m    417\u001b[0m     \u001b[0;34m\"\"\"Function that wraps estimator.score\"\"\"\u001b[0m\u001b[0;34m\u001b[0m\u001b[0;34m\u001b[0m\u001b[0m\n\u001b[0;32m--> 418\u001b[0;31m     \u001b[0;32mreturn\u001b[0m \u001b[0mestimator\u001b[0m\u001b[0;34m.\u001b[0m\u001b[0mscore\u001b[0m\u001b[0;34m(\u001b[0m\u001b[0;34m*\u001b[0m\u001b[0margs\u001b[0m\u001b[0;34m,\u001b[0m \u001b[0;34m**\u001b[0m\u001b[0mkwargs\u001b[0m\u001b[0;34m)\u001b[0m\u001b[0;34m\u001b[0m\u001b[0;34m\u001b[0m\u001b[0m\n\u001b[0m\u001b[1;32m    419\u001b[0m \u001b[0;34m\u001b[0m\u001b[0m\n\u001b[1;32m    420\u001b[0m \u001b[0;34m\u001b[0m\u001b[0m\n",
            "\u001b[0;32m/usr/local/lib/python3.8/dist-packages/sklearn/base.py\u001b[0m in \u001b[0;36mscore\u001b[0;34m(self, X, y, sample_weight)\u001b[0m\n\u001b[1;32m    649\u001b[0m         \u001b[0;32mfrom\u001b[0m \u001b[0;34m.\u001b[0m\u001b[0mmetrics\u001b[0m \u001b[0;32mimport\u001b[0m \u001b[0maccuracy_score\u001b[0m\u001b[0;34m\u001b[0m\u001b[0;34m\u001b[0m\u001b[0m\n\u001b[1;32m    650\u001b[0m \u001b[0;34m\u001b[0m\u001b[0m\n\u001b[0;32m--> 651\u001b[0;31m         \u001b[0;32mreturn\u001b[0m \u001b[0maccuracy_score\u001b[0m\u001b[0;34m(\u001b[0m\u001b[0my\u001b[0m\u001b[0;34m,\u001b[0m \u001b[0mself\u001b[0m\u001b[0;34m.\u001b[0m\u001b[0mpredict\u001b[0m\u001b[0;34m(\u001b[0m\u001b[0mX\u001b[0m\u001b[0;34m)\u001b[0m\u001b[0;34m,\u001b[0m \u001b[0msample_weight\u001b[0m\u001b[0;34m=\u001b[0m\u001b[0msample_weight\u001b[0m\u001b[0;34m)\u001b[0m\u001b[0;34m\u001b[0m\u001b[0;34m\u001b[0m\u001b[0m\n\u001b[0m\u001b[1;32m    652\u001b[0m \u001b[0;34m\u001b[0m\u001b[0m\n\u001b[1;32m    653\u001b[0m     \u001b[0;32mdef\u001b[0m \u001b[0m_more_tags\u001b[0m\u001b[0;34m(\u001b[0m\u001b[0mself\u001b[0m\u001b[0;34m)\u001b[0m\u001b[0;34m:\u001b[0m\u001b[0;34m\u001b[0m\u001b[0;34m\u001b[0m\u001b[0m\n",
            "\u001b[0;32m/usr/local/lib/python3.8/dist-packages/sklearn/svm/_base.py\u001b[0m in \u001b[0;36mpredict\u001b[0;34m(self, X)\u001b[0m\n\u001b[1;32m    789\u001b[0m             \u001b[0my\u001b[0m \u001b[0;34m=\u001b[0m \u001b[0mnp\u001b[0m\u001b[0;34m.\u001b[0m\u001b[0margmax\u001b[0m\u001b[0;34m(\u001b[0m\u001b[0mself\u001b[0m\u001b[0;34m.\u001b[0m\u001b[0mdecision_function\u001b[0m\u001b[0;34m(\u001b[0m\u001b[0mX\u001b[0m\u001b[0;34m)\u001b[0m\u001b[0;34m,\u001b[0m \u001b[0maxis\u001b[0m\u001b[0;34m=\u001b[0m\u001b[0;36m1\u001b[0m\u001b[0;34m)\u001b[0m\u001b[0;34m\u001b[0m\u001b[0;34m\u001b[0m\u001b[0m\n\u001b[1;32m    790\u001b[0m         \u001b[0;32melse\u001b[0m\u001b[0;34m:\u001b[0m\u001b[0;34m\u001b[0m\u001b[0;34m\u001b[0m\u001b[0m\n\u001b[0;32m--> 791\u001b[0;31m             \u001b[0my\u001b[0m \u001b[0;34m=\u001b[0m \u001b[0msuper\u001b[0m\u001b[0;34m(\u001b[0m\u001b[0;34m)\u001b[0m\u001b[0;34m.\u001b[0m\u001b[0mpredict\u001b[0m\u001b[0;34m(\u001b[0m\u001b[0mX\u001b[0m\u001b[0;34m)\u001b[0m\u001b[0;34m\u001b[0m\u001b[0;34m\u001b[0m\u001b[0m\n\u001b[0m\u001b[1;32m    792\u001b[0m         \u001b[0;32mreturn\u001b[0m \u001b[0mself\u001b[0m\u001b[0;34m.\u001b[0m\u001b[0mclasses_\u001b[0m\u001b[0;34m.\u001b[0m\u001b[0mtake\u001b[0m\u001b[0;34m(\u001b[0m\u001b[0mnp\u001b[0m\u001b[0;34m.\u001b[0m\u001b[0masarray\u001b[0m\u001b[0;34m(\u001b[0m\u001b[0my\u001b[0m\u001b[0;34m,\u001b[0m \u001b[0mdtype\u001b[0m\u001b[0;34m=\u001b[0m\u001b[0mnp\u001b[0m\u001b[0;34m.\u001b[0m\u001b[0mintp\u001b[0m\u001b[0;34m)\u001b[0m\u001b[0;34m)\u001b[0m\u001b[0;34m\u001b[0m\u001b[0;34m\u001b[0m\u001b[0m\n\u001b[1;32m    793\u001b[0m \u001b[0;34m\u001b[0m\u001b[0m\n",
            "\u001b[0;32m/usr/local/lib/python3.8/dist-packages/sklearn/svm/_base.py\u001b[0m in \u001b[0;36mpredict\u001b[0;34m(self, X)\u001b[0m\n\u001b[1;32m    414\u001b[0m         \u001b[0mX\u001b[0m \u001b[0;34m=\u001b[0m \u001b[0mself\u001b[0m\u001b[0;34m.\u001b[0m\u001b[0m_validate_for_predict\u001b[0m\u001b[0;34m(\u001b[0m\u001b[0mX\u001b[0m\u001b[0;34m)\u001b[0m\u001b[0;34m\u001b[0m\u001b[0;34m\u001b[0m\u001b[0m\n\u001b[1;32m    415\u001b[0m         \u001b[0mpredict\u001b[0m \u001b[0;34m=\u001b[0m \u001b[0mself\u001b[0m\u001b[0;34m.\u001b[0m\u001b[0m_sparse_predict\u001b[0m \u001b[0;32mif\u001b[0m \u001b[0mself\u001b[0m\u001b[0;34m.\u001b[0m\u001b[0m_sparse\u001b[0m \u001b[0;32melse\u001b[0m \u001b[0mself\u001b[0m\u001b[0;34m.\u001b[0m\u001b[0m_dense_predict\u001b[0m\u001b[0;34m\u001b[0m\u001b[0;34m\u001b[0m\u001b[0m\n\u001b[0;32m--> 416\u001b[0;31m         \u001b[0;32mreturn\u001b[0m \u001b[0mpredict\u001b[0m\u001b[0;34m(\u001b[0m\u001b[0mX\u001b[0m\u001b[0;34m)\u001b[0m\u001b[0;34m\u001b[0m\u001b[0;34m\u001b[0m\u001b[0m\n\u001b[0m\u001b[1;32m    417\u001b[0m \u001b[0;34m\u001b[0m\u001b[0m\n\u001b[1;32m    418\u001b[0m     \u001b[0;32mdef\u001b[0m \u001b[0m_dense_predict\u001b[0m\u001b[0;34m(\u001b[0m\u001b[0mself\u001b[0m\u001b[0;34m,\u001b[0m \u001b[0mX\u001b[0m\u001b[0;34m)\u001b[0m\u001b[0;34m:\u001b[0m\u001b[0;34m\u001b[0m\u001b[0;34m\u001b[0m\u001b[0m\n",
            "\u001b[0;32m/usr/local/lib/python3.8/dist-packages/sklearn/svm/_base.py\u001b[0m in \u001b[0;36m_dense_predict\u001b[0;34m(self, X)\u001b[0m\n\u001b[1;32m    433\u001b[0m         \u001b[0msvm_type\u001b[0m \u001b[0;34m=\u001b[0m \u001b[0mLIBSVM_IMPL\u001b[0m\u001b[0;34m.\u001b[0m\u001b[0mindex\u001b[0m\u001b[0;34m(\u001b[0m\u001b[0mself\u001b[0m\u001b[0;34m.\u001b[0m\u001b[0m_impl\u001b[0m\u001b[0;34m)\u001b[0m\u001b[0;34m\u001b[0m\u001b[0;34m\u001b[0m\u001b[0m\n\u001b[1;32m    434\u001b[0m \u001b[0;34m\u001b[0m\u001b[0m\n\u001b[0;32m--> 435\u001b[0;31m         return libsvm.predict(\n\u001b[0m\u001b[1;32m    436\u001b[0m             \u001b[0mX\u001b[0m\u001b[0;34m,\u001b[0m\u001b[0;34m\u001b[0m\u001b[0;34m\u001b[0m\u001b[0m\n\u001b[1;32m    437\u001b[0m             \u001b[0mself\u001b[0m\u001b[0;34m.\u001b[0m\u001b[0msupport_\u001b[0m\u001b[0;34m,\u001b[0m\u001b[0;34m\u001b[0m\u001b[0;34m\u001b[0m\u001b[0m\n",
            "\u001b[0;31mKeyboardInterrupt\u001b[0m: "
          ]
        }
      ]
    },
    {
      "cell_type": "code",
      "source": [
        "## plotting learning curve\n",
        "plt.style.use('seaborn')\n",
        "plt.plot(train_sizes,np.mean(train_scores,axis=1))\n",
        "plt.plot(train_sizes,np.mean(test_scores,axis=1))\n",
        "plt.ylabel('MSE', fontsize = 14)\n",
        "plt.xlabel('Training set size', fontsize = 14)\n",
        "plt.title('Learning curves for an SVM', fontsize = 18, y = 1.03)\n",
        "plt.legend([\"Train Score\", \"Test Score\"])\n",
        "plt.show"
      ],
      "metadata": {
        "colab": {
          "base_uri": "https://localhost:8080/"
        },
        "id": "KI8-RVKG8dpy",
        "outputId": "b1d59d9e-44bc-4871-85f1-de8a914f3abe"
      },
      "execution_count": null,
      "outputs": [
        {
          "output_type": "execute_result",
          "data": {
            "text/plain": [
              "<function matplotlib.pyplot.show(*args, **kw)>"
            ]
          },
          "metadata": {},
          "execution_count": 50
        },
        {
          "output_type": "display_data",
          "data": {
            "text/plain": [
              "<Figure size 576x396 with 1 Axes>"
            ],
            "image/png": "[encoded data removed]"
          },
          "metadata": {}
        }
      ]
    },
    {
      "cell_type": "code",
      "source": [
        "print(train_sizes)"
      ],
      "metadata": {
        "colab": {
          "base_uri": "https://localhost:8080/"
        },
        "id": "99Glr7wF5iGn",
        "outputId": "a062e28c-44e6-4b71-dd49-a6dc23b9ff9a"
      },
      "execution_count": null,
      "outputs": [
        {
          "output_type": "stream",
          "name": "stdout",
          "text": [
            "[ 638 2075 3512 4949 6387]\n"
          ]
        }
      ]
    }
  ],
  "metadata": {
    "colab": {
      "provenance": [],
      "authorship_tag": "ABX9TyMa4N06cJGr8G7XLwoA9Dxz",
      "include_colab_link": true
    },
    "kernelspec": {
      "display_name": "Python 3",
      "name": "python3"
    },
    "language_info": {
      "name": "python"
    }
  },
  "nbformat": 4,
  "nbformat_minor": 0
}