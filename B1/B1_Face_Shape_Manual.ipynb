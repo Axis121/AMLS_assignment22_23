{
  "cells": [
    {
      "cell_type": "markdown",
      "metadata": {
        "id": "view-in-github",
        "colab_type": "text"
      },
      "source": [
        "<a href=\"https://colab.research.google.com/github/Axis121/AMLS_assignment22_23/blob/main/B1/B1_Face_Shape_Manual.ipynb\" target=\"_parent\"><img src=\"https://colab.research.google.com/assets/colab-badge.svg\" alt=\"Open In Colab\"/></a>"
      ]
    },
    {
      "cell_type": "code",
      "execution_count": null,
      "metadata": {
        "colab": {
          "base_uri": "https://localhost:8080/"
        },
        "id": "iztaEUNzOAMP",
        "outputId": "a50eaad2-f011-48aa-d846-f931fcd5acec"
      },
      "outputs": [
        {
          "output_type": "stream",
          "name": "stdout",
          "text": [
            "Mounted at /content/drive\n"
          ]
        }
      ],
      "source": [
        "from google.colab import drive\n",
        "drive.mount('/content/drive')"
      ]
    },
    {
      "cell_type": "code",
      "execution_count": null,
      "metadata": {
        "id": "97Jj4HHUOB_X"
      },
      "outputs": [],
      "source": [
        "#https://towardsdatascience.com/basic-smile-detection-using-opencv-and-dlib-aeb22afb9e67\n"
      ]
    },
    {
      "cell_type": "code",
      "execution_count": null,
      "metadata": {
        "id": "FKhxLRjkSjzr"
      },
      "outputs": [],
      "source": [
        "## general imports\n",
        "import cv2 # manipulating images\n",
        "import dlib # for face detection\n",
        "from google.colab.patches import cv2_imshow \n",
        "from natsort import natsorted \n",
        "import os # to navigate file directories\n",
        "from os import listdir\n",
        "import pickle # used to save models\n",
        "\n",
        "## imports for manipulating and visualising data\n",
        "import numpy as np\n",
        "import pandas as pd\n",
        "import matplotlib.pyplot as plt\n",
        "from sklearn.feature_selection import SelectKBest, chi2 # test to select most signifacnt features\n",
        "from sklearn.preprocessing import StandardScaler \n",
        "from sklearn.model_selection import train_test_split\n",
        "\n",
        "## imports for model building\n",
        "from sklearn.model_selection import GridSearchCV # cross validation/ grid search for hyper-parameter tuning\n",
        "from sklearn.linear_model import LogisticRegression\n",
        "from sklearn import svm\n",
        "from sklearn.neural_network import MLPClassifier\n",
        "\n",
        "## imports for model evaluation\n",
        "from sklearn import metrics\n",
        "import seaborn as sns # graphing confusion matrices\n",
        "from sklearn.model_selection import learning_curve # plot learning curve for a model\n",
        "\n",
        "##\n"
      ]
    },
    {
      "cell_type": "code",
      "execution_count": null,
      "metadata": {
        "id": "09_mBJgWSqXT"
      },
      "outputs": [],
      "source": [
        "def faceLandmarks(im):\n",
        "\n",
        "    # Path for the detection model\n",
        "    PREDICTOR_PATH = r\"/content/drive/MyDrive/Colab Notebooks/Test_folder/shape_predictor_68_face_landmarks.dat\"\n",
        "    \n",
        "    # Create object to detect the face\n",
        "    faceDetector = dlib.get_frontal_face_detector()\n",
        "\n",
        "    # Create object to detect the facial landmarks\n",
        "    landmarkDetector = dlib.shape_predictor(PREDICTOR_PATH)\n",
        "\n",
        "    # Detect faces\n",
        "    faceRects = faceDetector(im, 0)\n",
        "\n",
        "    # Initialize landmarksAll array\n",
        "    landmarksAll = []\n",
        "\n",
        "    # For each face detected in the image, this chunk of code creates a ROI around the face and pass it as an argument to the \n",
        "    # facial landmark detector and append the result to the array landmarks \n",
        "    for i in range(0, len(faceRects)):\n",
        "        newRect = dlib.rectangle(int(faceRects[i].left()),\n",
        "                            int(faceRects[i].top()),\n",
        "                            int(faceRects[i].right()),\n",
        "                            int(faceRects[i].bottom()))\n",
        "        landmarks = landmarkDetector(im, newRect)\n",
        "        landmarksAll.append(landmarks)\n",
        "\n",
        "    return landmarksAll, faceRects\n"
      ]
    },
    {
      "cell_type": "code",
      "execution_count": null,
      "metadata": {
        "id": "j71iWF-vSxO1"
      },
      "outputs": [],
      "source": [
        "def renderFacialLandmarks(im, landmarks):\n",
        "    \n",
        "    # Convert landmarks into iteratable array\n",
        "    points = []\n",
        "    [points.append((p.x, p.y)) for p in landmarks.parts()]\n",
        "\n",
        "    # Loop through array and draw a circle for each landmark\n",
        "    for p in points:\n",
        "        cv2.circle(im, (int(p[0]),int(p[1])), 2, (255,0,0),-1)\n",
        "\n",
        "    # Return image with facial landmarks \n",
        "    return im"
      ]
    },
    {
      "cell_type": "markdown",
      "metadata": {
        "id": "CY4fvRBxHB5n"
      },
      "source": [
        "Extractions of features"
      ]
    },
    {
      "cell_type": "code",
      "execution_count": 1,
      "metadata": {
        "id": "BstHIzNgBSnF"
      },
      "outputs": [],
      "source": [
        "def extractFeatures(folder_dir): \n",
        "    number_of_features = 136 # 68 coordinates, x and y points\n",
        "    features = np.ones((1,number_of_features))*10 #initialise the feature array, row dimension is unknown so rows will be appended eachh time\n",
        "    current_features = np.zeros((1,number_of_features))\n",
        "\n",
        "    for images in natsorted(os.listdir(folder_dir)):\n",
        "    \n",
        "        # check if the image ends with png\n",
        "        if (images.endswith(\".png\")):\n",
        "            #print(images) # for testing\n",
        "            ##use images to finish the directory call for im\n",
        "            ## Read an image to a variable\n",
        "            im = cv2.imread(folder_dir +\"/\" + images)\n",
        "            \n",
        "            # Get landmarks using the function created above\n",
        "            landmarks, _ = faceLandmarks(im)\n",
        "\n",
        "            if len(landmarks) == 0: #set image row to 0 if no face detected\n",
        "                current_features [0,:]=0\n",
        "            else:\n",
        "                # Render the landmarks on the first face detected. You can specify the face by passing the desired index to the landmarks array.\n",
        "                # In this case, one face was detected, so I'm passing landmarks[0] as the argument.\n",
        "                faceWithLandmarks = renderFacialLandmarks(im, landmarks[0])\n",
        "                for j in range(68):\n",
        "                  #print(j)\n",
        "                  current_features [0,j]=landmarks[0].parts()[0].x-landmarks[0].parts()[j].x\n",
        "                  current_features [0,j+68]=landmarks[0].parts()[0].y-landmarks[0].parts()[j].y\n",
        "        features = np.vstack((features,current_features))\n",
        "    \n",
        "    features = np.delete(features,0,axis = 0)\n",
        "    return features\n",
        "    print(\"done\")\n",
        "            "
      ]
    },
    {
      "cell_type": "code",
      "source": [
        "def getLabel(label_dir,column):\n",
        "  df = pd.read_csv(label_dir)\n",
        "\n",
        "  ## replace \"-1\" labels with a \"0\", not used in multiclass problems\n",
        "  df = df.replace(-1,0)\n",
        "  labels = df.iloc[:,column].values #face shape is the 3rd coloumn, eye colour is the 2nd\n",
        "  labels = np.transpose(labels)\n",
        "\n",
        "  return labels"
      ],
      "metadata": {
        "id": "R6TIiR_Vh-MQ"
      },
      "execution_count": null,
      "outputs": []
    },
    {
      "cell_type": "code",
      "source": [
        "def removeMissingValues (features, labels):\n",
        "\n",
        "  featuresAndLabels = np.column_stack((features,labels)) # combine the features and labels into one matrix, horizontally\n",
        "  featuresAndLabels = featuresAndLabels[~np.all(featuresAndLabels[:,:136] == 0, axis=1)] #remove rows if the feature row section is full of zeroes\n",
        "  clean_features = featuresAndLabels [:,:136] # remake feature matrix\n",
        "  clean_labels = featuresAndLabels [:,136] # remake label vector\n",
        "\n",
        "  return clean_features, clean_labels"
      ],
      "metadata": {
        "id": "IDI3QBB9v1g5"
      },
      "execution_count": null,
      "outputs": []
    },
    {
      "cell_type": "code",
      "source": [
        "## initial extraction of features\n",
        "folder_dir = \"/content/drive/MyDrive/Colab Notebooks/Test_folder/Upload/Datasets/cartoon_set/img\" # training + validation iamges\n",
        "features = extractFeatures(folder_dir)\n",
        "np.save(\"/content/drive/MyDrive/Colab Notebooks/Test_folder/Upload/B1/cartoon_feature_test_set.npy\",features)"
      ],
      "metadata": {
        "id": "BefDETqNL8Os"
      },
      "execution_count": null,
      "outputs": []
    },
    {
      "cell_type": "markdown",
      "source": [
        "Loading saved features and importing labels"
      ],
      "metadata": {
        "id": "n3o8gFMsrTZq"
      }
    },
    {
      "cell_type": "code",
      "source": [
        "features = np.load(\"/content/drive/MyDrive/Colab Notebooks/Test_folder/Upload/B1/feature_backup_2.npy\")"
      ],
      "metadata": {
        "id": "KKN4x4JM7pHL"
      },
      "execution_count": null,
      "outputs": []
    },
    {
      "cell_type": "code",
      "execution_count": null,
      "metadata": {
        "id": "jqS_bYQpOhp5"
      },
      "outputs": [],
      "source": [
        "## obtaining labels\n",
        "label_dir = '/content/drive/MyDrive/Colab Notebooks/Test_folder/Upload/Datasets/cartoon_set/labels_modified.csv' # training set labels\n",
        "labels = getLabel(label_dir,column = 2) # get label vector"
      ]
    },
    {
      "cell_type": "markdown",
      "source": [
        "Dataset Pre-Processing Stage\n"
      ],
      "metadata": {
        "id": "0okTZTCzr76c"
      }
    },
    {
      "cell_type": "code",
      "source": [
        "clean_features, clean_labels = removeMissingValues (features, labels) # remove image rows with missing values"
      ],
      "metadata": {
        "id": "VKWamJ9Rr-9G"
      },
      "execution_count": null,
      "outputs": []
    },
    {
      "cell_type": "markdown",
      "metadata": {
        "id": "ruUCXMTdjNmz"
      },
      "source": [
        "Graph features and lables // only works for bianry classification. Think of how to adapt or remove"
      ]
    },
    {
      "cell_type": "markdown",
      "source": [
        "Feature selection using select k best and chi test"
      ],
      "metadata": {
        "id": "-WIyWJqnJY1C"
      }
    },
    {
      "cell_type": "code",
      "source": [
        "kBest = 60\n",
        "selected_features = SelectKBest(chi2, k=kBest).fit_transform(abs(clean_features), clean_labels) # choose 30 best features based on chi test, no guideline found for rbf svm but 30 is max for linear svm\n",
        "# Find indices of chosen feature columns\n",
        "selector = SelectKBest(chi2,k=kBest).fit(abs(clean_features), clean_labels)\n",
        "mask = selector.get_support()  # Get boolean mask of selected features\n",
        "selected_indices = np.where(mask)[0]  # Convert mask to indices # to be used later to extract relevant feature colums from test set"
      ],
      "metadata": {
        "id": "Ubf0UETII71w"
      },
      "execution_count": null,
      "outputs": []
    },
    {
      "cell_type": "markdown",
      "source": [
        "Visualisation of Data"
      ],
      "metadata": {
        "id": "BmI1w8ObUrs8"
      }
    },
    {
      "cell_type": "code",
      "source": [
        "## plot features against each other with points coloured based on label\n",
        "## separet data into an array for each unique class\n",
        "\n",
        "indices = np.where(clean_labels[:] == 0)\n",
        "class_0 = selected_features [indices,:]\n",
        "\n",
        "indices = np.where(clean_labels[:] == 1)\n",
        "class_1 = selected_features [indices,:]\n",
        "\n",
        "indices = np.where(clean_labels[:] == 2)\n",
        "class_2 = selected_features [indices,:]\n",
        "\n",
        "indices = np.where(clean_labels[:] == 3)\n",
        "class_3 = selected_features [indices,:]\n",
        "\n",
        "indices = np.where(clean_labels[:] == 4)\n",
        "class_4 = selected_features [indices,:]\n",
        "\n",
        "fig = plt.figure()\n",
        "ax1 = fig.add_subplot(111)\n",
        "\n",
        "## control which features are plotted against each other\n",
        "## can vary variable value from 0 to 15 (inclusive) to obtain different plot\n",
        "feature1 = 16 # feature of x axis\n",
        "feature2 = 26 # feature of y axis\n",
        "\n",
        "ax1.scatter(class_0[0,:,feature1], class_0[0,:,feature2], s=10, c='b', marker=\"o\")\n",
        "ax1.scatter(class_1[0,:,feature1], class_1[0,:,feature2], s=10, c='g', marker=\"x\")\n",
        "ax1.scatter(class_2[0,:,feature1], class_2[0,:,feature2], s=10, c='r', marker=\"v\")\n",
        "ax1.scatter(class_3[0,:,feature1], class_3[0,:,feature2], s=10, c='c', marker=\"s\")\n",
        "ax1.scatter(class_4[0,:,feature1], class_4[0,:,feature2], s=10, c='m', marker=\"o\")\n",
        "\n",
        "plt.xlabel(\"Feature \"+ str(feature1),fontsize=16)\n",
        "plt.ylabel(\"Feature \"+ str(feature2),fontsize=16)\n",
        "plt.show()"
      ],
      "metadata": {
        "colab": {
          "base_uri": "https://localhost:8080/",
          "height": 366
        },
        "id": "A953n-GCUrLh",
        "outputId": "ea2fa75c-6244-482c-99ef-2204fdbea84e"
      },
      "execution_count": null,
      "outputs": [
        {
          "output_type": "display_data",
          "data": {
            "text/plain": [
              "<Figure size 576x396 with 1 Axes>"
            ],
            "image/png": "[encoded data removed]"
          },
          "metadata": {}
        }
      ]
    },
    {
      "cell_type": "code",
      "source": [
        "## Pie Chart Visualisation\n",
        "unique, counts = np.unique(clean_labels, return_counts=True) # get population numbers for each class\n",
        "\n",
        "labels = 'Shape 1', 'Shape 2', 'Shape 3', 'Shape 4', 'Shape 5'\n",
        "sizes = counts\n",
        "fig1, ax1 = plt.subplots()\n",
        "ax1.pie(sizes, labels=labels, autopct='%1.1f%%',\n",
        "        shadow=True, startangle=90, textprops={'fontsize': 16})\n",
        "ax1.axis('equal')  # Equal aspect ratio ensures that pie is drawn as a circle.\n",
        "plt.show()"
      ],
      "metadata": {
        "colab": {
          "base_uri": "https://localhost:8080/",
          "height": 336
        },
        "id": "JMdU7CGTU9B0",
        "outputId": "13582d76-c88c-42f7-86d5-c684686a09a0"
      },
      "execution_count": null,
      "outputs": [
        {
          "output_type": "display_data",
          "data": {
            "text/plain": [
              "<Figure size 576x396 with 1 Axes>"
            ],
            "image/png": "[encoded data removed]"
          },
          "metadata": {}
        }
      ]
    },
    {
      "cell_type": "markdown",
      "source": [
        "Splitting processed data into training and validation image sets."
      ],
      "metadata": {
        "id": "7gPaSgIfxF1t"
      }
    },
    {
      "cell_type": "code",
      "source": [
        "X_train, X_validate, Y_train, Y_validate = train_test_split(selected_features, clean_labels, test_size=0.3,random_state=109) # 70% training and 30% test"
      ],
      "metadata": {
        "id": "FryRZkg2Jf62"
      },
      "execution_count": null,
      "outputs": []
    },
    {
      "cell_type": "markdown",
      "source": [
        "Obtain test set from separate directory of images"
      ],
      "metadata": {
        "id": "JMVubyoM1i44"
      }
    },
    {
      "cell_type": "code",
      "source": [
        "##make a check to see if load file exists then reload, if it does not exist then extract."
      ],
      "metadata": {
        "id": "hoFyhO_F2rmU"
      },
      "execution_count": null,
      "outputs": []
    },
    {
      "cell_type": "code",
      "source": [
        "## Extract Features\n",
        "folder_dir = \"/content/drive/MyDrive/Colab Notebooks/Test_folder/Upload/dataset_AMLS_22-23_test/cartoon_set_test/img\" # test set\n",
        "features = extractFeatures(folder_dir)\n",
        "np.save(\"/content/drive/MyDrive/Colab Notebooks/Test_folder/Upload/B1/cartoon_feature_test_set.npy\",features) # saving features to a file"
      ],
      "metadata": {
        "id": "Rr4nZ5K71qbe"
      },
      "execution_count": null,
      "outputs": []
    },
    {
      "cell_type": "code",
      "source": [
        "## reload features from saved file and get labels\n",
        "features_test = np.load(\"/content/drive/MyDrive/Colab Notebooks/Test_folder/Upload/B1/cartoon_feature_test_set.npy\")\n",
        "\n",
        "## labels\n",
        "label_dir = '/content/drive/MyDrive/Colab Notebooks/Test_folder/Upload/dataset_AMLS_22-23_test/cartoon_set_test/modified_labels.csv' # test set labels\n",
        "labels_test = getLabel(label_dir,2) # get label vector"
      ],
      "metadata": {
        "id": "eauVOGrR2R9R"
      },
      "execution_count": null,
      "outputs": []
    },
    {
      "cell_type": "markdown",
      "source": [
        "Process Data"
      ],
      "metadata": {
        "id": "qKhkXyEB4cbz"
      }
    },
    {
      "cell_type": "code",
      "source": [
        "## Match naming convention\n",
        "X_test = abs(features_test[:,selected_indices]) # features should be positive\n",
        "Y_test = labels_test"
      ],
      "metadata": {
        "id": "SyGWDKsz4cHr"
      },
      "execution_count": null,
      "outputs": []
    },
    {
      "cell_type": "markdown",
      "source": [
        "Building Machine Learning Models: Training, Validation and Testing"
      ],
      "metadata": {
        "id": "vgqhQnlVxux7"
      }
    },
    {
      "cell_type": "code",
      "source": [
        "## scaling/normalising feature matrices of each set\n",
        "scaler = StandardScaler()  \n",
        "scaler.fit(X_train)\n",
        "X_train_s = scaler.transform(X_train)  \n",
        "X_test_s = scaler.transform(X_test)\n",
        "X_validate_s = scaler.transform(X_validate)"
      ],
      "metadata": {
        "id": "dwW4dCmYGdFZ"
      },
      "execution_count": null,
      "outputs": []
    },
    {
      "cell_type": "markdown",
      "source": [
        "Logistic Regression"
      ],
      "metadata": {
        "id": "7JkLLEecg4_g"
      }
    },
    {
      "cell_type": "code",
      "source": [
        "## Quick test of performance to decide whether it could be promising or not\n",
        "logr_model = LogisticRegression(max_iter = 200).fit(X_train, Y_train)\n",
        "preds = logr_model.predict(X_validate)\n",
        "print(metrics.classification_report(preds, Y_validate))\n",
        "metrics.confusion_matrix(Y_validate,preds)"
      ],
      "metadata": {
        "colab": {
          "base_uri": "https://localhost:8080/"
        },
        "id": "HwukLWbpJX16",
        "outputId": "819c7d42-e042-4f5e-cd3c-878706d345ac"
      },
      "execution_count": null,
      "outputs": [
        {
          "output_type": "stream",
          "name": "stdout",
          "text": [
            "              precision    recall  f1-score   support\n",
            "\n",
            "         0.0       0.51      0.60      0.55       428\n",
            "         1.0       0.30      0.54      0.39       277\n",
            "         2.0       0.72      0.35      0.47      1030\n",
            "         3.0       0.40      0.55      0.46       367\n",
            "         4.0       0.50      0.63      0.55       398\n",
            "\n",
            "    accuracy                           0.49      2500\n",
            "   macro avg       0.49      0.53      0.49      2500\n",
            "weighted avg       0.56      0.49      0.49      2500\n",
            "\n"
          ]
        },
        {
          "output_type": "stream",
          "name": "stderr",
          "text": [
            "/usr/local/lib/python3.8/dist-packages/sklearn/linear_model/_logistic.py:814: ConvergenceWarning: lbfgs failed to converge (status=1):\n",
            "STOP: TOTAL NO. of ITERATIONS REACHED LIMIT.\n",
            "\n",
            "Increase the number of iterations (max_iter) or scale the data as shown in:\n",
            "    https://scikit-learn.org/stable/modules/preprocessing.html\n",
            "Please also refer to the documentation for alternative solver options:\n",
            "    https://scikit-learn.org/stable/modules/linear_model.html#logistic-regression\n",
            "  n_iter_i = _check_optimize_result(\n"
          ]
        },
        {
          "output_type": "execute_result",
          "data": {
            "text/plain": [
              "array([[257,  28, 142,  23,  50],\n",
              "       [ 84, 150, 178,  42,  46],\n",
              "       [ 19,  22, 360,  79,  20],\n",
              "       [ 28,  56, 182, 201,  33],\n",
              "       [ 40,  21, 168,  22, 249]])"
            ]
          },
          "metadata": {},
          "execution_count": 20
        }
      ]
    },
    {
      "cell_type": "markdown",
      "source": [
        "SVM (RBF)"
      ],
      "metadata": {
        "id": "kUPPQILOhE7W"
      }
    },
    {
      "cell_type": "code",
      "source": [
        "## Tuning hyper parameters of svm rbf model using validation set\n",
        "\n",
        "# defining parameter range\n",
        "param_grid = {'C': [0.1, 1, 10, 100, 1000],\n",
        "\t\t\t'gamma': [1, 0.1, 0.01, 0.001, 0.0001],\n",
        "\t\t\t'kernel': ['rbf']}\n",
        "\n",
        "grid = GridSearchCV(svm.SVC(), param_grid, refit = True, verbose = 3)\n",
        "\n",
        "# fitting the model for grid search\n",
        "grid.fit(X_train_s, Y_train)"
      ],
      "metadata": {
        "colab": {
          "base_uri": "https://localhost:8080/"
        },
        "id": "uIlmA8HFL09n",
        "outputId": "94cd7903-cd6d-44f5-b155-0b8fad7aaf5c"
      },
      "execution_count": null,
      "outputs": [
        {
          "output_type": "stream",
          "name": "stdout",
          "text": [
            "Fitting 5 folds for each of 25 candidates, totalling 125 fits\n",
            "[CV 1/5] END ........C=0.1, gamma=1, kernel=rbf;, score=0.220 total time=   6.8s\n",
            "[CV 2/5] END ........C=0.1, gamma=1, kernel=rbf;, score=0.219 total time=   4.3s\n",
            "[CV 3/5] END ........C=0.1, gamma=1, kernel=rbf;, score=0.219 total time=   4.2s\n",
            "[CV 4/5] END ........C=0.1, gamma=1, kernel=rbf;, score=0.219 total time=   4.3s\n",
            "[CV 5/5] END ........C=0.1, gamma=1, kernel=rbf;, score=0.219 total time=   4.3s\n",
            "[CV 1/5] END ......C=0.1, gamma=0.1, kernel=rbf;, score=0.496 total time=   4.1s\n",
            "[CV 2/5] END ......C=0.1, gamma=0.1, kernel=rbf;, score=0.471 total time=   3.4s\n",
            "[CV 3/5] END ......C=0.1, gamma=0.1, kernel=rbf;, score=0.512 total time=   3.4s\n",
            "[CV 4/5] END ......C=0.1, gamma=0.1, kernel=rbf;, score=0.509 total time=   3.4s\n",
            "[CV 5/5] END ......C=0.1, gamma=0.1, kernel=rbf;, score=0.488 total time=   3.4s\n",
            "[CV 1/5] END .....C=0.1, gamma=0.01, kernel=rbf;, score=0.497 total time=   3.3s\n",
            "[CV 2/5] END .....C=0.1, gamma=0.01, kernel=rbf;, score=0.464 total time=   3.2s\n",
            "[CV 3/5] END .....C=0.1, gamma=0.01, kernel=rbf;, score=0.495 total time=   3.2s\n",
            "[CV 4/5] END .....C=0.1, gamma=0.01, kernel=rbf;, score=0.482 total time=   3.2s\n",
            "[CV 5/5] END .....C=0.1, gamma=0.01, kernel=rbf;, score=0.464 total time=   3.2s\n",
            "[CV 1/5] END ....C=0.1, gamma=0.001, kernel=rbf;, score=0.386 total time=   3.7s\n",
            "[CV 2/5] END ....C=0.1, gamma=0.001, kernel=rbf;, score=0.361 total time=   3.7s\n",
            "[CV 3/5] END ....C=0.1, gamma=0.001, kernel=rbf;, score=0.385 total time=   3.6s\n",
            "[CV 4/5] END ....C=0.1, gamma=0.001, kernel=rbf;, score=0.355 total time=   3.7s\n",
            "[CV 5/5] END ....C=0.1, gamma=0.001, kernel=rbf;, score=0.342 total time=   3.7s\n",
            "[CV 1/5] END ...C=0.1, gamma=0.0001, kernel=rbf;, score=0.220 total time=   3.8s\n",
            "[CV 2/5] END ...C=0.1, gamma=0.0001, kernel=rbf;, score=0.219 total time=   3.8s\n",
            "[CV 3/5] END ...C=0.1, gamma=0.0001, kernel=rbf;, score=0.220 total time=   3.8s\n",
            "[CV 4/5] END ...C=0.1, gamma=0.0001, kernel=rbf;, score=0.219 total time=   4.5s\n",
            "[CV 5/5] END ...C=0.1, gamma=0.0001, kernel=rbf;, score=0.219 total time=   4.6s\n",
            "[CV 1/5] END ..........C=1, gamma=1, kernel=rbf;, score=0.322 total time=   4.5s\n",
            "[CV 2/5] END ..........C=1, gamma=1, kernel=rbf;, score=0.319 total time=   5.3s\n",
            "[CV 3/5] END ..........C=1, gamma=1, kernel=rbf;, score=0.326 total time=   4.5s\n",
            "[CV 4/5] END ..........C=1, gamma=1, kernel=rbf;, score=0.322 total time=   4.4s\n",
            "[CV 5/5] END ..........C=1, gamma=1, kernel=rbf;, score=0.331 total time=   4.4s\n",
            "[CV 1/5] END ........C=1, gamma=0.1, kernel=rbf;, score=0.605 total time=   3.2s\n",
            "[CV 2/5] END ........C=1, gamma=0.1, kernel=rbf;, score=0.563 total time=   3.1s\n",
            "[CV 3/5] END ........C=1, gamma=0.1, kernel=rbf;, score=0.585 total time=   3.1s\n",
            "[CV 4/5] END ........C=1, gamma=0.1, kernel=rbf;, score=0.611 total time=   3.1s\n",
            "[CV 5/5] END ........C=1, gamma=0.1, kernel=rbf;, score=0.578 total time=   3.1s\n",
            "[CV 1/5] END .......C=1, gamma=0.01, kernel=rbf;, score=0.604 total time=   2.7s\n",
            "[CV 2/5] END .......C=1, gamma=0.01, kernel=rbf;, score=0.580 total time=   2.6s\n",
            "[CV 3/5] END .......C=1, gamma=0.01, kernel=rbf;, score=0.596 total time=   2.7s\n",
            "[CV 4/5] END .......C=1, gamma=0.01, kernel=rbf;, score=0.615 total time=   2.7s\n",
            "[CV 5/5] END .......C=1, gamma=0.01, kernel=rbf;, score=0.594 total time=   2.6s\n",
            "[CV 1/5] END ......C=1, gamma=0.001, kernel=rbf;, score=0.510 total time=   3.3s\n",
            "[CV 2/5] END ......C=1, gamma=0.001, kernel=rbf;, score=0.494 total time=   3.2s\n",
            "[CV 3/5] END ......C=1, gamma=0.001, kernel=rbf;, score=0.517 total time=   3.2s\n",
            "[CV 4/5] END ......C=1, gamma=0.001, kernel=rbf;, score=0.504 total time=   3.2s\n",
            "[CV 5/5] END ......C=1, gamma=0.001, kernel=rbf;, score=0.478 total time=   3.3s\n",
            "[CV 1/5] END .....C=1, gamma=0.0001, kernel=rbf;, score=0.389 total time=   3.7s\n",
            "[CV 2/5] END .....C=1, gamma=0.0001, kernel=rbf;, score=0.348 total time=   3.7s\n",
            "[CV 3/5] END .....C=1, gamma=0.0001, kernel=rbf;, score=0.381 total time=   3.7s\n",
            "[CV 4/5] END .....C=1, gamma=0.0001, kernel=rbf;, score=0.356 total time=   3.7s\n",
            "[CV 5/5] END .....C=1, gamma=0.0001, kernel=rbf;, score=0.332 total time=   3.7s\n",
            "[CV 1/5] END .........C=10, gamma=1, kernel=rbf;, score=0.358 total time=   4.1s\n",
            "[CV 2/5] END .........C=10, gamma=1, kernel=rbf;, score=0.348 total time=   5.3s\n",
            "[CV 3/5] END .........C=10, gamma=1, kernel=rbf;, score=0.347 total time=   4.5s\n",
            "[CV 4/5] END .........C=10, gamma=1, kernel=rbf;, score=0.344 total time=   4.2s\n",
            "[CV 5/5] END .........C=10, gamma=1, kernel=rbf;, score=0.356 total time=   4.2s\n",
            "[CV 1/5] END .......C=10, gamma=0.1, kernel=rbf;, score=0.603 total time=   4.0s\n",
            "[CV 2/5] END .......C=10, gamma=0.1, kernel=rbf;, score=0.581 total time=   3.8s\n",
            "[CV 3/5] END .......C=10, gamma=0.1, kernel=rbf;, score=0.600 total time=   3.9s\n",
            "[CV 4/5] END .......C=10, gamma=0.1, kernel=rbf;, score=0.614 total time=   3.9s\n",
            "[CV 5/5] END .......C=10, gamma=0.1, kernel=rbf;, score=0.577 total time=   3.9s\n",
            "[CV 1/5] END ......C=10, gamma=0.01, kernel=rbf;, score=0.671 total time=   2.5s\n",
            "[CV 2/5] END ......C=10, gamma=0.01, kernel=rbf;, score=0.643 total time=   2.5s\n",
            "[CV 3/5] END ......C=10, gamma=0.01, kernel=rbf;, score=0.653 total time=   2.5s\n",
            "[CV 4/5] END ......C=10, gamma=0.01, kernel=rbf;, score=0.669 total time=   2.5s\n",
            "[CV 5/5] END ......C=10, gamma=0.01, kernel=rbf;, score=0.639 total time=   2.5s\n",
            "[CV 1/5] END .....C=10, gamma=0.001, kernel=rbf;, score=0.614 total time=   2.8s\n",
            "[CV 2/5] END .....C=10, gamma=0.001, kernel=rbf;, score=0.587 total time=   3.1s\n",
            "[CV 3/5] END .....C=10, gamma=0.001, kernel=rbf;, score=0.589 total time=   3.0s\n",
            "[CV 4/5] END .....C=10, gamma=0.001, kernel=rbf;, score=0.620 total time=   3.4s\n",
            "[CV 5/5] END .....C=10, gamma=0.001, kernel=rbf;, score=0.594 total time=   2.8s\n",
            "[CV 1/5] END ....C=10, gamma=0.0001, kernel=rbf;, score=0.512 total time=   3.4s\n",
            "[CV 2/5] END ....C=10, gamma=0.0001, kernel=rbf;, score=0.494 total time=   3.2s\n",
            "[CV 3/5] END ....C=10, gamma=0.0001, kernel=rbf;, score=0.510 total time=   3.3s\n",
            "[CV 4/5] END ....C=10, gamma=0.0001, kernel=rbf;, score=0.511 total time=   3.3s\n",
            "[CV 5/5] END ....C=10, gamma=0.0001, kernel=rbf;, score=0.476 total time=   3.2s\n",
            "[CV 1/5] END ........C=100, gamma=1, kernel=rbf;, score=0.358 total time=   4.1s\n",
            "[CV 2/5] END ........C=100, gamma=1, kernel=rbf;, score=0.348 total time=   4.2s\n",
            "[CV 3/5] END ........C=100, gamma=1, kernel=rbf;, score=0.347 total time=   4.1s\n",
            "[CV 4/5] END ........C=100, gamma=1, kernel=rbf;, score=0.344 total time=   4.2s\n",
            "[CV 5/5] END ........C=100, gamma=1, kernel=rbf;, score=0.356 total time=   4.1s\n",
            "[CV 1/5] END ......C=100, gamma=0.1, kernel=rbf;, score=0.597 total time=   4.0s\n",
            "[CV 2/5] END ......C=100, gamma=0.1, kernel=rbf;, score=0.579 total time=   3.9s\n",
            "[CV 3/5] END ......C=100, gamma=0.1, kernel=rbf;, score=0.597 total time=   3.9s\n",
            "[CV 4/5] END ......C=100, gamma=0.1, kernel=rbf;, score=0.611 total time=   3.9s\n",
            "[CV 5/5] END ......C=100, gamma=0.1, kernel=rbf;, score=0.577 total time=   3.9s\n",
            "[CV 1/5] END .....C=100, gamma=0.01, kernel=rbf;, score=0.666 total time=   3.8s\n",
            "[CV 2/5] END .....C=100, gamma=0.01, kernel=rbf;, score=0.634 total time=   3.6s\n",
            "[CV 3/5] END .....C=100, gamma=0.01, kernel=rbf;, score=0.647 total time=   3.7s\n",
            "[CV 4/5] END .....C=100, gamma=0.01, kernel=rbf;, score=0.679 total time=   3.7s\n",
            "[CV 5/5] END .....C=100, gamma=0.01, kernel=rbf;, score=0.644 total time=   3.7s\n",
            "[CV 1/5] END ....C=100, gamma=0.001, kernel=rbf;, score=0.659 total time=   3.0s\n",
            "[CV 2/5] END ....C=100, gamma=0.001, kernel=rbf;, score=0.639 total time=   2.9s\n",
            "[CV 3/5] END ....C=100, gamma=0.001, kernel=rbf;, score=0.646 total time=   2.9s\n",
            "[CV 4/5] END ....C=100, gamma=0.001, kernel=rbf;, score=0.671 total time=   3.0s\n",
            "[CV 5/5] END ....C=100, gamma=0.001, kernel=rbf;, score=0.644 total time=   2.9s\n",
            "[CV 1/5] END ...C=100, gamma=0.0001, kernel=rbf;, score=0.589 total time=   3.0s\n",
            "[CV 2/5] END ...C=100, gamma=0.0001, kernel=rbf;, score=0.578 total time=   2.9s\n",
            "[CV 3/5] END ...C=100, gamma=0.0001, kernel=rbf;, score=0.586 total time=   2.9s\n",
            "[CV 4/5] END ...C=100, gamma=0.0001, kernel=rbf;, score=0.611 total time=   3.0s\n",
            "[CV 5/5] END ...C=100, gamma=0.0001, kernel=rbf;, score=0.580 total time=   2.9s\n",
            "[CV 1/5] END .......C=1000, gamma=1, kernel=rbf;, score=0.358 total time=   4.1s\n",
            "[CV 2/5] END .......C=1000, gamma=1, kernel=rbf;, score=0.348 total time=   4.1s\n",
            "[CV 3/5] END .......C=1000, gamma=1, kernel=rbf;, score=0.347 total time=   4.1s\n",
            "[CV 4/5] END .......C=1000, gamma=1, kernel=rbf;, score=0.344 total time=   4.1s\n",
            "[CV 5/5] END .......C=1000, gamma=1, kernel=rbf;, score=0.356 total time=   4.2s\n",
            "[CV 1/5] END .....C=1000, gamma=0.1, kernel=rbf;, score=0.597 total time=   3.9s\n",
            "[CV 2/5] END .....C=1000, gamma=0.1, kernel=rbf;, score=0.579 total time=   3.9s\n",
            "[CV 3/5] END .....C=1000, gamma=0.1, kernel=rbf;, score=0.597 total time=   4.0s\n",
            "[CV 4/5] END .....C=1000, gamma=0.1, kernel=rbf;, score=0.611 total time=   4.0s\n",
            "[CV 5/5] END .....C=1000, gamma=0.1, kernel=rbf;, score=0.577 total time=   3.9s\n",
            "[CV 1/5] END ....C=1000, gamma=0.01, kernel=rbf;, score=0.635 total time=   8.2s\n",
            "[CV 2/5] END ....C=1000, gamma=0.01, kernel=rbf;, score=0.606 total time=   6.0s\n",
            "[CV 3/5] END ....C=1000, gamma=0.01, kernel=rbf;, score=0.607 total time=   6.2s\n",
            "[CV 4/5] END ....C=1000, gamma=0.01, kernel=rbf;, score=0.646 total time=   6.6s\n",
            "[CV 5/5] END ....C=1000, gamma=0.01, kernel=rbf;, score=0.618 total time=   6.2s\n",
            "[CV 1/5] END ...C=1000, gamma=0.001, kernel=rbf;, score=0.679 total time=   5.3s\n",
            "[CV 2/5] END ...C=1000, gamma=0.001, kernel=rbf;, score=0.655 total time=   5.1s\n",
            "[CV 3/5] END ...C=1000, gamma=0.001, kernel=rbf;, score=0.663 total time=   5.1s\n",
            "[CV 4/5] END ...C=1000, gamma=0.001, kernel=rbf;, score=0.673 total time=   5.1s\n",
            "[CV 5/5] END ...C=1000, gamma=0.001, kernel=rbf;, score=0.661 total time=   5.3s\n",
            "[CV 1/5] END ..C=1000, gamma=0.0001, kernel=rbf;, score=0.641 total time=   3.3s\n",
            "[CV 2/5] END ..C=1000, gamma=0.0001, kernel=rbf;, score=0.628 total time=   3.2s\n",
            "[CV 3/5] END ..C=1000, gamma=0.0001, kernel=rbf;, score=0.628 total time=   3.1s\n",
            "[CV 4/5] END ..C=1000, gamma=0.0001, kernel=rbf;, score=0.667 total time=   3.3s\n",
            "[CV 5/5] END ..C=1000, gamma=0.0001, kernel=rbf;, score=0.628 total time=   3.2s\n"
          ]
        },
        {
          "output_type": "execute_result",
          "data": {
            "text/plain": [
              "GridSearchCV(estimator=SVC(),\n",
              "             param_grid={'C': [0.1, 1, 10, 100, 1000],\n",
              "                         'gamma': [1, 0.1, 0.01, 0.001, 0.0001],\n",
              "                         'kernel': ['rbf']},\n",
              "             verbose=3)"
            ]
          },
          "metadata": {},
          "execution_count": 23
        }
      ]
    },
    {
      "cell_type": "code",
      "source": [
        "# print best parameter after tuning\n",
        "print(grid.best_params_)\n",
        "\n",
        "# print how our model looks after hyper-parameter tuning\n",
        "print(grid.best_estimator_)"
      ],
      "metadata": {
        "colab": {
          "base_uri": "https://localhost:8080/"
        },
        "id": "aN6Bc1jRMcVJ",
        "outputId": "eb39ce92-14af-4d28-a17b-269965444f09"
      },
      "execution_count": null,
      "outputs": [
        {
          "output_type": "stream",
          "name": "stdout",
          "text": [
            "{'C': 1000, 'gamma': 0.001, 'kernel': 'rbf'}\n",
            "SVC(C=1000, gamma=0.001)\n"
          ]
        }
      ]
    },
    {
      "cell_type": "code",
      "source": [
        "## Validation ## should evaluate with test set\n",
        "grid_predictions = grid.predict(X_validate_s)\n",
        "\n",
        "# print classification report\n",
        "print(metrics.classification_report(Y_validate, grid_predictions))"
      ],
      "metadata": {
        "colab": {
          "base_uri": "https://localhost:8080/"
        },
        "id": "NwRntfUJMdIN",
        "outputId": "200ee384-0703-43e1-eb5f-3e3a6d18fded"
      },
      "execution_count": null,
      "outputs": [
        {
          "output_type": "stream",
          "name": "stdout",
          "text": [
            "              precision    recall  f1-score   support\n",
            "\n",
            "         0.0       0.70      0.73      0.72       483\n",
            "         1.0       0.69      0.55      0.61       452\n",
            "         2.0       0.65      0.74      0.69       508\n",
            "         3.0       0.67      0.64      0.65       503\n",
            "         4.0       0.70      0.73      0.72       450\n",
            "\n",
            "    accuracy                           0.68      2396\n",
            "   macro avg       0.68      0.68      0.68      2396\n",
            "weighted avg       0.68      0.68      0.68      2396\n",
            "\n"
          ]
        }
      ]
    },
    {
      "cell_type": "code",
      "source": [
        "## training tuned model based on training set\n",
        "# {'C': 1000, 'gamma': 0.001, 'kernel': 'rbf'}\n",
        "\n",
        "#Create a svm Classifier\n",
        "rbf_svm_model = svm.SVC(decision_function_shape='ovo',kernel='rbf',C=1000, gamma=0.001) #\n",
        "\n",
        "#Train the model using the training sets\n",
        "rbf_svm_model.fit(X_train_s, Y_train)"
      ],
      "metadata": {
        "colab": {
          "base_uri": "https://localhost:8080/"
        },
        "id": "su-Ra8V8J3lG",
        "outputId": "30de0a09-d43e-4fd4-ae21-8c8c6cb3c574"
      },
      "execution_count": null,
      "outputs": [
        {
          "output_type": "execute_result",
          "data": {
            "text/plain": [
              "SVC(C=100, decision_function_shape='ovo', gamma=0.0001)"
            ]
          },
          "metadata": {},
          "execution_count": 32
        }
      ]
    },
    {
      "cell_type": "code",
      "source": [
        "#Predict the response for test dataset\n",
        "y_pred = rbf_svm_model.predict(X_test_s)\n",
        "\n",
        "print(metrics.classification_report(y_pred, Y_test))\n",
        "metrics.confusion_matrix(Y_test,y_pred)\n",
        "cm_svm = metrics.confusion_matrix(Y_test,y_pred) # stored to be used to graph confusion matrix for report"
      ],
      "metadata": {
        "colab": {
          "base_uri": "https://localhost:8080/"
        },
        "id": "pkh-nPl48ADX",
        "outputId": "5a4fe9a9-9c69-427f-e09e-5d19dcd02c02"
      },
      "execution_count": null,
      "outputs": [
        {
          "output_type": "stream",
          "name": "stdout",
          "text": [
            "              precision    recall  f1-score   support\n",
            "\n",
            "         0.0       0.49      0.60      0.54       406\n",
            "         1.0       0.28      0.59      0.38       236\n",
            "         2.0       0.79      0.37      0.50      1082\n",
            "         3.0       0.48      0.61      0.54       396\n",
            "         4.0       0.47      0.62      0.53       380\n",
            "\n",
            "    accuracy                           0.50      2500\n",
            "   macro avg       0.50      0.56      0.50      2500\n",
            "weighted avg       0.60      0.50      0.51      2500\n",
            "\n"
          ]
        }
      ]
    },
    {
      "cell_type": "code",
      "source": [
        "## Creating confusion matrix plot\n",
        "ax= plt.subplot()\n",
        "sns.heatmap(cm_svm, annot=True, fmt='g', ax=ax, cmap=\"BuPu\");  #annot=True to annotate cells, ftm='g' to disable scientific notation\n",
        "\n",
        "# labels, title and ticks\n",
        "ax.set_xlabel('Predicted labels', fontsize = 16);ax.set_ylabel('True labels', fontsize = 16);  \n",
        "font_size = 14 # Adjust as appropriate.\n",
        "ax.tick_params(labelsize=font_size)\n",
        "ax.xaxis.set_ticklabels(['0', '1', \"2\", \"3\", \"4\"]); ax.yaxis.set_ticklabels(['0', '1', \"2\", \"3\", \"4\"]); # x axis = 0, 1 | y axis = 0,1"
      ],
      "metadata": {
        "colab": {
          "base_uri": "https://localhost:8080/",
          "height": 288
        },
        "id": "2qM9Ma96cwKn",
        "outputId": "944014ac-43aa-4ab7-f38f-d68d85ac2990"
      },
      "execution_count": null,
      "outputs": [
        {
          "output_type": "display_data",
          "data": {
            "text/plain": [
              "<Figure size 432x288 with 2 Axes>"
            ],
            "image/png": "[encoded data removed]"
          },
          "metadata": {
            "needs_background": "light"
          }
        }
      ]
    },
    {
      "cell_type": "markdown",
      "source": [
        "Save the model to be reloaded later"
      ],
      "metadata": {
        "id": "eLFe9XljwGHh"
      }
    },
    {
      "cell_type": "code",
      "source": [
        "# save the model to disk\n",
        "filename = 'B1_svm_model.sav'\n",
        "pickle.dump(rbf_svm_model, open(filename, 'wb'))"
      ],
      "metadata": {
        "id": "8MS2zXLlwMmU"
      },
      "execution_count": null,
      "outputs": []
    },
    {
      "cell_type": "code",
      "source": [
        "# load the model from disk\n",
        "filename = 'B1_svm_model.sav'\n",
        "loaded_model = pickle.load(open(filename, 'rb'))"
      ],
      "metadata": {
        "id": "MNHTlRYSwM59"
      },
      "execution_count": null,
      "outputs": []
    },
    {
      "cell_type": "code",
      "source": [
        "## Test loaded model\n",
        "result = loaded_model.score(X_test, Y_test)\n",
        "print(result)"
      ],
      "metadata": {
        "id": "sTXH_2Du7EqC"
      },
      "execution_count": null,
      "outputs": []
    },
    {
      "cell_type": "markdown",
      "source": [
        "Examination of Learning Curve"
      ],
      "metadata": {
        "id": "Il5dfFllb4Qe"
      }
    },
    {
      "cell_type": "code",
      "source": [
        "#rebuild untrained model that achieved highest performance\n",
        "estimator = svm.SVC(decision_function_shape='ovo',kernel='rbf',C=100, gamma=0.0001)\n",
        "train_sizes, train_scores, test_scores, fit_times, _ = learning_curve(estimator, selected_features, clean_labels, cv = 5, return_times=True)"
      ],
      "metadata": {
        "id": "g2BJk3zM1Wc4"
      },
      "execution_count": null,
      "outputs": []
    },
    {
      "cell_type": "code",
      "source": [
        "## plotting learning curve\n",
        "plt.style.use('seaborn')\n",
        "plt.plot(train_sizes,np.mean(train_scores,axis=1))\n",
        "plt.plot(train_sizes,np.mean(test_scores,axis=1))\n",
        "plt.ylabel('Score', fontsize = 16)\n",
        "plt.xlabel('Training set size', fontsize = 16)\n",
        "plt.title('B1: Learning Curve for an SVM', fontsize = 18, y = 1.03)\n",
        "plt.legend([\"Train Score\", \"Test Score\"],prop={'size': 14})\n",
        "plt.show()"
      ],
      "metadata": {
        "colab": {
          "base_uri": "https://localhost:8080/",
          "height": 394
        },
        "id": "KI8-RVKG8dpy",
        "outputId": "2a479428-0fbe-4ecd-c5d4-d7e968863fb7"
      },
      "execution_count": null,
      "outputs": [
        {
          "output_type": "display_data",
          "data": {
            "text/plain": [
              "<Figure size 576x396 with 1 Axes>"
            ],
            "image/png": "[encoded data removed]"
          },
          "metadata": {}
        }
      ]
    }
  ],
  "metadata": {
    "colab": {
      "provenance": [],
      "authorship_tag": "ABX9TyNCt5hgGPV0T0oRD1+ixdIY",
      "include_colab_link": true
    },
    "kernelspec": {
      "display_name": "Python 3",
      "name": "python3"
    },
    "language_info": {
      "name": "python"
    }
  },
  "nbformat": 4,
  "nbformat_minor": 0
}