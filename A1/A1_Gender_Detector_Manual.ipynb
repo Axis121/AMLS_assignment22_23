{
  "cells": [
    {
      "cell_type": "markdown",
      "metadata": {
        "id": "view-in-github",
        "colab_type": "text"
      },
      "source": [
        "<a href=\"https://colab.research.google.com/github/Axis121/AMLS_assignment22_23/blob/main/A1/A1_Gender_Detector_Manual.ipynb\" target=\"_parent\"><img src=\"https://colab.research.google.com/assets/colab-badge.svg\" alt=\"Open In Colab\"/></a>"
      ]
    },
    {
      "cell_type": "code",
      "execution_count": null,
      "metadata": {
        "colab": {
          "base_uri": "https://localhost:8080/"
        },
        "id": "iztaEUNzOAMP",
        "outputId": "f95012cc-07bf-452a-b03a-887a270a85b0"
      },
      "outputs": [
        {
          "output_type": "stream",
          "name": "stdout",
          "text": [
            "Mounted at /content/drive\n"
          ]
        }
      ],
      "source": [
        "from google.colab import drive\n",
        "drive.mount('/content/drive')"
      ]
    },
    {
      "cell_type": "code",
      "execution_count": null,
      "metadata": {
        "id": "FKhxLRjkSjzr"
      },
      "outputs": [],
      "source": [
        "## general imports\n",
        "import cv2 # manipulating images\n",
        "import dlib # for face detection\n",
        "from google.colab.patches import cv2_imshow \n",
        "from natsort import natsorted \n",
        "import os # to navigate file directories\n",
        "from os import listdir\n",
        "import pickle # used to save models\n",
        "\n",
        "## imports for manipulating and visualising data\n",
        "import numpy as np\n",
        "import pandas as pd\n",
        "import matplotlib.pyplot as plt\n",
        "from sklearn.feature_selection import SelectKBest, chi2 # test to select most signifacnt features\n",
        "from sklearn.preprocessing import StandardScaler \n",
        "\n",
        "## imports for model building\n",
        "from sklearn.model_selection import train_test_split\n",
        "from sklearn.model_selection import GridSearchCV # cross validation/ grid search for hyper-parameter tuning\n",
        "from sklearn.linear_model import LogisticRegression\n",
        "from sklearn import svm\n",
        "from sklearn.neural_network import MLPClassifier\n",
        "\n",
        "## imports for model evaluation\n",
        "from sklearn import metrics\n",
        "import seaborn as sns # graphing confusion matrices\n",
        "from sklearn.model_selection import learning_curve # plot learning curve for a model\n",
        "\n",
        "##move all imports here\n"
      ]
    },
    {
      "cell_type": "code",
      "execution_count": null,
      "metadata": {
        "id": "09_mBJgWSqXT"
      },
      "outputs": [],
      "source": [
        "def faceLandmarks(im):\n",
        "\n",
        "    # Path for the detection model\n",
        "    PREDICTOR_PATH = r\"/content/drive/MyDrive/Colab Notebooks/Test_folder/shape_predictor_68_face_landmarks.dat\"\n",
        "    \n",
        "    # Create object to detect the face\n",
        "    faceDetector = dlib.get_frontal_face_detector()\n",
        "\n",
        "    # Create object to detect the facial landmarks\n",
        "    landmarkDetector = dlib.shape_predictor(PREDICTOR_PATH)\n",
        "\n",
        "    # Detect faces\n",
        "    faceRects = faceDetector(im, 0)\n",
        "\n",
        "    # Initialize landmarksAll array\n",
        "    landmarksAll = []\n",
        "\n",
        "    # For each face detected in the image, this chunk of code creates a ROI around the face and pass it as an argument to the \n",
        "    # facial landmark detector and append the result to the array landmarks \n",
        "    for i in range(0, len(faceRects)):\n",
        "        newRect = dlib.rectangle(int(faceRects[i].left()),\n",
        "                            int(faceRects[i].top()),\n",
        "                            int(faceRects[i].right()),\n",
        "                            int(faceRects[i].bottom()))\n",
        "        landmarks = landmarkDetector(im, newRect)\n",
        "        landmarksAll.append(landmarks)\n",
        "\n",
        "    return landmarksAll, faceRects\n"
      ]
    },
    {
      "cell_type": "code",
      "execution_count": null,
      "metadata": {
        "id": "j71iWF-vSxO1"
      },
      "outputs": [],
      "source": [
        "def renderFacialLandmarks(im, landmarks):\n",
        "    \n",
        "    # Convert landmarks into iteratable array\n",
        "    points = []\n",
        "    [points.append((p.x, p.y)) for p in landmarks.parts()]\n",
        "\n",
        "    # Loop through array and draw a circle for each landmark\n",
        "    for p in points:\n",
        "        cv2.circle(im, (int(p[0]),int(p[1])), 2, (255,0,0),-1)\n",
        "\n",
        "    # Return image with facial landmarks \n",
        "    return im"
      ]
    },
    {
      "cell_type": "code",
      "execution_count": null,
      "metadata": {
        "id": "BstHIzNgBSnF"
      },
      "outputs": [],
      "source": [
        "def extractFeatures(folder_dir): \n",
        "    number_of_features = 136 #68 coordinates, x and y points\n",
        "    features = np.ones((1,number_of_features))*10 #initialise the feature array, row dimension is unknown so rows will be appended eachh time\n",
        "    current_features = np.zeros((1,number_of_features))\n",
        "\n",
        "    for images in natsorted(os.listdir(folder_dir)):\n",
        "    \n",
        "        # check if the image ends with png\n",
        "        if (images.endswith(\".jpg\")):\n",
        "            \n",
        "            #print(images) # for testing\n",
        "            ##use images to finish the directory call for im\n",
        "            ## Read an image to a variable\n",
        "            im = cv2.imread(folder_dir +\"/\" + images)\n",
        "            \n",
        "            # Get landmarks using the function created above\n",
        "            landmarks, _ = faceLandmarks(im)\n",
        "\n",
        "            if len(landmarks) == 0: #set features to 0\n",
        "                for j in range(68):\n",
        "                  current_features [0,j]=0\n",
        "                  current_features [0,j+68]=0\n",
        "\n",
        "            else:\n",
        "                # Render the landmarks on the first face detected\n",
        "                # In this case, one face was detected, so I'm passing landmarks[0] as the argument.\n",
        "                faceWithLandmarks = renderFacialLandmarks(im, landmarks[0])\n",
        "                for j in range(68):\n",
        "                  current_features [0,j]=landmarks[0].parts()[0].x-landmarks[0].parts()[j].x\n",
        "                  current_features [0,j+68]=landmarks[0].parts()[0].y-landmarks[0].parts()[j].y\n",
        "        features = np.vstack((features,current_features)) # vertically combine the returned feature array of each image\n",
        "    \n",
        "    features = np.delete(features,0,axis = 0) # remove placeholder first row, does not represent an image\n",
        "    return features\n",
        "    print(\"done\")\n",
        "            "
      ]
    },
    {
      "cell_type": "code",
      "source": [
        "def getSelectedFacialFeatures(features): # derive the specific features from the landmark coordinates\n",
        "  rows, cols = features.shape\n",
        "  number_of_features = 22\n",
        "  x = features [:,:68] # extract x coordinates from features matrix\n",
        "  y = features [:,-68:] # extract y coordinates from features matrix\n",
        "\n",
        "  selected_features = np.zeros((rows,number_of_features))\n",
        "\n",
        "  # lip width\n",
        "  selected_features [:,0] = x[:,48] - x[:,54]\n",
        "\n",
        "  # jaw width\n",
        "  selected_features [:,1] = x[:,2] - x[:,14]\n",
        "\n",
        "  # cheekbone prominence\n",
        "  selected_features [:,2] = y[:,14] - y[:,0]\n",
        "\n",
        "  # forehead size\n",
        "  selected_features [:,3] = y[:,26] - y[:,18]\n",
        "\n",
        "  # Cheek puffiness\n",
        "  selected_features [:,4] = y[:,11] - y[:,30]\n",
        "\n",
        "  # lip curvature \n",
        "  selected_features [:,5] = y[:,60] - y[:,66]\n",
        "\n",
        "  # Mouth corners\n",
        "  selected_features [:,6] = x[:,48]\n",
        "  selected_features [:,7] = y[:,48]\n",
        "\n",
        "  selected_features [:,8] = x[:,54]\n",
        "  selected_features [:,9] = y[:,54]\n",
        "\n",
        "  # eye corners\n",
        "\n",
        "  selected_features [:,10] = x[:,16]\n",
        "  selected_features [:,11] = y[:,16]\n",
        "\n",
        "  selected_features [:,12] = x[:,20]\n",
        "  selected_features [:,13] = y[:,20]\n",
        "\n",
        "  selected_features [:,14] = x[:,21]\n",
        "  selected_features [:,15] = y[:,21]\n",
        "\n",
        "  selected_features [:,16] = x[:,25]\n",
        "  selected_features [:,17] = y[:,25]\n",
        "\n",
        "  # cheekbone prominence\n",
        "  selected_features [:,18] = y[:,14] - y[:,0]\n",
        "\n",
        "  # eyebrow thickness\n",
        "  selected_features [:,19] = (y[:,16] + y[:,20] + y[:,21] + y[:,25])/4\n",
        "\n",
        "  # lip thickness\n",
        "  selected_features [:,20] = (y[:,49] + y[:,51] + y[:,57] + y[:,59])/4\n",
        "\n",
        "  # jaw shape \n",
        "  selected_features [:,21] = (x[:,0] + x[:,16] + x[:,25])/3 -x[:,7]/3\n",
        "  \n",
        "  return abs(selected_features)"
      ],
      "metadata": {
        "id": "pbluSnY9xcJM"
      },
      "execution_count": null,
      "outputs": []
    },
    {
      "cell_type": "code",
      "source": [
        "def getLabel(label_dir,column):\n",
        "  df = pd.read_csv(label_dir)\n",
        "\n",
        "  ## replace \"-1\" labels with a \"0\"\n",
        "  df = df.replace(-1,0)\n",
        "  labels = df.iloc[:,column].values #face shape is the 3rd coloumn, eye colour is the 2nd\n",
        "  labels = np.transpose(labels)\n",
        "\n",
        "  return labels"
      ],
      "metadata": {
        "id": "R6TIiR_Vh-MQ"
      },
      "execution_count": null,
      "outputs": []
    },
    {
      "cell_type": "code",
      "source": [
        "def removeMissingValues (features, labels): # data rows corresponding to image that could not have a face detected\n",
        "\n",
        "  rows, cols = features.shape\n",
        "  featuresAndLabels = np.column_stack((features,labels)) # combine the features and labels into one matrix, horizontally\n",
        "  featuresAndLabels = featuresAndLabels[~np.all(featuresAndLabels[:,:136] == 0, axis=1)] #remove rows if the feature row section is full of zeroes\n",
        "  featuresAndLabels = featuresAndLabels[~np.any(np.isnan(featuresAndLabels[:,:136])==True, axis=1)] #remove rows if the feature row section is full of zeroes\n",
        "  featuresAndLabels = featuresAndLabels[~np.any(np.isinf(featuresAndLabels[:,:136])==True, axis=1)] #remove rows if the feature row section is full of zeroes\n",
        "\n",
        "  clean_features = featuresAndLabels [:,:cols] # remake feature matrix\n",
        "  clean_labels = featuresAndLabels [:,-1] # remake label vector\n",
        "\n",
        "  return clean_features, clean_labels"
      ],
      "metadata": {
        "id": "IDI3QBB9v1g5"
      },
      "execution_count": null,
      "outputs": []
    },
    {
      "cell_type": "code",
      "source": [
        "## initial extraction of features\n",
        "folder_dir = \"/content/drive/MyDrive/Colab Notebooks/Test_folder/Upload/Datasets/celeba/img\" # training + validation iamges\n",
        "features = extractFeatures(folder_dir)\n",
        "np.save(\"/content/drive/MyDrive/Colab Notebooks/Test_folder/Upload/A1/CelebA_feature_set.npy\",features) # saving features to file"
      ],
      "metadata": {
        "id": "BefDETqNL8Os"
      },
      "execution_count": null,
      "outputs": []
    },
    {
      "cell_type": "markdown",
      "source": [
        "Loading saved features and importing labels"
      ],
      "metadata": {
        "id": "n3o8gFMsrTZq"
      }
    },
    {
      "cell_type": "code",
      "source": [
        "features = np.load(\"/content/drive/MyDrive/Colab Notebooks/Test_folder/Upload/A1/CelebA_feature_set.npy\")"
      ],
      "metadata": {
        "id": "KKN4x4JM7pHL"
      },
      "execution_count": null,
      "outputs": []
    },
    {
      "cell_type": "code",
      "execution_count": null,
      "metadata": {
        "id": "jqS_bYQpOhp5"
      },
      "outputs": [],
      "source": [
        "## obtaining labels\n",
        "label_dir = '/content/drive/MyDrive/Colab Notebooks/Test_folder/Upload/Datasets/celeba/labels_modified.csv' # training + validation labels\n",
        "labels = getLabel(label_dir,column = 2) # get label vector #gender is the 3rd column, smile is the 4th"
      ]
    },
    {
      "cell_type": "markdown",
      "source": [
        "Dataset Pre-Processing Stage"
      ],
      "metadata": {
        "id": "bVEG49vu4ua8"
      }
    },
    {
      "cell_type": "code",
      "source": [
        "# get selected facial features\n",
        "selected_features = getSelectedFacialFeatures (features)\n",
        "#remove rows with missing values\n",
        "clean_features, clean_labels = removeMissingValues (selected_features, labels)"
      ],
      "metadata": {
        "id": "kcOt3to24t0y"
      },
      "execution_count": null,
      "outputs": []
    },
    {
      "cell_type": "markdown",
      "source": [
        "Visualisation of Data\n"
      ],
      "metadata": {
        "id": "HctRiQDalgBX"
      }
    },
    {
      "cell_type": "code",
      "execution_count": null,
      "metadata": {
        "id": "mYjtdKJjjPzQ",
        "colab": {
          "base_uri": "https://localhost:8080/",
          "height": 284
        },
        "outputId": "791b4a30-4d45-4cd8-d8d8-4f0cb8971f67"
      },
      "outputs": [
        {
          "output_type": "display_data",
          "data": {
            "text/plain": [
              "<Figure size 432x288 with 1 Axes>"
            ],
            "image/png": "[encoded data removed]"
          },
          "metadata": {
            "needs_background": "light"
          }
        }
      ],
      "source": [
        "## plot features against each other with points coloured based on label\n",
        "col = np.where(clean_labels>0,'b','r')\n",
        "\n",
        "plt.scatter(clean_features[:,18], clean_features[:,15], c=col, s=5, linewidth=0)\n",
        "plt.xlabel(\"Feature 19\",fontsize=16)\n",
        "plt.ylabel(\"Feature 16\",fontsize=16)\n",
        "plt.show()"
      ]
    },
    {
      "cell_type": "code",
      "source": [
        "## Pie Chart Visualisation\n",
        "unique, counts = np.unique(clean_labels, return_counts=True)\n",
        "\n",
        "labels = 'Female', 'Male'\n",
        "sizes = counts\n",
        "fig1, ax1 = plt.subplots()\n",
        "ax1.pie(sizes, labels=labels, autopct='%1.1f%%',\n",
        "        shadow=True, startangle=90, textprops={'fontsize': 16})\n",
        "ax1.axis('equal')  # Equal aspect ratio ensures that pie is drawn as a circle.\n",
        "plt.show()"
      ],
      "metadata": {
        "colab": {
          "base_uri": "https://localhost:8080/",
          "height": 248
        },
        "id": "4wAA74ltTC3f",
        "outputId": "15d475f8-89fc-4a20-db5e-167106b33ca3"
      },
      "execution_count": null,
      "outputs": [
        {
          "output_type": "display_data",
          "data": {
            "text/plain": [
              "<Figure size 432x288 with 1 Axes>"
            ],
            "image/png": "[encoded data removed]"
          },
          "metadata": {}
        }
      ]
    },
    {
      "cell_type": "markdown",
      "source": [
        "Splitting processed data into training and validation image sets."
      ],
      "metadata": {
        "id": "7gPaSgIfxF1t"
      }
    },
    {
      "cell_type": "code",
      "source": [
        "X_train, X_validate, Y_train, Y_validate = train_test_split(clean_features, clean_labels, test_size=0.3,random_state=109) # 70% training and 30% test"
      ],
      "metadata": {
        "id": "FryRZkg2Jf62"
      },
      "execution_count": null,
      "outputs": []
    },
    {
      "cell_type": "markdown",
      "source": [
        "Obtain test set from separate directory of images"
      ],
      "metadata": {
        "id": "JMVubyoM1i44"
      }
    },
    {
      "cell_type": "code",
      "source": [
        "## Extract Features\n",
        "folder_dir = \"/content/drive/MyDrive/Colab Notebooks/Test_folder/Upload/dataset_AMLS_22-23_test/celeba_test/img\" # test set\n",
        "features = extractFeatures(folder_dir)\n",
        "np.save(\"/content/drive/MyDrive/Colab Notebooks/Test_folder/Upload/A1/celebA_feature_test_set.npy\",features) # saving features to a file"
      ],
      "metadata": {
        "id": "Rr4nZ5K71qbe"
      },
      "execution_count": null,
      "outputs": []
    },
    {
      "cell_type": "code",
      "source": [
        "## reload features from saved file and get labels\n",
        "features_test = np.load(\"/content/drive/MyDrive/Colab Notebooks/Test_folder/Upload/A1/celebA_feature_test_set.npy\")\n",
        "\n",
        "## labels\n",
        "label_dir = '/content/drive/MyDrive/Colab Notebooks/Test_folder/Upload/dataset_AMLS_22-23_test/celeba_test/labels_modified.csv' # test set labels\n",
        "labels_test = getLabel(label_dir, column = 2) # get label vector #gender is the 3rd column, smile is the 4th\n",
        "\n",
        "# get selected facial features\n",
        "selected_features_test = getSelectedFacialFeatures (features_test)\n",
        "\n",
        "## Match naming convention\n",
        "X_test = selected_features_test\n",
        "Y_test = labels_test"
      ],
      "metadata": {
        "id": "eauVOGrR2R9R"
      },
      "execution_count": null,
      "outputs": []
    },
    {
      "cell_type": "markdown",
      "source": [
        "Building Machine Learning Models: Training, Validation and Testing"
      ],
      "metadata": {
        "id": "vgqhQnlVxux7"
      }
    },
    {
      "cell_type": "code",
      "source": [
        "# normalise feature data\n",
        "X_validate_normalised = X_validate / X_validate.max(axis=0)\n",
        "X_train_normalised = X_train / X_train.max(axis=0)\n",
        "X_test_normalised = X_test / X_test.max(axis=0)"
      ],
      "metadata": {
        "id": "gJQDS8WqrxKD"
      },
      "execution_count": null,
      "outputs": []
    },
    {
      "cell_type": "markdown",
      "source": [
        "Logistic Regression"
      ],
      "metadata": {
        "id": "kpEGiW84mSNq"
      }
    },
    {
      "cell_type": "code",
      "source": [
        "## Tuning hyper parameters of logistic regression model using validation set\n",
        "\n",
        "# defining parameter range\n",
        "param_grid = {'C': [0.01, 0.1, 1, 10, 100],\n",
        "      'solver': ['newton-cg', 'lbfgs', 'liblinear'],\n",
        "      \"penalty\": [\"l2\"],\n",
        "  \t  \"max_iter\": [100, 200, 300, 400, 500, 600, 700, 800]\n",
        "      }\n",
        "\n",
        "grid = GridSearchCV(LogisticRegression(), param_grid, verbose = 3)\n",
        "\n",
        "# fitting the model for grid search\n",
        "grid.fit(X_validate_normalised, Y_validate)"
      ],
      "metadata": {
        "colab": {
          "base_uri": "https://localhost:8080/"
        },
        "id": "7mw2sDD2ncYL",
        "outputId": "08839712-0dfc-44f1-dfb6-2f6030724690"
      },
      "execution_count": null,
      "outputs": [
        {
          "output_type": "stream",
          "name": "stdout",
          "text": [
            "Fitting 5 folds for each of 120 candidates, totalling 600 fits\n",
            "[CV 1/5] END C=0.01, max_iter=100, penalty=l2, solver=newton-cg;, score=0.611 total time=   0.0s\n",
            "[CV 2/5] END C=0.01, max_iter=100, penalty=l2, solver=newton-cg;, score=0.574 total time=   0.0s\n",
            "[CV 3/5] END C=0.01, max_iter=100, penalty=l2, solver=newton-cg;, score=0.576 total time=   0.0s\n",
            "[CV 4/5] END C=0.01, max_iter=100, penalty=l2, solver=newton-cg;, score=0.582 total time=   0.0s\n",
            "[CV 5/5] END C=0.01, max_iter=100, penalty=l2, solver=newton-cg;, score=0.572 total time=   0.0s\n",
            "[CV 1/5] END C=0.01, max_iter=100, penalty=l2, solver=lbfgs;, score=0.611 total time=   0.0s\n",
            "[CV 2/5] END C=0.01, max_iter=100, penalty=l2, solver=lbfgs;, score=0.574 total time=   0.0s\n",
            "[CV 3/5] END C=0.01, max_iter=100, penalty=l2, solver=lbfgs;, score=0.576 total time=   0.0s\n",
            "[CV 4/5] END C=0.01, max_iter=100, penalty=l2, solver=lbfgs;, score=0.582 total time=   0.0s\n",
            "[CV 5/5] END C=0.01, max_iter=100, penalty=l2, solver=lbfgs;, score=0.572 total time=   0.0s\n",
            "[CV 1/5] END C=0.01, max_iter=100, penalty=l2, solver=liblinear;, score=0.577 total time=   0.0s\n",
            "[CV 2/5] END C=0.01, max_iter=100, penalty=l2, solver=liblinear;, score=0.544 total time=   0.0s\n",
            "[CV 3/5] END C=0.01, max_iter=100, penalty=l2, solver=liblinear;, score=0.562 total time=   0.0s\n",
            "[CV 4/5] END C=0.01, max_iter=100, penalty=l2, solver=liblinear;, score=0.569 total time=   0.0s\n",
            "[CV 5/5] END C=0.01, max_iter=100, penalty=l2, solver=liblinear;, score=0.532 total time=   0.0s\n",
            "[CV 1/5] END C=0.01, max_iter=200, penalty=l2, solver=newton-cg;, score=0.611 total time=   0.0s\n",
            "[CV 2/5] END C=0.01, max_iter=200, penalty=l2, solver=newton-cg;, score=0.574 total time=   0.0s\n",
            "[CV 3/5] END C=0.01, max_iter=200, penalty=l2, solver=newton-cg;, score=0.576 total time=   0.0s\n",
            "[CV 4/5] END C=0.01, max_iter=200, penalty=l2, solver=newton-cg;, score=0.582 total time=   0.0s\n",
            "[CV 5/5] END C=0.01, max_iter=200, penalty=l2, solver=newton-cg;, score=0.572 total time=   0.0s\n",
            "[CV 1/5] END C=0.01, max_iter=200, penalty=l2, solver=lbfgs;, score=0.611 total time=   0.0s\n",
            "[CV 2/5] END C=0.01, max_iter=200, penalty=l2, solver=lbfgs;, score=0.574 total time=   0.0s\n",
            "[CV 3/5] END C=0.01, max_iter=200, penalty=l2, solver=lbfgs;, score=0.576 total time=   0.0s\n",
            "[CV 4/5] END C=0.01, max_iter=200, penalty=l2, solver=lbfgs;, score=0.582 total time=   0.0s\n",
            "[CV 5/5] END C=0.01, max_iter=200, penalty=l2, solver=lbfgs;, score=0.572 total time=   0.0s\n",
            "[CV 1/5] END C=0.01, max_iter=200, penalty=l2, solver=liblinear;, score=0.577 total time=   0.0s\n",
            "[CV 2/5] END C=0.01, max_iter=200, penalty=l2, solver=liblinear;, score=0.544 total time=   0.0s\n",
            "[CV 3/5] END C=0.01, max_iter=200, penalty=l2, solver=liblinear;, score=0.562 total time=   0.0s\n",
            "[CV 4/5] END C=0.01, max_iter=200, penalty=l2, solver=liblinear;, score=0.569 total time=   0.0s\n",
            "[CV 5/5] END C=0.01, max_iter=200, penalty=l2, solver=liblinear;, score=0.532 total time=   0.0s\n",
            "[CV 1/5] END C=0.01, max_iter=300, penalty=l2, solver=newton-cg;, score=0.611 total time=   0.0s\n",
            "[CV 2/5] END C=0.01, max_iter=300, penalty=l2, solver=newton-cg;, score=0.574 total time=   0.0s\n",
            "[CV 3/5] END C=0.01, max_iter=300, penalty=l2, solver=newton-cg;, score=0.576 total time=   0.0s\n",
            "[CV 4/5] END C=0.01, max_iter=300, penalty=l2, solver=newton-cg;, score=0.582 total time=   0.0s\n",
            "[CV 5/5] END C=0.01, max_iter=300, penalty=l2, solver=newton-cg;, score=0.572 total time=   0.0s\n",
            "[CV 1/5] END C=0.01, max_iter=300, penalty=l2, solver=lbfgs;, score=0.611 total time=   0.0s\n",
            "[CV 2/5] END C=0.01, max_iter=300, penalty=l2, solver=lbfgs;, score=0.574 total time=   0.0s\n",
            "[CV 3/5] END C=0.01, max_iter=300, penalty=l2, solver=lbfgs;, score=0.576 total time=   0.0s\n",
            "[CV 4/5] END C=0.01, max_iter=300, penalty=l2, solver=lbfgs;, score=0.582 total time=   0.0s\n",
            "[CV 5/5] END C=0.01, max_iter=300, penalty=l2, solver=lbfgs;, score=0.572 total time=   0.0s\n",
            "[CV 1/5] END C=0.01, max_iter=300, penalty=l2, solver=liblinear;, score=0.577 total time=   0.0s\n",
            "[CV 2/5] END C=0.01, max_iter=300, penalty=l2, solver=liblinear;, score=0.544 total time=   0.0s\n",
            "[CV 3/5] END C=0.01, max_iter=300, penalty=l2, solver=liblinear;, score=0.562 total time=   0.0s\n",
            "[CV 4/5] END C=0.01, max_iter=300, penalty=l2, solver=liblinear;, score=0.569 total time=   0.0s\n",
            "[CV 5/5] END C=0.01, max_iter=300, penalty=l2, solver=liblinear;, score=0.532 total time=   0.0s\n",
            "[CV 1/5] END C=0.01, max_iter=400, penalty=l2, solver=newton-cg;, score=0.611 total time=   0.0s\n",
            "[CV 2/5] END C=0.01, max_iter=400, penalty=l2, solver=newton-cg;, score=0.574 total time=   0.0s\n",
            "[CV 3/5] END C=0.01, max_iter=400, penalty=l2, solver=newton-cg;, score=0.576 total time=   0.0s\n",
            "[CV 4/5] END C=0.01, max_iter=400, penalty=l2, solver=newton-cg;, score=0.582 total time=   0.0s\n",
            "[CV 5/5] END C=0.01, max_iter=400, penalty=l2, solver=newton-cg;, score=0.572 total time=   0.0s\n",
            "[CV 1/5] END C=0.01, max_iter=400, penalty=l2, solver=lbfgs;, score=0.611 total time=   0.0s\n",
            "[CV 2/5] END C=0.01, max_iter=400, penalty=l2, solver=lbfgs;, score=0.574 total time=   0.0s\n",
            "[CV 3/5] END C=0.01, max_iter=400, penalty=l2, solver=lbfgs;, score=0.576 total time=   0.0s\n",
            "[CV 4/5] END C=0.01, max_iter=400, penalty=l2, solver=lbfgs;, score=0.582 total time=   0.0s\n",
            "[CV 5/5] END C=0.01, max_iter=400, penalty=l2, solver=lbfgs;, score=0.572 total time=   0.0s\n",
            "[CV 1/5] END C=0.01, max_iter=400, penalty=l2, solver=liblinear;, score=0.577 total time=   0.0s\n",
            "[CV 2/5] END C=0.01, max_iter=400, penalty=l2, solver=liblinear;, score=0.544 total time=   0.0s\n",
            "[CV 3/5] END C=0.01, max_iter=400, penalty=l2, solver=liblinear;, score=0.562 total time=   0.0s\n",
            "[CV 4/5] END C=0.01, max_iter=400, penalty=l2, solver=liblinear;, score=0.569 total time=   0.0s\n",
            "[CV 5/5] END C=0.01, max_iter=400, penalty=l2, solver=liblinear;, score=0.532 total time=   0.0s\n",
            "[CV 1/5] END C=0.01, max_iter=500, penalty=l2, solver=newton-cg;, score=0.611 total time=   0.0s\n",
            "[CV 2/5] END C=0.01, max_iter=500, penalty=l2, solver=newton-cg;, score=0.574 total time=   0.0s\n",
            "[CV 3/5] END C=0.01, max_iter=500, penalty=l2, solver=newton-cg;, score=0.576 total time=   0.0s\n",
            "[CV 4/5] END C=0.01, max_iter=500, penalty=l2, solver=newton-cg;, score=0.582 total time=   0.0s\n",
            "[CV 5/5] END C=0.01, max_iter=500, penalty=l2, solver=newton-cg;, score=0.572 total time=   0.0s\n",
            "[CV 1/5] END C=0.01, max_iter=500, penalty=l2, solver=lbfgs;, score=0.611 total time=   0.0s\n",
            "[CV 2/5] END C=0.01, max_iter=500, penalty=l2, solver=lbfgs;, score=0.574 total time=   0.0s\n",
            "[CV 3/5] END C=0.01, max_iter=500, penalty=l2, solver=lbfgs;, score=0.576 total time=   0.0s\n",
            "[CV 4/5] END C=0.01, max_iter=500, penalty=l2, solver=lbfgs;, score=0.582 total time=   0.0s\n",
            "[CV 5/5] END C=0.01, max_iter=500, penalty=l2, solver=lbfgs;, score=0.572 total time=   0.0s\n",
            "[CV 1/5] END C=0.01, max_iter=500, penalty=l2, solver=liblinear;, score=0.577 total time=   0.0s\n",
            "[CV 2/5] END C=0.01, max_iter=500, penalty=l2, solver=liblinear;, score=0.544 total time=   0.0s\n",
            "[CV 3/5] END C=0.01, max_iter=500, penalty=l2, solver=liblinear;, score=0.562 total time=   0.0s\n",
            "[CV 4/5] END C=0.01, max_iter=500, penalty=l2, solver=liblinear;, score=0.569 total time=   0.0s\n",
            "[CV 5/5] END C=0.01, max_iter=500, penalty=l2, solver=liblinear;, score=0.532 total time=   0.0s\n",
            "[CV 1/5] END C=0.01, max_iter=600, penalty=l2, solver=newton-cg;, score=0.611 total time=   0.0s\n",
            "[CV 2/5] END C=0.01, max_iter=600, penalty=l2, solver=newton-cg;, score=0.574 total time=   0.0s\n",
            "[CV 3/5] END C=0.01, max_iter=600, penalty=l2, solver=newton-cg;, score=0.576 total time=   0.0s\n",
            "[CV 4/5] END C=0.01, max_iter=600, penalty=l2, solver=newton-cg;, score=0.582 total time=   0.0s\n",
            "[CV 5/5] END C=0.01, max_iter=600, penalty=l2, solver=newton-cg;, score=0.572 total time=   0.0s\n",
            "[CV 1/5] END C=0.01, max_iter=600, penalty=l2, solver=lbfgs;, score=0.611 total time=   0.0s\n",
            "[CV 2/5] END C=0.01, max_iter=600, penalty=l2, solver=lbfgs;, score=0.574 total time=   0.0s\n",
            "[CV 3/5] END C=0.01, max_iter=600, penalty=l2, solver=lbfgs;, score=0.576 total time=   0.0s\n",
            "[CV 4/5] END C=0.01, max_iter=600, penalty=l2, solver=lbfgs;, score=0.582 total time=   0.0s\n",
            "[CV 5/5] END C=0.01, max_iter=600, penalty=l2, solver=lbfgs;, score=0.572 total time=   0.0s\n",
            "[CV 1/5] END C=0.01, max_iter=600, penalty=l2, solver=liblinear;, score=0.577 total time=   0.0s\n",
            "[CV 2/5] END C=0.01, max_iter=600, penalty=l2, solver=liblinear;, score=0.544 total time=   0.0s\n",
            "[CV 3/5] END C=0.01, max_iter=600, penalty=l2, solver=liblinear;, score=0.562 total time=   0.0s\n",
            "[CV 4/5] END C=0.01, max_iter=600, penalty=l2, solver=liblinear;, score=0.569 total time=   0.0s\n",
            "[CV 5/5] END C=0.01, max_iter=600, penalty=l2, solver=liblinear;, score=0.532 total time=   0.0s\n",
            "[CV 1/5] END C=0.01, max_iter=700, penalty=l2, solver=newton-cg;, score=0.611 total time=   0.0s\n",
            "[CV 2/5] END C=0.01, max_iter=700, penalty=l2, solver=newton-cg;, score=0.574 total time=   0.0s\n",
            "[CV 3/5] END C=0.01, max_iter=700, penalty=l2, solver=newton-cg;, score=0.576 total time=   0.0s\n",
            "[CV 4/5] END C=0.01, max_iter=700, penalty=l2, solver=newton-cg;, score=0.582 total time=   0.0s\n",
            "[CV 5/5] END C=0.01, max_iter=700, penalty=l2, solver=newton-cg;, score=0.572 total time=   0.0s\n",
            "[CV 1/5] END C=0.01, max_iter=700, penalty=l2, solver=lbfgs;, score=0.611 total time=   0.0s\n",
            "[CV 2/5] END C=0.01, max_iter=700, penalty=l2, solver=lbfgs;, score=0.574 total time=   0.0s\n",
            "[CV 3/5] END C=0.01, max_iter=700, penalty=l2, solver=lbfgs;, score=0.576 total time=   0.0s\n",
            "[CV 4/5] END C=0.01, max_iter=700, penalty=l2, solver=lbfgs;, score=0.582 total time=   0.0s\n",
            "[CV 5/5] END C=0.01, max_iter=700, penalty=l2, solver=lbfgs;, score=0.572 total time=   0.0s\n",
            "[CV 1/5] END C=0.01, max_iter=700, penalty=l2, solver=liblinear;, score=0.577 total time=   0.0s\n",
            "[CV 2/5] END C=0.01, max_iter=700, penalty=l2, solver=liblinear;, score=0.544 total time=   0.0s\n",
            "[CV 3/5] END C=0.01, max_iter=700, penalty=l2, solver=liblinear;, score=0.562 total time=   0.0s\n",
            "[CV 4/5] END C=0.01, max_iter=700, penalty=l2, solver=liblinear;, score=0.569 total time=   0.0s\n",
            "[CV 5/5] END C=0.01, max_iter=700, penalty=l2, solver=liblinear;, score=0.532 total time=   0.0s\n",
            "[CV 1/5] END C=0.01, max_iter=800, penalty=l2, solver=newton-cg;, score=0.611 total time=   0.0s\n",
            "[CV 2/5] END C=0.01, max_iter=800, penalty=l2, solver=newton-cg;, score=0.574 total time=   0.0s\n",
            "[CV 3/5] END C=0.01, max_iter=800, penalty=l2, solver=newton-cg;, score=0.576 total time=   0.0s\n",
            "[CV 4/5] END C=0.01, max_iter=800, penalty=l2, solver=newton-cg;, score=0.582 total time=   0.0s\n",
            "[CV 5/5] END C=0.01, max_iter=800, penalty=l2, solver=newton-cg;, score=0.572 total time=   0.0s\n",
            "[CV 1/5] END C=0.01, max_iter=800, penalty=l2, solver=lbfgs;, score=0.611 total time=   0.0s\n",
            "[CV 2/5] END C=0.01, max_iter=800, penalty=l2, solver=lbfgs;, score=0.574 total time=   0.0s\n",
            "[CV 3/5] END C=0.01, max_iter=800, penalty=l2, solver=lbfgs;, score=0.576 total time=   0.0s\n",
            "[CV 4/5] END C=0.01, max_iter=800, penalty=l2, solver=lbfgs;, score=0.582 total time=   0.0s\n",
            "[CV 5/5] END C=0.01, max_iter=800, penalty=l2, solver=lbfgs;, score=0.572 total time=   0.0s\n",
            "[CV 1/5] END C=0.01, max_iter=800, penalty=l2, solver=liblinear;, score=0.577 total time=   0.0s\n",
            "[CV 2/5] END C=0.01, max_iter=800, penalty=l2, solver=liblinear;, score=0.544 total time=   0.0s\n",
            "[CV 3/5] END C=0.01, max_iter=800, penalty=l2, solver=liblinear;, score=0.562 total time=   0.0s\n",
            "[CV 4/5] END C=0.01, max_iter=800, penalty=l2, solver=liblinear;, score=0.569 total time=   0.0s\n",
            "[CV 5/5] END C=0.01, max_iter=800, penalty=l2, solver=liblinear;, score=0.532 total time=   0.0s\n",
            "[CV 1/5] END C=0.1, max_iter=100, penalty=l2, solver=newton-cg;, score=0.644 total time=   0.0s\n",
            "[CV 2/5] END C=0.1, max_iter=100, penalty=l2, solver=newton-cg;, score=0.628 total time=   0.0s\n",
            "[CV 3/5] END C=0.1, max_iter=100, penalty=l2, solver=newton-cg;, score=0.633 total time=   0.0s\n",
            "[CV 4/5] END C=0.1, max_iter=100, penalty=l2, solver=newton-cg;, score=0.653 total time=   0.0s\n",
            "[CV 5/5] END C=0.1, max_iter=100, penalty=l2, solver=newton-cg;, score=0.633 total time=   0.0s\n",
            "[CV 1/5] END C=0.1, max_iter=100, penalty=l2, solver=lbfgs;, score=0.644 total time=   0.0s\n",
            "[CV 2/5] END C=0.1, max_iter=100, penalty=l2, solver=lbfgs;, score=0.628 total time=   0.0s\n",
            "[CV 3/5] END C=0.1, max_iter=100, penalty=l2, solver=lbfgs;, score=0.633 total time=   0.0s\n",
            "[CV 4/5] END C=0.1, max_iter=100, penalty=l2, solver=lbfgs;, score=0.653 total time=   0.0s\n",
            "[CV 5/5] END C=0.1, max_iter=100, penalty=l2, solver=lbfgs;, score=0.633 total time=   0.0s\n",
            "[CV 1/5] END C=0.1, max_iter=100, penalty=l2, solver=liblinear;, score=0.658 total time=   0.0s\n",
            "[CV 2/5] END C=0.1, max_iter=100, penalty=l2, solver=liblinear;, score=0.654 total time=   0.0s\n",
            "[CV 3/5] END C=0.1, max_iter=100, penalty=l2, solver=liblinear;, score=0.653 total time=   0.0s\n",
            "[CV 4/5] END C=0.1, max_iter=100, penalty=l2, solver=liblinear;, score=0.687 total time=   0.0s\n",
            "[CV 5/5] END C=0.1, max_iter=100, penalty=l2, solver=liblinear;, score=0.660 total time=   0.0s\n",
            "[CV 1/5] END C=0.1, max_iter=200, penalty=l2, solver=newton-cg;, score=0.644 total time=   0.0s\n",
            "[CV 2/5] END C=0.1, max_iter=200, penalty=l2, solver=newton-cg;, score=0.628 total time=   0.0s\n",
            "[CV 3/5] END C=0.1, max_iter=200, penalty=l2, solver=newton-cg;, score=0.633 total time=   0.0s\n",
            "[CV 4/5] END C=0.1, max_iter=200, penalty=l2, solver=newton-cg;, score=0.653 total time=   0.0s\n",
            "[CV 5/5] END C=0.1, max_iter=200, penalty=l2, solver=newton-cg;, score=0.633 total time=   0.0s\n",
            "[CV 1/5] END C=0.1, max_iter=200, penalty=l2, solver=lbfgs;, score=0.644 total time=   0.0s\n",
            "[CV 2/5] END C=0.1, max_iter=200, penalty=l2, solver=lbfgs;, score=0.628 total time=   0.0s\n",
            "[CV 3/5] END C=0.1, max_iter=200, penalty=l2, solver=lbfgs;, score=0.633 total time=   0.0s\n",
            "[CV 4/5] END C=0.1, max_iter=200, penalty=l2, solver=lbfgs;, score=0.653 total time=   0.0s\n",
            "[CV 5/5] END C=0.1, max_iter=200, penalty=l2, solver=lbfgs;, score=0.633 total time=   0.0s\n",
            "[CV 1/5] END C=0.1, max_iter=200, penalty=l2, solver=liblinear;, score=0.658 total time=   0.0s\n",
            "[CV 2/5] END C=0.1, max_iter=200, penalty=l2, solver=liblinear;, score=0.654 total time=   0.0s\n",
            "[CV 3/5] END C=0.1, max_iter=200, penalty=l2, solver=liblinear;, score=0.653 total time=   0.0s\n",
            "[CV 4/5] END C=0.1, max_iter=200, penalty=l2, solver=liblinear;, score=0.687 total time=   0.0s\n",
            "[CV 5/5] END C=0.1, max_iter=200, penalty=l2, solver=liblinear;, score=0.660 total time=   0.0s\n",
            "[CV 1/5] END C=0.1, max_iter=300, penalty=l2, solver=newton-cg;, score=0.644 total time=   0.0s\n",
            "[CV 2/5] END C=0.1, max_iter=300, penalty=l2, solver=newton-cg;, score=0.628 total time=   0.0s\n",
            "[CV 3/5] END C=0.1, max_iter=300, penalty=l2, solver=newton-cg;, score=0.633 total time=   0.0s\n",
            "[CV 4/5] END C=0.1, max_iter=300, penalty=l2, solver=newton-cg;, score=0.653 total time=   0.0s\n",
            "[CV 5/5] END C=0.1, max_iter=300, penalty=l2, solver=newton-cg;, score=0.633 total time=   0.0s\n",
            "[CV 1/5] END C=0.1, max_iter=300, penalty=l2, solver=lbfgs;, score=0.644 total time=   0.0s\n",
            "[CV 2/5] END C=0.1, max_iter=300, penalty=l2, solver=lbfgs;, score=0.628 total time=   0.0s\n",
            "[CV 3/5] END C=0.1, max_iter=300, penalty=l2, solver=lbfgs;, score=0.633 total time=   0.0s\n",
            "[CV 4/5] END C=0.1, max_iter=300, penalty=l2, solver=lbfgs;, score=0.653 total time=   0.0s\n",
            "[CV 5/5] END C=0.1, max_iter=300, penalty=l2, solver=lbfgs;, score=0.633 total time=   0.1s\n",
            "[CV 1/5] END C=0.1, max_iter=300, penalty=l2, solver=liblinear;, score=0.658 total time=   0.0s\n",
            "[CV 2/5] END C=0.1, max_iter=300, penalty=l2, solver=liblinear;, score=0.654 total time=   0.0s\n",
            "[CV 3/5] END C=0.1, max_iter=300, penalty=l2, solver=liblinear;, score=0.653 total time=   0.0s\n",
            "[CV 4/5] END C=0.1, max_iter=300, penalty=l2, solver=liblinear;, score=0.687 total time=   0.0s\n",
            "[CV 5/5] END C=0.1, max_iter=300, penalty=l2, solver=liblinear;, score=0.660 total time=   0.0s\n",
            "[CV 1/5] END C=0.1, max_iter=400, penalty=l2, solver=newton-cg;, score=0.644 total time=   0.0s\n",
            "[CV 2/5] END C=0.1, max_iter=400, penalty=l2, solver=newton-cg;, score=0.628 total time=   0.0s\n",
            "[CV 3/5] END C=0.1, max_iter=400, penalty=l2, solver=newton-cg;, score=0.633 total time=   0.0s\n",
            "[CV 4/5] END C=0.1, max_iter=400, penalty=l2, solver=newton-cg;, score=0.653 total time=   0.0s\n",
            "[CV 5/5] END C=0.1, max_iter=400, penalty=l2, solver=newton-cg;, score=0.633 total time=   0.0s\n",
            "[CV 1/5] END C=0.1, max_iter=400, penalty=l2, solver=lbfgs;, score=0.644 total time=   0.0s\n",
            "[CV 2/5] END C=0.1, max_iter=400, penalty=l2, solver=lbfgs;, score=0.628 total time=   0.0s\n",
            "[CV 3/5] END C=0.1, max_iter=400, penalty=l2, solver=lbfgs;, score=0.633 total time=   0.0s\n",
            "[CV 4/5] END C=0.1, max_iter=400, penalty=l2, solver=lbfgs;, score=0.653 total time=   0.0s\n",
            "[CV 5/5] END C=0.1, max_iter=400, penalty=l2, solver=lbfgs;, score=0.633 total time=   0.0s\n",
            "[CV 1/5] END C=0.1, max_iter=400, penalty=l2, solver=liblinear;, score=0.658 total time=   0.0s\n",
            "[CV 2/5] END C=0.1, max_iter=400, penalty=l2, solver=liblinear;, score=0.654 total time=   0.0s\n",
            "[CV 3/5] END C=0.1, max_iter=400, penalty=l2, solver=liblinear;, score=0.653 total time=   0.0s\n",
            "[CV 4/5] END C=0.1, max_iter=400, penalty=l2, solver=liblinear;, score=0.687 total time=   0.0s\n",
            "[CV 5/5] END C=0.1, max_iter=400, penalty=l2, solver=liblinear;, score=0.660 total time=   0.0s\n",
            "[CV 1/5] END C=0.1, max_iter=500, penalty=l2, solver=newton-cg;, score=0.644 total time=   0.0s\n",
            "[CV 2/5] END C=0.1, max_iter=500, penalty=l2, solver=newton-cg;, score=0.628 total time=   0.0s\n",
            "[CV 3/5] END C=0.1, max_iter=500, penalty=l2, solver=newton-cg;, score=0.633 total time=   0.0s\n",
            "[CV 4/5] END C=0.1, max_iter=500, penalty=l2, solver=newton-cg;, score=0.653 total time=   0.0s\n",
            "[CV 5/5] END C=0.1, max_iter=500, penalty=l2, solver=newton-cg;, score=0.633 total time=   0.0s\n",
            "[CV 1/5] END C=0.1, max_iter=500, penalty=l2, solver=lbfgs;, score=0.644 total time=   0.0s\n",
            "[CV 2/5] END C=0.1, max_iter=500, penalty=l2, solver=lbfgs;, score=0.628 total time=   0.0s\n",
            "[CV 3/5] END C=0.1, max_iter=500, penalty=l2, solver=lbfgs;, score=0.633 total time=   0.0s\n",
            "[CV 4/5] END C=0.1, max_iter=500, penalty=l2, solver=lbfgs;, score=0.653 total time=   0.0s\n",
            "[CV 5/5] END C=0.1, max_iter=500, penalty=l2, solver=lbfgs;, score=0.633 total time=   0.0s\n",
            "[CV 1/5] END C=0.1, max_iter=500, penalty=l2, solver=liblinear;, score=0.658 total time=   0.0s\n",
            "[CV 2/5] END C=0.1, max_iter=500, penalty=l2, solver=liblinear;, score=0.654 total time=   0.0s\n",
            "[CV 3/5] END C=0.1, max_iter=500, penalty=l2, solver=liblinear;, score=0.653 total time=   0.0s\n",
            "[CV 4/5] END C=0.1, max_iter=500, penalty=l2, solver=liblinear;, score=0.687 total time=   0.0s\n",
            "[CV 5/5] END C=0.1, max_iter=500, penalty=l2, solver=liblinear;, score=0.660 total time=   0.0s\n",
            "[CV 1/5] END C=0.1, max_iter=600, penalty=l2, solver=newton-cg;, score=0.644 total time=   0.0s\n",
            "[CV 2/5] END C=0.1, max_iter=600, penalty=l2, solver=newton-cg;, score=0.628 total time=   0.0s\n",
            "[CV 3/5] END C=0.1, max_iter=600, penalty=l2, solver=newton-cg;, score=0.633 total time=   0.0s\n",
            "[CV 4/5] END C=0.1, max_iter=600, penalty=l2, solver=newton-cg;, score=0.653 total time=   0.0s\n",
            "[CV 5/5] END C=0.1, max_iter=600, penalty=l2, solver=newton-cg;, score=0.633 total time=   0.0s\n",
            "[CV 1/5] END C=0.1, max_iter=600, penalty=l2, solver=lbfgs;, score=0.644 total time=   0.0s\n",
            "[CV 2/5] END C=0.1, max_iter=600, penalty=l2, solver=lbfgs;, score=0.628 total time=   0.0s\n",
            "[CV 3/5] END C=0.1, max_iter=600, penalty=l2, solver=lbfgs;, score=0.633 total time=   0.0s\n",
            "[CV 4/5] END C=0.1, max_iter=600, penalty=l2, solver=lbfgs;, score=0.653 total time=   0.0s\n",
            "[CV 5/5] END C=0.1, max_iter=600, penalty=l2, solver=lbfgs;, score=0.633 total time=   0.0s\n",
            "[CV 1/5] END C=0.1, max_iter=600, penalty=l2, solver=liblinear;, score=0.658 total time=   0.0s\n",
            "[CV 2/5] END C=0.1, max_iter=600, penalty=l2, solver=liblinear;, score=0.654 total time=   0.0s\n",
            "[CV 3/5] END C=0.1, max_iter=600, penalty=l2, solver=liblinear;, score=0.653 total time=   0.0s\n",
            "[CV 4/5] END C=0.1, max_iter=600, penalty=l2, solver=liblinear;, score=0.687 total time=   0.0s\n",
            "[CV 5/5] END C=0.1, max_iter=600, penalty=l2, solver=liblinear;, score=0.660 total time=   0.0s\n",
            "[CV 1/5] END C=0.1, max_iter=700, penalty=l2, solver=newton-cg;, score=0.644 total time=   0.0s\n",
            "[CV 2/5] END C=0.1, max_iter=700, penalty=l2, solver=newton-cg;, score=0.628 total time=   0.0s\n",
            "[CV 3/5] END C=0.1, max_iter=700, penalty=l2, solver=newton-cg;, score=0.633 total time=   0.0s\n",
            "[CV 4/5] END C=0.1, max_iter=700, penalty=l2, solver=newton-cg;, score=0.653 total time=   0.0s\n",
            "[CV 5/5] END C=0.1, max_iter=700, penalty=l2, solver=newton-cg;, score=0.633 total time=   0.0s\n",
            "[CV 1/5] END C=0.1, max_iter=700, penalty=l2, solver=lbfgs;, score=0.644 total time=   0.0s\n",
            "[CV 2/5] END C=0.1, max_iter=700, penalty=l2, solver=lbfgs;, score=0.628 total time=   0.0s\n",
            "[CV 3/5] END C=0.1, max_iter=700, penalty=l2, solver=lbfgs;, score=0.633 total time=   0.0s\n",
            "[CV 4/5] END C=0.1, max_iter=700, penalty=l2, solver=lbfgs;, score=0.653 total time=   0.0s\n",
            "[CV 5/5] END C=0.1, max_iter=700, penalty=l2, solver=lbfgs;, score=0.633 total time=   0.0s\n",
            "[CV 1/5] END C=0.1, max_iter=700, penalty=l2, solver=liblinear;, score=0.658 total time=   0.0s\n",
            "[CV 2/5] END C=0.1, max_iter=700, penalty=l2, solver=liblinear;, score=0.654 total time=   0.0s\n",
            "[CV 3/5] END C=0.1, max_iter=700, penalty=l2, solver=liblinear;, score=0.653 total time=   0.0s\n",
            "[CV 4/5] END C=0.1, max_iter=700, penalty=l2, solver=liblinear;, score=0.687 total time=   0.0s\n",
            "[CV 5/5] END C=0.1, max_iter=700, penalty=l2, solver=liblinear;, score=0.660 total time=   0.0s\n",
            "[CV 1/5] END C=0.1, max_iter=800, penalty=l2, solver=newton-cg;, score=0.644 total time=   0.0s\n",
            "[CV 2/5] END C=0.1, max_iter=800, penalty=l2, solver=newton-cg;, score=0.628 total time=   0.0s\n",
            "[CV 3/5] END C=0.1, max_iter=800, penalty=l2, solver=newton-cg;, score=0.633 total time=   0.0s\n",
            "[CV 4/5] END C=0.1, max_iter=800, penalty=l2, solver=newton-cg;, score=0.653 total time=   0.0s\n",
            "[CV 5/5] END C=0.1, max_iter=800, penalty=l2, solver=newton-cg;, score=0.633 total time=   0.0s\n",
            "[CV 1/5] END C=0.1, max_iter=800, penalty=l2, solver=lbfgs;, score=0.644 total time=   0.0s\n",
            "[CV 2/5] END C=0.1, max_iter=800, penalty=l2, solver=lbfgs;, score=0.628 total time=   0.0s\n",
            "[CV 3/5] END C=0.1, max_iter=800, penalty=l2, solver=lbfgs;, score=0.633 total time=   0.0s\n",
            "[CV 4/5] END C=0.1, max_iter=800, penalty=l2, solver=lbfgs;, score=0.653 total time=   0.0s\n",
            "[CV 5/5] END C=0.1, max_iter=800, penalty=l2, solver=lbfgs;, score=0.633 total time=   0.0s\n",
            "[CV 1/5] END C=0.1, max_iter=800, penalty=l2, solver=liblinear;, score=0.658 total time=   0.0s\n",
            "[CV 2/5] END C=0.1, max_iter=800, penalty=l2, solver=liblinear;, score=0.654 total time=   0.0s\n",
            "[CV 3/5] END C=0.1, max_iter=800, penalty=l2, solver=liblinear;, score=0.653 total time=   0.0s\n",
            "[CV 4/5] END C=0.1, max_iter=800, penalty=l2, solver=liblinear;, score=0.687 total time=   0.0s\n",
            "[CV 5/5] END C=0.1, max_iter=800, penalty=l2, solver=liblinear;, score=0.660 total time=   0.0s\n",
            "[CV 1/5] END C=1, max_iter=100, penalty=l2, solver=newton-cg;, score=0.685 total time=   0.1s\n",
            "[CV 2/5] END C=1, max_iter=100, penalty=l2, solver=newton-cg;, score=0.718 total time=   0.0s\n",
            "[CV 3/5] END C=1, max_iter=100, penalty=l2, solver=newton-cg;, score=0.700 total time=   0.0s\n",
            "[CV 4/5] END C=1, max_iter=100, penalty=l2, solver=newton-cg;, score=0.727 total time=   0.0s\n",
            "[CV 5/5] END C=1, max_iter=100, penalty=l2, solver=newton-cg;, score=0.694 total time=   0.0s\n",
            "[CV 1/5] END C=1, max_iter=100, penalty=l2, solver=lbfgs;, score=0.685 total time=   0.0s\n",
            "[CV 2/5] END C=1, max_iter=100, penalty=l2, solver=lbfgs;, score=0.718 total time=   0.0s\n",
            "[CV 3/5] END C=1, max_iter=100, penalty=l2, solver=lbfgs;, score=0.700 total time=   0.0s\n",
            "[CV 4/5] END C=1, max_iter=100, penalty=l2, solver=lbfgs;, score=0.727 total time=   0.0s\n",
            "[CV 5/5] END C=1, max_iter=100, penalty=l2, solver=lbfgs;, score=0.694 total time=   0.0s\n",
            "[CV 1/5] END C=1, max_iter=100, penalty=l2, solver=liblinear;, score=0.681 total time=   0.0s\n",
            "[CV 2/5] END C=1, max_iter=100, penalty=l2, solver=liblinear;, score=0.718 total time=   0.0s\n",
            "[CV 3/5] END C=1, max_iter=100, penalty=l2, solver=liblinear;, score=0.704 total time=   0.0s\n",
            "[CV 4/5] END C=1, max_iter=100, penalty=l2, solver=liblinear;, score=0.734 total time=   0.0s\n",
            "[CV 5/5] END C=1, max_iter=100, penalty=l2, solver=liblinear;, score=0.697 total time=   0.0s\n",
            "[CV 1/5] END C=1, max_iter=200, penalty=l2, solver=newton-cg;, score=0.685 total time=   0.0s\n",
            "[CV 2/5] END C=1, max_iter=200, penalty=l2, solver=newton-cg;, score=0.718 total time=   0.0s\n",
            "[CV 3/5] END C=1, max_iter=200, penalty=l2, solver=newton-cg;, score=0.700 total time=   0.0s\n",
            "[CV 4/5] END C=1, max_iter=200, penalty=l2, solver=newton-cg;, score=0.727 total time=   0.0s\n",
            "[CV 5/5] END C=1, max_iter=200, penalty=l2, solver=newton-cg;, score=0.694 total time=   0.0s\n",
            "[CV 1/5] END C=1, max_iter=200, penalty=l2, solver=lbfgs;, score=0.685 total time=   0.0s\n",
            "[CV 2/5] END C=1, max_iter=200, penalty=l2, solver=lbfgs;, score=0.718 total time=   0.0s\n",
            "[CV 3/5] END C=1, max_iter=200, penalty=l2, solver=lbfgs;, score=0.700 total time=   0.0s\n",
            "[CV 4/5] END C=1, max_iter=200, penalty=l2, solver=lbfgs;, score=0.727 total time=   0.0s\n",
            "[CV 5/5] END C=1, max_iter=200, penalty=l2, solver=lbfgs;, score=0.694 total time=   0.0s\n",
            "[CV 1/5] END C=1, max_iter=200, penalty=l2, solver=liblinear;, score=0.681 total time=   0.0s\n",
            "[CV 2/5] END C=1, max_iter=200, penalty=l2, solver=liblinear;, score=0.718 total time=   0.0s\n",
            "[CV 3/5] END C=1, max_iter=200, penalty=l2, solver=liblinear;, score=0.704 total time=   0.0s\n",
            "[CV 4/5] END C=1, max_iter=200, penalty=l2, solver=liblinear;, score=0.734 total time=   0.0s\n",
            "[CV 5/5] END C=1, max_iter=200, penalty=l2, solver=liblinear;, score=0.697 total time=   0.0s\n",
            "[CV 1/5] END C=1, max_iter=300, penalty=l2, solver=newton-cg;, score=0.685 total time=   0.0s\n",
            "[CV 2/5] END C=1, max_iter=300, penalty=l2, solver=newton-cg;, score=0.718 total time=   0.0s\n",
            "[CV 3/5] END C=1, max_iter=300, penalty=l2, solver=newton-cg;, score=0.700 total time=   0.0s\n",
            "[CV 4/5] END C=1, max_iter=300, penalty=l2, solver=newton-cg;, score=0.727 total time=   0.0s\n",
            "[CV 5/5] END C=1, max_iter=300, penalty=l2, solver=newton-cg;, score=0.694 total time=   0.0s\n",
            "[CV 1/5] END C=1, max_iter=300, penalty=l2, solver=lbfgs;, score=0.685 total time=   0.0s\n",
            "[CV 2/5] END C=1, max_iter=300, penalty=l2, solver=lbfgs;, score=0.718 total time=   0.1s\n",
            "[CV 3/5] END C=1, max_iter=300, penalty=l2, solver=lbfgs;, score=0.700 total time=   0.0s\n",
            "[CV 4/5] END C=1, max_iter=300, penalty=l2, solver=lbfgs;, score=0.727 total time=   0.1s\n",
            "[CV 5/5] END C=1, max_iter=300, penalty=l2, solver=lbfgs;, score=0.694 total time=   0.0s\n",
            "[CV 1/5] END C=1, max_iter=300, penalty=l2, solver=liblinear;, score=0.681 total time=   0.0s\n",
            "[CV 2/5] END C=1, max_iter=300, penalty=l2, solver=liblinear;, score=0.718 total time=   0.0s\n",
            "[CV 3/5] END C=1, max_iter=300, penalty=l2, solver=liblinear;, score=0.704 total time=   0.0s\n",
            "[CV 4/5] END C=1, max_iter=300, penalty=l2, solver=liblinear;, score=0.734 total time=   0.0s\n",
            "[CV 5/5] END C=1, max_iter=300, penalty=l2, solver=liblinear;, score=0.697 total time=   0.0s\n",
            "[CV 1/5] END C=1, max_iter=400, penalty=l2, solver=newton-cg;, score=0.685 total time=   0.0s\n",
            "[CV 2/5] END C=1, max_iter=400, penalty=l2, solver=newton-cg;, score=0.718 total time=   0.0s\n",
            "[CV 3/5] END C=1, max_iter=400, penalty=l2, solver=newton-cg;, score=0.700 total time=   0.0s\n",
            "[CV 4/5] END C=1, max_iter=400, penalty=l2, solver=newton-cg;, score=0.727 total time=   0.0s\n",
            "[CV 5/5] END C=1, max_iter=400, penalty=l2, solver=newton-cg;, score=0.694 total time=   0.0s\n",
            "[CV 1/5] END C=1, max_iter=400, penalty=l2, solver=lbfgs;, score=0.685 total time=   0.0s\n",
            "[CV 2/5] END C=1, max_iter=400, penalty=l2, solver=lbfgs;, score=0.718 total time=   0.0s\n",
            "[CV 3/5] END C=1, max_iter=400, penalty=l2, solver=lbfgs;, score=0.700 total time=   0.0s\n",
            "[CV 4/5] END C=1, max_iter=400, penalty=l2, solver=lbfgs;, score=0.727 total time=   0.0s\n",
            "[CV 5/5] END C=1, max_iter=400, penalty=l2, solver=lbfgs;, score=0.694 total time=   0.0s\n",
            "[CV 1/5] END C=1, max_iter=400, penalty=l2, solver=liblinear;, score=0.681 total time=   0.0s\n",
            "[CV 2/5] END C=1, max_iter=400, penalty=l2, solver=liblinear;, score=0.718 total time=   0.0s\n",
            "[CV 3/5] END C=1, max_iter=400, penalty=l2, solver=liblinear;, score=0.704 total time=   0.0s\n",
            "[CV 4/5] END C=1, max_iter=400, penalty=l2, solver=liblinear;, score=0.734 total time=   0.0s\n",
            "[CV 5/5] END C=1, max_iter=400, penalty=l2, solver=liblinear;, score=0.697 total time=   0.0s\n",
            "[CV 1/5] END C=1, max_iter=500, penalty=l2, solver=newton-cg;, score=0.685 total time=   0.0s\n",
            "[CV 2/5] END C=1, max_iter=500, penalty=l2, solver=newton-cg;, score=0.718 total time=   0.0s\n",
            "[CV 3/5] END C=1, max_iter=500, penalty=l2, solver=newton-cg;, score=0.700 total time=   0.0s\n",
            "[CV 4/5] END C=1, max_iter=500, penalty=l2, solver=newton-cg;, score=0.727 total time=   0.0s\n",
            "[CV 5/5] END C=1, max_iter=500, penalty=l2, solver=newton-cg;, score=0.694 total time=   0.0s\n",
            "[CV 1/5] END C=1, max_iter=500, penalty=l2, solver=lbfgs;, score=0.685 total time=   0.0s\n",
            "[CV 2/5] END C=1, max_iter=500, penalty=l2, solver=lbfgs;, score=0.718 total time=   0.0s\n",
            "[CV 3/5] END C=1, max_iter=500, penalty=l2, solver=lbfgs;, score=0.700 total time=   0.0s\n",
            "[CV 4/5] END C=1, max_iter=500, penalty=l2, solver=lbfgs;, score=0.727 total time=   0.0s\n",
            "[CV 5/5] END C=1, max_iter=500, penalty=l2, solver=lbfgs;, score=0.694 total time=   0.0s\n",
            "[CV 1/5] END C=1, max_iter=500, penalty=l2, solver=liblinear;, score=0.681 total time=   0.0s\n",
            "[CV 2/5] END C=1, max_iter=500, penalty=l2, solver=liblinear;, score=0.718 total time=   0.0s\n",
            "[CV 3/5] END C=1, max_iter=500, penalty=l2, solver=liblinear;, score=0.704 total time=   0.0s\n",
            "[CV 4/5] END C=1, max_iter=500, penalty=l2, solver=liblinear;, score=0.734 total time=   0.0s\n",
            "[CV 5/5] END C=1, max_iter=500, penalty=l2, solver=liblinear;, score=0.697 total time=   0.0s\n",
            "[CV 1/5] END C=1, max_iter=600, penalty=l2, solver=newton-cg;, score=0.685 total time=   0.0s\n",
            "[CV 2/5] END C=1, max_iter=600, penalty=l2, solver=newton-cg;, score=0.718 total time=   0.0s\n",
            "[CV 3/5] END C=1, max_iter=600, penalty=l2, solver=newton-cg;, score=0.700 total time=   0.0s\n",
            "[CV 4/5] END C=1, max_iter=600, penalty=l2, solver=newton-cg;, score=0.727 total time=   0.0s\n",
            "[CV 5/5] END C=1, max_iter=600, penalty=l2, solver=newton-cg;, score=0.694 total time=   0.0s\n",
            "[CV 1/5] END C=1, max_iter=600, penalty=l2, solver=lbfgs;, score=0.685 total time=   0.1s\n",
            "[CV 2/5] END C=1, max_iter=600, penalty=l2, solver=lbfgs;, score=0.718 total time=   0.0s\n",
            "[CV 3/5] END C=1, max_iter=600, penalty=l2, solver=lbfgs;, score=0.700 total time=   0.0s\n",
            "[CV 4/5] END C=1, max_iter=600, penalty=l2, solver=lbfgs;, score=0.727 total time=   0.0s\n",
            "[CV 5/5] END C=1, max_iter=600, penalty=l2, solver=lbfgs;, score=0.694 total time=   0.0s\n",
            "[CV 1/5] END C=1, max_iter=600, penalty=l2, solver=liblinear;, score=0.681 total time=   0.0s\n",
            "[CV 2/5] END C=1, max_iter=600, penalty=l2, solver=liblinear;, score=0.718 total time=   0.0s\n",
            "[CV 3/5] END C=1, max_iter=600, penalty=l2, solver=liblinear;, score=0.704 total time=   0.0s\n",
            "[CV 4/5] END C=1, max_iter=600, penalty=l2, solver=liblinear;, score=0.734 total time=   0.0s\n",
            "[CV 5/5] END C=1, max_iter=600, penalty=l2, solver=liblinear;, score=0.697 total time=   0.0s\n",
            "[CV 1/5] END C=1, max_iter=700, penalty=l2, solver=newton-cg;, score=0.685 total time=   0.0s\n",
            "[CV 2/5] END C=1, max_iter=700, penalty=l2, solver=newton-cg;, score=0.718 total time=   0.0s\n",
            "[CV 3/5] END C=1, max_iter=700, penalty=l2, solver=newton-cg;, score=0.700 total time=   0.0s\n",
            "[CV 4/5] END C=1, max_iter=700, penalty=l2, solver=newton-cg;, score=0.727 total time=   0.0s\n",
            "[CV 5/5] END C=1, max_iter=700, penalty=l2, solver=newton-cg;, score=0.694 total time=   0.0s\n",
            "[CV 1/5] END C=1, max_iter=700, penalty=l2, solver=lbfgs;, score=0.685 total time=   0.0s\n",
            "[CV 2/5] END C=1, max_iter=700, penalty=l2, solver=lbfgs;, score=0.718 total time=   0.0s\n",
            "[CV 3/5] END C=1, max_iter=700, penalty=l2, solver=lbfgs;, score=0.700 total time=   0.0s\n",
            "[CV 4/5] END C=1, max_iter=700, penalty=l2, solver=lbfgs;, score=0.727 total time=   0.0s\n",
            "[CV 5/5] END C=1, max_iter=700, penalty=l2, solver=lbfgs;, score=0.694 total time=   0.0s\n",
            "[CV 1/5] END C=1, max_iter=700, penalty=l2, solver=liblinear;, score=0.681 total time=   0.0s\n",
            "[CV 2/5] END C=1, max_iter=700, penalty=l2, solver=liblinear;, score=0.718 total time=   0.0s\n",
            "[CV 3/5] END C=1, max_iter=700, penalty=l2, solver=liblinear;, score=0.704 total time=   0.0s\n",
            "[CV 4/5] END C=1, max_iter=700, penalty=l2, solver=liblinear;, score=0.734 total time=   0.0s\n",
            "[CV 5/5] END C=1, max_iter=700, penalty=l2, solver=liblinear;, score=0.697 total time=   0.0s\n",
            "[CV 1/5] END C=1, max_iter=800, penalty=l2, solver=newton-cg;, score=0.685 total time=   0.0s\n",
            "[CV 2/5] END C=1, max_iter=800, penalty=l2, solver=newton-cg;, score=0.718 total time=   0.0s\n",
            "[CV 3/5] END C=1, max_iter=800, penalty=l2, solver=newton-cg;, score=0.700 total time=   0.0s\n",
            "[CV 4/5] END C=1, max_iter=800, penalty=l2, solver=newton-cg;, score=0.727 total time=   0.0s\n",
            "[CV 5/5] END C=1, max_iter=800, penalty=l2, solver=newton-cg;, score=0.694 total time=   0.0s\n",
            "[CV 1/5] END C=1, max_iter=800, penalty=l2, solver=lbfgs;, score=0.685 total time=   0.0s\n",
            "[CV 2/5] END C=1, max_iter=800, penalty=l2, solver=lbfgs;, score=0.718 total time=   0.0s\n",
            "[CV 3/5] END C=1, max_iter=800, penalty=l2, solver=lbfgs;, score=0.700 total time=   0.0s\n",
            "[CV 4/5] END C=1, max_iter=800, penalty=l2, solver=lbfgs;, score=0.727 total time=   0.1s\n",
            "[CV 5/5] END C=1, max_iter=800, penalty=l2, solver=lbfgs;, score=0.694 total time=   0.0s\n",
            "[CV 1/5] END C=1, max_iter=800, penalty=l2, solver=liblinear;, score=0.681 total time=   0.0s\n",
            "[CV 2/5] END C=1, max_iter=800, penalty=l2, solver=liblinear;, score=0.718 total time=   0.0s\n",
            "[CV 3/5] END C=1, max_iter=800, penalty=l2, solver=liblinear;, score=0.704 total time=   0.0s\n",
            "[CV 4/5] END C=1, max_iter=800, penalty=l2, solver=liblinear;, score=0.734 total time=   0.0s\n",
            "[CV 5/5] END C=1, max_iter=800, penalty=l2, solver=liblinear;, score=0.697 total time=   0.0s\n",
            "[CV 1/5] END C=10, max_iter=100, penalty=l2, solver=newton-cg;, score=0.708 total time=   0.0s\n",
            "[CV 2/5] END C=10, max_iter=100, penalty=l2, solver=newton-cg;, score=0.738 total time=   0.0s\n",
            "[CV 3/5] END C=10, max_iter=100, penalty=l2, solver=newton-cg;, score=0.721 total time=   0.0s\n",
            "[CV 4/5] END C=10, max_iter=100, penalty=l2, solver=newton-cg;, score=0.761 total time=   0.0s\n",
            "[CV 5/5] END C=10, max_iter=100, penalty=l2, solver=newton-cg;, score=0.751 total time=   0.0s\n",
            "[CV 1/5] END C=10, max_iter=100, penalty=l2, solver=lbfgs;, score=0.708 total time=   0.1s\n",
            "[CV 2/5] END C=10, max_iter=100, penalty=l2, solver=lbfgs;, score=0.738 total time=   0.1s\n",
            "[CV 3/5] END C=10, max_iter=100, penalty=l2, solver=lbfgs;, score=0.721 total time=   0.1s\n"
          ]
        },
        {
          "output_type": "stream",
          "name": "stderr",
          "text": [
            "/usr/local/lib/python3.8/dist-packages/sklearn/linear_model/_logistic.py:814: ConvergenceWarning: lbfgs failed to converge (status=1):\n",
            "STOP: TOTAL NO. of ITERATIONS REACHED LIMIT.\n",
            "\n",
            "Increase the number of iterations (max_iter) or scale the data as shown in:\n",
            "    https://scikit-learn.org/stable/modules/preprocessing.html\n",
            "Please also refer to the documentation for alternative solver options:\n",
            "    https://scikit-learn.org/stable/modules/linear_model.html#logistic-regression\n",
            "  n_iter_i = _check_optimize_result(\n",
            "/usr/local/lib/python3.8/dist-packages/sklearn/linear_model/_logistic.py:814: ConvergenceWarning: lbfgs failed to converge (status=1):\n",
            "STOP: TOTAL NO. of ITERATIONS REACHED LIMIT.\n",
            "\n",
            "Increase the number of iterations (max_iter) or scale the data as shown in:\n",
            "    https://scikit-learn.org/stable/modules/preprocessing.html\n",
            "Please also refer to the documentation for alternative solver options:\n",
            "    https://scikit-learn.org/stable/modules/linear_model.html#logistic-regression\n",
            "  n_iter_i = _check_optimize_result(\n",
            "/usr/local/lib/python3.8/dist-packages/sklearn/linear_model/_logistic.py:814: ConvergenceWarning: lbfgs failed to converge (status=1):\n",
            "STOP: TOTAL NO. of ITERATIONS REACHED LIMIT.\n",
            "\n",
            "Increase the number of iterations (max_iter) or scale the data as shown in:\n",
            "    https://scikit-learn.org/stable/modules/preprocessing.html\n",
            "Please also refer to the documentation for alternative solver options:\n",
            "    https://scikit-learn.org/stable/modules/linear_model.html#logistic-regression\n",
            "  n_iter_i = _check_optimize_result(\n",
            "/usr/local/lib/python3.8/dist-packages/sklearn/linear_model/_logistic.py:814: ConvergenceWarning: lbfgs failed to converge (status=1):\n",
            "STOP: TOTAL NO. of ITERATIONS REACHED LIMIT.\n",
            "\n",
            "Increase the number of iterations (max_iter) or scale the data as shown in:\n",
            "    https://scikit-learn.org/stable/modules/preprocessing.html\n",
            "Please also refer to the documentation for alternative solver options:\n",
            "    https://scikit-learn.org/stable/modules/linear_model.html#logistic-regression\n",
            "  n_iter_i = _check_optimize_result(\n",
            "/usr/local/lib/python3.8/dist-packages/sklearn/linear_model/_logistic.py:814: ConvergenceWarning: lbfgs failed to converge (status=1):\n",
            "STOP: TOTAL NO. of ITERATIONS REACHED LIMIT.\n",
            "\n",
            "Increase the number of iterations (max_iter) or scale the data as shown in:\n",
            "    https://scikit-learn.org/stable/modules/preprocessing.html\n",
            "Please also refer to the documentation for alternative solver options:\n",
            "    https://scikit-learn.org/stable/modules/linear_model.html#logistic-regression\n",
            "  n_iter_i = _check_optimize_result(\n"
          ]
        },
        {
          "output_type": "stream",
          "name": "stdout",
          "text": [
            "[CV 4/5] END C=10, max_iter=100, penalty=l2, solver=lbfgs;, score=0.761 total time=   0.1s\n",
            "[CV 5/5] END C=10, max_iter=100, penalty=l2, solver=lbfgs;, score=0.744 total time=   0.1s\n",
            "[CV 1/5] END C=10, max_iter=100, penalty=l2, solver=liblinear;, score=0.708 total time=   0.0s\n",
            "[CV 2/5] END C=10, max_iter=100, penalty=l2, solver=liblinear;, score=0.735 total time=   0.0s\n",
            "[CV 3/5] END C=10, max_iter=100, penalty=l2, solver=liblinear;, score=0.721 total time=   0.0s\n",
            "[CV 4/5] END C=10, max_iter=100, penalty=l2, solver=liblinear;, score=0.761 total time=   0.0s\n",
            "[CV 5/5] END C=10, max_iter=100, penalty=l2, solver=liblinear;, score=0.747 total time=   0.0s\n",
            "[CV 1/5] END C=10, max_iter=200, penalty=l2, solver=newton-cg;, score=0.708 total time=   0.0s\n",
            "[CV 2/5] END C=10, max_iter=200, penalty=l2, solver=newton-cg;, score=0.738 total time=   0.1s\n",
            "[CV 3/5] END C=10, max_iter=200, penalty=l2, solver=newton-cg;, score=0.721 total time=   0.0s\n",
            "[CV 4/5] END C=10, max_iter=200, penalty=l2, solver=newton-cg;, score=0.761 total time=   0.0s\n",
            "[CV 5/5] END C=10, max_iter=200, penalty=l2, solver=newton-cg;, score=0.751 total time=   0.0s\n",
            "[CV 1/5] END C=10, max_iter=200, penalty=l2, solver=lbfgs;, score=0.708 total time=   0.1s\n",
            "[CV 2/5] END C=10, max_iter=200, penalty=l2, solver=lbfgs;, score=0.738 total time=   0.1s\n",
            "[CV 3/5] END C=10, max_iter=200, penalty=l2, solver=lbfgs;, score=0.721 total time=   0.2s\n",
            "[CV 4/5] END C=10, max_iter=200, penalty=l2, solver=lbfgs;, score=0.761 total time=   0.1s\n",
            "[CV 5/5] END C=10, max_iter=200, penalty=l2, solver=lbfgs;, score=0.751 total time=   0.1s\n",
            "[CV 1/5] END C=10, max_iter=200, penalty=l2, solver=liblinear;, score=0.708 total time=   0.0s\n",
            "[CV 2/5] END C=10, max_iter=200, penalty=l2, solver=liblinear;, score=0.735 total time=   0.0s\n",
            "[CV 3/5] END C=10, max_iter=200, penalty=l2, solver=liblinear;, score=0.721 total time=   0.0s\n",
            "[CV 4/5] END C=10, max_iter=200, penalty=l2, solver=liblinear;, score=0.761 total time=   0.0s\n",
            "[CV 5/5] END C=10, max_iter=200, penalty=l2, solver=liblinear;, score=0.747 total time=   0.0s\n"
          ]
        },
        {
          "output_type": "stream",
          "name": "stderr",
          "text": [
            "/usr/local/lib/python3.8/dist-packages/sklearn/linear_model/_logistic.py:814: ConvergenceWarning: lbfgs failed to converge (status=1):\n",
            "STOP: TOTAL NO. of ITERATIONS REACHED LIMIT.\n",
            "\n",
            "Increase the number of iterations (max_iter) or scale the data as shown in:\n",
            "    https://scikit-learn.org/stable/modules/preprocessing.html\n",
            "Please also refer to the documentation for alternative solver options:\n",
            "    https://scikit-learn.org/stable/modules/linear_model.html#logistic-regression\n",
            "  n_iter_i = _check_optimize_result(\n"
          ]
        },
        {
          "output_type": "stream",
          "name": "stdout",
          "text": [
            "[CV 1/5] END C=10, max_iter=300, penalty=l2, solver=newton-cg;, score=0.708 total time=   0.0s\n",
            "[CV 2/5] END C=10, max_iter=300, penalty=l2, solver=newton-cg;, score=0.738 total time=   0.0s\n",
            "[CV 3/5] END C=10, max_iter=300, penalty=l2, solver=newton-cg;, score=0.721 total time=   0.0s\n",
            "[CV 4/5] END C=10, max_iter=300, penalty=l2, solver=newton-cg;, score=0.761 total time=   0.0s\n",
            "[CV 5/5] END C=10, max_iter=300, penalty=l2, solver=newton-cg;, score=0.751 total time=   0.0s\n",
            "[CV 1/5] END C=10, max_iter=300, penalty=l2, solver=lbfgs;, score=0.708 total time=   0.1s\n",
            "[CV 2/5] END C=10, max_iter=300, penalty=l2, solver=lbfgs;, score=0.738 total time=   0.1s\n",
            "[CV 3/5] END C=10, max_iter=300, penalty=l2, solver=lbfgs;, score=0.721 total time=   0.1s\n",
            "[CV 4/5] END C=10, max_iter=300, penalty=l2, solver=lbfgs;, score=0.761 total time=   0.1s\n",
            "[CV 5/5] END C=10, max_iter=300, penalty=l2, solver=lbfgs;, score=0.751 total time=   0.2s\n",
            "[CV 1/5] END C=10, max_iter=300, penalty=l2, solver=liblinear;, score=0.708 total time=   0.0s\n",
            "[CV 2/5] END C=10, max_iter=300, penalty=l2, solver=liblinear;, score=0.735 total time=   0.0s\n",
            "[CV 3/5] END C=10, max_iter=300, penalty=l2, solver=liblinear;, score=0.721 total time=   0.0s\n",
            "[CV 4/5] END C=10, max_iter=300, penalty=l2, solver=liblinear;, score=0.761 total time=   0.0s\n",
            "[CV 5/5] END C=10, max_iter=300, penalty=l2, solver=liblinear;, score=0.747 total time=   0.0s\n",
            "[CV 1/5] END C=10, max_iter=400, penalty=l2, solver=newton-cg;, score=0.708 total time=   0.0s\n",
            "[CV 2/5] END C=10, max_iter=400, penalty=l2, solver=newton-cg;, score=0.738 total time=   0.0s\n",
            "[CV 3/5] END C=10, max_iter=400, penalty=l2, solver=newton-cg;, score=0.721 total time=   0.0s\n",
            "[CV 4/5] END C=10, max_iter=400, penalty=l2, solver=newton-cg;, score=0.761 total time=   0.0s\n",
            "[CV 5/5] END C=10, max_iter=400, penalty=l2, solver=newton-cg;, score=0.751 total time=   0.0s\n",
            "[CV 1/5] END C=10, max_iter=400, penalty=l2, solver=lbfgs;, score=0.708 total time=   0.1s\n",
            "[CV 2/5] END C=10, max_iter=400, penalty=l2, solver=lbfgs;, score=0.738 total time=   0.1s\n",
            "[CV 3/5] END C=10, max_iter=400, penalty=l2, solver=lbfgs;, score=0.721 total time=   0.1s\n",
            "[CV 4/5] END C=10, max_iter=400, penalty=l2, solver=lbfgs;, score=0.761 total time=   0.1s\n",
            "[CV 5/5] END C=10, max_iter=400, penalty=l2, solver=lbfgs;, score=0.751 total time=   0.1s\n",
            "[CV 1/5] END C=10, max_iter=400, penalty=l2, solver=liblinear;, score=0.708 total time=   0.0s\n",
            "[CV 2/5] END C=10, max_iter=400, penalty=l2, solver=liblinear;, score=0.735 total time=   0.0s\n",
            "[CV 3/5] END C=10, max_iter=400, penalty=l2, solver=liblinear;, score=0.721 total time=   0.0s\n",
            "[CV 4/5] END C=10, max_iter=400, penalty=l2, solver=liblinear;, score=0.761 total time=   0.0s\n",
            "[CV 5/5] END C=10, max_iter=400, penalty=l2, solver=liblinear;, score=0.747 total time=   0.0s\n",
            "[CV 1/5] END C=10, max_iter=500, penalty=l2, solver=newton-cg;, score=0.708 total time=   0.0s\n",
            "[CV 2/5] END C=10, max_iter=500, penalty=l2, solver=newton-cg;, score=0.738 total time=   0.0s\n",
            "[CV 3/5] END C=10, max_iter=500, penalty=l2, solver=newton-cg;, score=0.721 total time=   0.0s\n",
            "[CV 4/5] END C=10, max_iter=500, penalty=l2, solver=newton-cg;, score=0.761 total time=   0.0s\n",
            "[CV 5/5] END C=10, max_iter=500, penalty=l2, solver=newton-cg;, score=0.751 total time=   0.0s\n",
            "[CV 1/5] END C=10, max_iter=500, penalty=l2, solver=lbfgs;, score=0.708 total time=   0.1s\n",
            "[CV 2/5] END C=10, max_iter=500, penalty=l2, solver=lbfgs;, score=0.738 total time=   0.1s\n",
            "[CV 3/5] END C=10, max_iter=500, penalty=l2, solver=lbfgs;, score=0.721 total time=   0.1s\n",
            "[CV 4/5] END C=10, max_iter=500, penalty=l2, solver=lbfgs;, score=0.761 total time=   0.1s\n",
            "[CV 5/5] END C=10, max_iter=500, penalty=l2, solver=lbfgs;, score=0.751 total time=   0.1s\n",
            "[CV 1/5] END C=10, max_iter=500, penalty=l2, solver=liblinear;, score=0.708 total time=   0.0s\n",
            "[CV 2/5] END C=10, max_iter=500, penalty=l2, solver=liblinear;, score=0.735 total time=   0.0s\n",
            "[CV 3/5] END C=10, max_iter=500, penalty=l2, solver=liblinear;, score=0.721 total time=   0.0s\n",
            "[CV 4/5] END C=10, max_iter=500, penalty=l2, solver=liblinear;, score=0.761 total time=   0.0s\n",
            "[CV 5/5] END C=10, max_iter=500, penalty=l2, solver=liblinear;, score=0.747 total time=   0.0s\n",
            "[CV 1/5] END C=10, max_iter=600, penalty=l2, solver=newton-cg;, score=0.708 total time=   0.0s\n",
            "[CV 2/5] END C=10, max_iter=600, penalty=l2, solver=newton-cg;, score=0.738 total time=   0.0s\n",
            "[CV 3/5] END C=10, max_iter=600, penalty=l2, solver=newton-cg;, score=0.721 total time=   0.0s\n",
            "[CV 4/5] END C=10, max_iter=600, penalty=l2, solver=newton-cg;, score=0.761 total time=   0.0s\n",
            "[CV 5/5] END C=10, max_iter=600, penalty=l2, solver=newton-cg;, score=0.751 total time=   0.0s\n",
            "[CV 1/5] END C=10, max_iter=600, penalty=l2, solver=lbfgs;, score=0.708 total time=   0.1s\n",
            "[CV 2/5] END C=10, max_iter=600, penalty=l2, solver=lbfgs;, score=0.738 total time=   0.1s\n",
            "[CV 3/5] END C=10, max_iter=600, penalty=l2, solver=lbfgs;, score=0.721 total time=   0.1s\n",
            "[CV 4/5] END C=10, max_iter=600, penalty=l2, solver=lbfgs;, score=0.761 total time=   0.1s\n",
            "[CV 5/5] END C=10, max_iter=600, penalty=l2, solver=lbfgs;, score=0.751 total time=   0.1s\n",
            "[CV 1/5] END C=10, max_iter=600, penalty=l2, solver=liblinear;, score=0.708 total time=   0.0s\n",
            "[CV 2/5] END C=10, max_iter=600, penalty=l2, solver=liblinear;, score=0.735 total time=   0.0s\n",
            "[CV 3/5] END C=10, max_iter=600, penalty=l2, solver=liblinear;, score=0.721 total time=   0.0s\n",
            "[CV 4/5] END C=10, max_iter=600, penalty=l2, solver=liblinear;, score=0.761 total time=   0.0s\n",
            "[CV 5/5] END C=10, max_iter=600, penalty=l2, solver=liblinear;, score=0.747 total time=   0.0s\n",
            "[CV 1/5] END C=10, max_iter=700, penalty=l2, solver=newton-cg;, score=0.708 total time=   0.0s\n",
            "[CV 2/5] END C=10, max_iter=700, penalty=l2, solver=newton-cg;, score=0.738 total time=   0.0s\n",
            "[CV 3/5] END C=10, max_iter=700, penalty=l2, solver=newton-cg;, score=0.721 total time=   0.0s\n",
            "[CV 4/5] END C=10, max_iter=700, penalty=l2, solver=newton-cg;, score=0.761 total time=   0.0s\n",
            "[CV 5/5] END C=10, max_iter=700, penalty=l2, solver=newton-cg;, score=0.751 total time=   0.0s\n",
            "[CV 1/5] END C=10, max_iter=700, penalty=l2, solver=lbfgs;, score=0.708 total time=   0.1s\n",
            "[CV 2/5] END C=10, max_iter=700, penalty=l2, solver=lbfgs;, score=0.738 total time=   0.1s\n",
            "[CV 3/5] END C=10, max_iter=700, penalty=l2, solver=lbfgs;, score=0.721 total time=   0.1s\n",
            "[CV 4/5] END C=10, max_iter=700, penalty=l2, solver=lbfgs;, score=0.761 total time=   0.1s\n",
            "[CV 5/5] END C=10, max_iter=700, penalty=l2, solver=lbfgs;, score=0.751 total time=   0.1s\n",
            "[CV 1/5] END C=10, max_iter=700, penalty=l2, solver=liblinear;, score=0.708 total time=   0.0s\n",
            "[CV 2/5] END C=10, max_iter=700, penalty=l2, solver=liblinear;, score=0.735 total time=   0.0s\n",
            "[CV 3/5] END C=10, max_iter=700, penalty=l2, solver=liblinear;, score=0.721 total time=   0.0s\n",
            "[CV 4/5] END C=10, max_iter=700, penalty=l2, solver=liblinear;, score=0.761 total time=   0.0s\n",
            "[CV 5/5] END C=10, max_iter=700, penalty=l2, solver=liblinear;, score=0.747 total time=   0.0s\n",
            "[CV 1/5] END C=10, max_iter=800, penalty=l2, solver=newton-cg;, score=0.708 total time=   0.0s\n",
            "[CV 2/5] END C=10, max_iter=800, penalty=l2, solver=newton-cg;, score=0.738 total time=   0.1s\n",
            "[CV 3/5] END C=10, max_iter=800, penalty=l2, solver=newton-cg;, score=0.721 total time=   0.1s\n",
            "[CV 4/5] END C=10, max_iter=800, penalty=l2, solver=newton-cg;, score=0.761 total time=   0.0s\n",
            "[CV 5/5] END C=10, max_iter=800, penalty=l2, solver=newton-cg;, score=0.751 total time=   0.0s\n",
            "[CV 1/5] END C=10, max_iter=800, penalty=l2, solver=lbfgs;, score=0.708 total time=   0.1s\n",
            "[CV 2/5] END C=10, max_iter=800, penalty=l2, solver=lbfgs;, score=0.738 total time=   0.1s\n",
            "[CV 3/5] END C=10, max_iter=800, penalty=l2, solver=lbfgs;, score=0.721 total time=   0.2s\n",
            "[CV 4/5] END C=10, max_iter=800, penalty=l2, solver=lbfgs;, score=0.761 total time=   0.1s\n",
            "[CV 5/5] END C=10, max_iter=800, penalty=l2, solver=lbfgs;, score=0.751 total time=   0.2s\n",
            "[CV 1/5] END C=10, max_iter=800, penalty=l2, solver=liblinear;, score=0.708 total time=   0.0s\n",
            "[CV 2/5] END C=10, max_iter=800, penalty=l2, solver=liblinear;, score=0.735 total time=   0.0s\n",
            "[CV 3/5] END C=10, max_iter=800, penalty=l2, solver=liblinear;, score=0.721 total time=   0.0s\n",
            "[CV 4/5] END C=10, max_iter=800, penalty=l2, solver=liblinear;, score=0.761 total time=   0.0s\n",
            "[CV 5/5] END C=10, max_iter=800, penalty=l2, solver=liblinear;, score=0.747 total time=   0.0s\n",
            "[CV 1/5] END C=100, max_iter=100, penalty=l2, solver=newton-cg;, score=0.755 total time=   0.0s\n",
            "[CV 2/5] END C=100, max_iter=100, penalty=l2, solver=newton-cg;, score=0.792 total time=   0.0s\n",
            "[CV 3/5] END C=100, max_iter=100, penalty=l2, solver=newton-cg;, score=0.754 total time=   0.0s\n",
            "[CV 4/5] END C=100, max_iter=100, penalty=l2, solver=newton-cg;, score=0.778 total time=   0.1s\n",
            "[CV 5/5] END C=100, max_iter=100, penalty=l2, solver=newton-cg;, score=0.795 total time=   0.0s\n",
            "[CV 1/5] END C=100, max_iter=100, penalty=l2, solver=lbfgs;, score=0.755 total time=   0.1s\n",
            "[CV 2/5] END C=100, max_iter=100, penalty=l2, solver=lbfgs;, score=0.752 total time=   0.1s\n"
          ]
        },
        {
          "output_type": "stream",
          "name": "stderr",
          "text": [
            "/usr/local/lib/python3.8/dist-packages/sklearn/linear_model/_logistic.py:814: ConvergenceWarning: lbfgs failed to converge (status=1):\n",
            "STOP: TOTAL NO. of ITERATIONS REACHED LIMIT.\n",
            "\n",
            "Increase the number of iterations (max_iter) or scale the data as shown in:\n",
            "    https://scikit-learn.org/stable/modules/preprocessing.html\n",
            "Please also refer to the documentation for alternative solver options:\n",
            "    https://scikit-learn.org/stable/modules/linear_model.html#logistic-regression\n",
            "  n_iter_i = _check_optimize_result(\n",
            "/usr/local/lib/python3.8/dist-packages/sklearn/linear_model/_logistic.py:814: ConvergenceWarning: lbfgs failed to converge (status=1):\n",
            "STOP: TOTAL NO. of ITERATIONS REACHED LIMIT.\n",
            "\n",
            "Increase the number of iterations (max_iter) or scale the data as shown in:\n",
            "    https://scikit-learn.org/stable/modules/preprocessing.html\n",
            "Please also refer to the documentation for alternative solver options:\n",
            "    https://scikit-learn.org/stable/modules/linear_model.html#logistic-regression\n",
            "  n_iter_i = _check_optimize_result(\n",
            "/usr/local/lib/python3.8/dist-packages/sklearn/linear_model/_logistic.py:814: ConvergenceWarning: lbfgs failed to converge (status=1):\n",
            "STOP: TOTAL NO. of ITERATIONS REACHED LIMIT.\n",
            "\n",
            "Increase the number of iterations (max_iter) or scale the data as shown in:\n",
            "    https://scikit-learn.org/stable/modules/preprocessing.html\n",
            "Please also refer to the documentation for alternative solver options:\n",
            "    https://scikit-learn.org/stable/modules/linear_model.html#logistic-regression\n",
            "  n_iter_i = _check_optimize_result(\n"
          ]
        },
        {
          "output_type": "stream",
          "name": "stdout",
          "text": [
            "[CV 3/5] END C=100, max_iter=100, penalty=l2, solver=lbfgs;, score=0.744 total time=   0.1s\n",
            "[CV 4/5] END C=100, max_iter=100, penalty=l2, solver=lbfgs;, score=0.771 total time=   0.1s\n",
            "[CV 5/5] END C=100, max_iter=100, penalty=l2, solver=lbfgs;, score=0.801 total time=   0.1s\n",
            "[CV 1/5] END C=100, max_iter=100, penalty=l2, solver=liblinear;, score=0.755 total time=   0.0s\n",
            "[CV 2/5] END C=100, max_iter=100, penalty=l2, solver=liblinear;, score=0.792 total time=   0.0s\n"
          ]
        },
        {
          "output_type": "stream",
          "name": "stderr",
          "text": [
            "/usr/local/lib/python3.8/dist-packages/sklearn/linear_model/_logistic.py:814: ConvergenceWarning: lbfgs failed to converge (status=1):\n",
            "STOP: TOTAL NO. of ITERATIONS REACHED LIMIT.\n",
            "\n",
            "Increase the number of iterations (max_iter) or scale the data as shown in:\n",
            "    https://scikit-learn.org/stable/modules/preprocessing.html\n",
            "Please also refer to the documentation for alternative solver options:\n",
            "    https://scikit-learn.org/stable/modules/linear_model.html#logistic-regression\n",
            "  n_iter_i = _check_optimize_result(\n",
            "/usr/local/lib/python3.8/dist-packages/sklearn/linear_model/_logistic.py:814: ConvergenceWarning: lbfgs failed to converge (status=1):\n",
            "STOP: TOTAL NO. of ITERATIONS REACHED LIMIT.\n",
            "\n",
            "Increase the number of iterations (max_iter) or scale the data as shown in:\n",
            "    https://scikit-learn.org/stable/modules/preprocessing.html\n",
            "Please also refer to the documentation for alternative solver options:\n",
            "    https://scikit-learn.org/stable/modules/linear_model.html#logistic-regression\n",
            "  n_iter_i = _check_optimize_result(\n"
          ]
        },
        {
          "output_type": "stream",
          "name": "stdout",
          "text": [
            "[CV 3/5] END C=100, max_iter=100, penalty=l2, solver=liblinear;, score=0.754 total time=   0.0s\n",
            "[CV 4/5] END C=100, max_iter=100, penalty=l2, solver=liblinear;, score=0.778 total time=   0.0s\n",
            "[CV 5/5] END C=100, max_iter=100, penalty=l2, solver=liblinear;, score=0.795 total time=   0.0s\n",
            "[CV 1/5] END C=100, max_iter=200, penalty=l2, solver=newton-cg;, score=0.755 total time=   0.1s\n",
            "[CV 2/5] END C=100, max_iter=200, penalty=l2, solver=newton-cg;, score=0.792 total time=   0.1s\n",
            "[CV 3/5] END C=100, max_iter=200, penalty=l2, solver=newton-cg;, score=0.754 total time=   0.0s\n",
            "[CV 4/5] END C=100, max_iter=200, penalty=l2, solver=newton-cg;, score=0.778 total time=   0.1s\n",
            "[CV 5/5] END C=100, max_iter=200, penalty=l2, solver=newton-cg;, score=0.795 total time=   0.0s\n",
            "[CV 1/5] END C=100, max_iter=200, penalty=l2, solver=lbfgs;, score=0.768 total time=   0.1s\n"
          ]
        },
        {
          "output_type": "stream",
          "name": "stderr",
          "text": [
            "/usr/local/lib/python3.8/dist-packages/sklearn/linear_model/_logistic.py:814: ConvergenceWarning: lbfgs failed to converge (status=1):\n",
            "STOP: TOTAL NO. of ITERATIONS REACHED LIMIT.\n",
            "\n",
            "Increase the number of iterations (max_iter) or scale the data as shown in:\n",
            "    https://scikit-learn.org/stable/modules/preprocessing.html\n",
            "Please also refer to the documentation for alternative solver options:\n",
            "    https://scikit-learn.org/stable/modules/linear_model.html#logistic-regression\n",
            "  n_iter_i = _check_optimize_result(\n",
            "/usr/local/lib/python3.8/dist-packages/sklearn/linear_model/_logistic.py:814: ConvergenceWarning: lbfgs failed to converge (status=1):\n",
            "STOP: TOTAL NO. of ITERATIONS REACHED LIMIT.\n",
            "\n",
            "Increase the number of iterations (max_iter) or scale the data as shown in:\n",
            "    https://scikit-learn.org/stable/modules/preprocessing.html\n",
            "Please also refer to the documentation for alternative solver options:\n",
            "    https://scikit-learn.org/stable/modules/linear_model.html#logistic-regression\n",
            "  n_iter_i = _check_optimize_result(\n"
          ]
        },
        {
          "output_type": "stream",
          "name": "stdout",
          "text": [
            "[CV 2/5] END C=100, max_iter=200, penalty=l2, solver=lbfgs;, score=0.782 total time=   0.1s\n",
            "[CV 3/5] END C=100, max_iter=200, penalty=l2, solver=lbfgs;, score=0.754 total time=   0.1s\n"
          ]
        },
        {
          "output_type": "stream",
          "name": "stderr",
          "text": [
            "/usr/local/lib/python3.8/dist-packages/sklearn/linear_model/_logistic.py:814: ConvergenceWarning: lbfgs failed to converge (status=1):\n",
            "STOP: TOTAL NO. of ITERATIONS REACHED LIMIT.\n",
            "\n",
            "Increase the number of iterations (max_iter) or scale the data as shown in:\n",
            "    https://scikit-learn.org/stable/modules/preprocessing.html\n",
            "Please also refer to the documentation for alternative solver options:\n",
            "    https://scikit-learn.org/stable/modules/linear_model.html#logistic-regression\n",
            "  n_iter_i = _check_optimize_result(\n",
            "/usr/local/lib/python3.8/dist-packages/sklearn/linear_model/_logistic.py:814: ConvergenceWarning: lbfgs failed to converge (status=1):\n",
            "STOP: TOTAL NO. of ITERATIONS REACHED LIMIT.\n",
            "\n",
            "Increase the number of iterations (max_iter) or scale the data as shown in:\n",
            "    https://scikit-learn.org/stable/modules/preprocessing.html\n",
            "Please also refer to the documentation for alternative solver options:\n",
            "    https://scikit-learn.org/stable/modules/linear_model.html#logistic-regression\n",
            "  n_iter_i = _check_optimize_result(\n"
          ]
        },
        {
          "output_type": "stream",
          "name": "stdout",
          "text": [
            "[CV 4/5] END C=100, max_iter=200, penalty=l2, solver=lbfgs;, score=0.778 total time=   0.2s\n",
            "[CV 5/5] END C=100, max_iter=200, penalty=l2, solver=lbfgs;, score=0.795 total time=   0.1s\n",
            "[CV 1/5] END C=100, max_iter=200, penalty=l2, solver=liblinear;, score=0.755 total time=   0.0s\n",
            "[CV 2/5] END C=100, max_iter=200, penalty=l2, solver=liblinear;, score=0.792 total time=   0.0s\n",
            "[CV 3/5] END C=100, max_iter=200, penalty=l2, solver=liblinear;, score=0.754 total time=   0.0s\n"
          ]
        },
        {
          "output_type": "stream",
          "name": "stderr",
          "text": [
            "/usr/local/lib/python3.8/dist-packages/sklearn/linear_model/_logistic.py:814: ConvergenceWarning: lbfgs failed to converge (status=1):\n",
            "STOP: TOTAL NO. of ITERATIONS REACHED LIMIT.\n",
            "\n",
            "Increase the number of iterations (max_iter) or scale the data as shown in:\n",
            "    https://scikit-learn.org/stable/modules/preprocessing.html\n",
            "Please also refer to the documentation for alternative solver options:\n",
            "    https://scikit-learn.org/stable/modules/linear_model.html#logistic-regression\n",
            "  n_iter_i = _check_optimize_result(\n"
          ]
        },
        {
          "output_type": "stream",
          "name": "stdout",
          "text": [
            "[CV 4/5] END C=100, max_iter=200, penalty=l2, solver=liblinear;, score=0.778 total time=   0.0s\n",
            "[CV 5/5] END C=100, max_iter=200, penalty=l2, solver=liblinear;, score=0.795 total time=   0.0s\n",
            "[CV 1/5] END C=100, max_iter=300, penalty=l2, solver=newton-cg;, score=0.755 total time=   0.0s\n",
            "[CV 2/5] END C=100, max_iter=300, penalty=l2, solver=newton-cg;, score=0.792 total time=   0.0s\n",
            "[CV 3/5] END C=100, max_iter=300, penalty=l2, solver=newton-cg;, score=0.754 total time=   0.0s\n",
            "[CV 4/5] END C=100, max_iter=300, penalty=l2, solver=newton-cg;, score=0.778 total time=   0.0s\n",
            "[CV 5/5] END C=100, max_iter=300, penalty=l2, solver=newton-cg;, score=0.795 total time=   0.1s\n",
            "[CV 1/5] END C=100, max_iter=300, penalty=l2, solver=lbfgs;, score=0.755 total time=   0.2s\n"
          ]
        },
        {
          "output_type": "stream",
          "name": "stderr",
          "text": [
            "/usr/local/lib/python3.8/dist-packages/sklearn/linear_model/_logistic.py:814: ConvergenceWarning: lbfgs failed to converge (status=1):\n",
            "STOP: TOTAL NO. of ITERATIONS REACHED LIMIT.\n",
            "\n",
            "Increase the number of iterations (max_iter) or scale the data as shown in:\n",
            "    https://scikit-learn.org/stable/modules/preprocessing.html\n",
            "Please also refer to the documentation for alternative solver options:\n",
            "    https://scikit-learn.org/stable/modules/linear_model.html#logistic-regression\n",
            "  n_iter_i = _check_optimize_result(\n",
            "/usr/local/lib/python3.8/dist-packages/sklearn/linear_model/_logistic.py:814: ConvergenceWarning: lbfgs failed to converge (status=1):\n",
            "STOP: TOTAL NO. of ITERATIONS REACHED LIMIT.\n",
            "\n",
            "Increase the number of iterations (max_iter) or scale the data as shown in:\n",
            "    https://scikit-learn.org/stable/modules/preprocessing.html\n",
            "Please also refer to the documentation for alternative solver options:\n",
            "    https://scikit-learn.org/stable/modules/linear_model.html#logistic-regression\n",
            "  n_iter_i = _check_optimize_result(\n",
            "/usr/local/lib/python3.8/dist-packages/sklearn/linear_model/_logistic.py:814: ConvergenceWarning: lbfgs failed to converge (status=1):\n",
            "STOP: TOTAL NO. of ITERATIONS REACHED LIMIT.\n",
            "\n",
            "Increase the number of iterations (max_iter) or scale the data as shown in:\n",
            "    https://scikit-learn.org/stable/modules/preprocessing.html\n",
            "Please also refer to the documentation for alternative solver options:\n",
            "    https://scikit-learn.org/stable/modules/linear_model.html#logistic-regression\n",
            "  n_iter_i = _check_optimize_result(\n"
          ]
        },
        {
          "output_type": "stream",
          "name": "stdout",
          "text": [
            "[CV 2/5] END C=100, max_iter=300, penalty=l2, solver=lbfgs;, score=0.789 total time=   0.2s\n",
            "[CV 3/5] END C=100, max_iter=300, penalty=l2, solver=lbfgs;, score=0.754 total time=   0.2s\n"
          ]
        },
        {
          "output_type": "stream",
          "name": "stderr",
          "text": [
            "/usr/local/lib/python3.8/dist-packages/sklearn/linear_model/_logistic.py:814: ConvergenceWarning: lbfgs failed to converge (status=1):\n",
            "STOP: TOTAL NO. of ITERATIONS REACHED LIMIT.\n",
            "\n",
            "Increase the number of iterations (max_iter) or scale the data as shown in:\n",
            "    https://scikit-learn.org/stable/modules/preprocessing.html\n",
            "Please also refer to the documentation for alternative solver options:\n",
            "    https://scikit-learn.org/stable/modules/linear_model.html#logistic-regression\n",
            "  n_iter_i = _check_optimize_result(\n",
            "/usr/local/lib/python3.8/dist-packages/sklearn/linear_model/_logistic.py:814: ConvergenceWarning: lbfgs failed to converge (status=1):\n",
            "STOP: TOTAL NO. of ITERATIONS REACHED LIMIT.\n",
            "\n",
            "Increase the number of iterations (max_iter) or scale the data as shown in:\n",
            "    https://scikit-learn.org/stable/modules/preprocessing.html\n",
            "Please also refer to the documentation for alternative solver options:\n",
            "    https://scikit-learn.org/stable/modules/linear_model.html#logistic-regression\n",
            "  n_iter_i = _check_optimize_result(\n"
          ]
        },
        {
          "output_type": "stream",
          "name": "stdout",
          "text": [
            "[CV 4/5] END C=100, max_iter=300, penalty=l2, solver=lbfgs;, score=0.778 total time=   0.2s\n",
            "[CV 5/5] END C=100, max_iter=300, penalty=l2, solver=lbfgs;, score=0.795 total time=   0.2s\n",
            "[CV 1/5] END C=100, max_iter=300, penalty=l2, solver=liblinear;, score=0.755 total time=   0.0s\n",
            "[CV 2/5] END C=100, max_iter=300, penalty=l2, solver=liblinear;, score=0.792 total time=   0.0s\n",
            "[CV 3/5] END C=100, max_iter=300, penalty=l2, solver=liblinear;, score=0.754 total time=   0.0s\n",
            "[CV 4/5] END C=100, max_iter=300, penalty=l2, solver=liblinear;, score=0.778 total time=   0.0s\n",
            "[CV 5/5] END C=100, max_iter=300, penalty=l2, solver=liblinear;, score=0.795 total time=   0.0s\n",
            "[CV 1/5] END C=100, max_iter=400, penalty=l2, solver=newton-cg;, score=0.755 total time=   0.0s\n",
            "[CV 2/5] END C=100, max_iter=400, penalty=l2, solver=newton-cg;, score=0.792 total time=   0.1s\n",
            "[CV 3/5] END C=100, max_iter=400, penalty=l2, solver=newton-cg;, score=0.754 total time=   0.0s\n",
            "[CV 4/5] END C=100, max_iter=400, penalty=l2, solver=newton-cg;, score=0.778 total time=   0.0s\n",
            "[CV 5/5] END C=100, max_iter=400, penalty=l2, solver=newton-cg;, score=0.795 total time=   0.0s\n",
            "[CV 1/5] END C=100, max_iter=400, penalty=l2, solver=lbfgs;, score=0.755 total time=   0.3s\n",
            "[CV 2/5] END C=100, max_iter=400, penalty=l2, solver=lbfgs;, score=0.792 total time=   0.3s\n",
            "[CV 3/5] END C=100, max_iter=400, penalty=l2, solver=lbfgs;, score=0.754 total time=   0.3s\n",
            "[CV 4/5] END C=100, max_iter=400, penalty=l2, solver=lbfgs;, score=0.778 total time=   0.2s\n",
            "[CV 5/5] END C=100, max_iter=400, penalty=l2, solver=lbfgs;, score=0.795 total time=   0.2s\n",
            "[CV 1/5] END C=100, max_iter=400, penalty=l2, solver=liblinear;, score=0.755 total time=   0.0s\n",
            "[CV 2/5] END C=100, max_iter=400, penalty=l2, solver=liblinear;, score=0.792 total time=   0.0s\n",
            "[CV 3/5] END C=100, max_iter=400, penalty=l2, solver=liblinear;, score=0.754 total time=   0.0s\n",
            "[CV 4/5] END C=100, max_iter=400, penalty=l2, solver=liblinear;, score=0.778 total time=   0.0s\n",
            "[CV 5/5] END C=100, max_iter=400, penalty=l2, solver=liblinear;, score=0.795 total time=   0.0s\n",
            "[CV 1/5] END C=100, max_iter=500, penalty=l2, solver=newton-cg;, score=0.755 total time=   0.0s\n",
            "[CV 2/5] END C=100, max_iter=500, penalty=l2, solver=newton-cg;, score=0.792 total time=   0.0s\n",
            "[CV 3/5] END C=100, max_iter=500, penalty=l2, solver=newton-cg;, score=0.754 total time=   0.0s\n",
            "[CV 4/5] END C=100, max_iter=500, penalty=l2, solver=newton-cg;, score=0.778 total time=   0.0s\n",
            "[CV 5/5] END C=100, max_iter=500, penalty=l2, solver=newton-cg;, score=0.795 total time=   0.0s\n",
            "[CV 1/5] END C=100, max_iter=500, penalty=l2, solver=lbfgs;, score=0.755 total time=   0.3s\n",
            "[CV 2/5] END C=100, max_iter=500, penalty=l2, solver=lbfgs;, score=0.792 total time=   0.2s\n",
            "[CV 3/5] END C=100, max_iter=500, penalty=l2, solver=lbfgs;, score=0.754 total time=   0.2s\n",
            "[CV 4/5] END C=100, max_iter=500, penalty=l2, solver=lbfgs;, score=0.778 total time=   0.2s\n",
            "[CV 5/5] END C=100, max_iter=500, penalty=l2, solver=lbfgs;, score=0.795 total time=   0.2s\n",
            "[CV 1/5] END C=100, max_iter=500, penalty=l2, solver=liblinear;, score=0.755 total time=   0.0s\n",
            "[CV 2/5] END C=100, max_iter=500, penalty=l2, solver=liblinear;, score=0.792 total time=   0.0s\n",
            "[CV 3/5] END C=100, max_iter=500, penalty=l2, solver=liblinear;, score=0.754 total time=   0.0s\n",
            "[CV 4/5] END C=100, max_iter=500, penalty=l2, solver=liblinear;, score=0.778 total time=   0.0s\n",
            "[CV 5/5] END C=100, max_iter=500, penalty=l2, solver=liblinear;, score=0.795 total time=   0.0s\n",
            "[CV 1/5] END C=100, max_iter=600, penalty=l2, solver=newton-cg;, score=0.755 total time=   0.0s\n",
            "[CV 2/5] END C=100, max_iter=600, penalty=l2, solver=newton-cg;, score=0.792 total time=   0.0s\n",
            "[CV 3/5] END C=100, max_iter=600, penalty=l2, solver=newton-cg;, score=0.754 total time=   0.0s\n",
            "[CV 4/5] END C=100, max_iter=600, penalty=l2, solver=newton-cg;, score=0.778 total time=   0.0s\n",
            "[CV 5/5] END C=100, max_iter=600, penalty=l2, solver=newton-cg;, score=0.795 total time=   0.0s\n",
            "[CV 1/5] END C=100, max_iter=600, penalty=l2, solver=lbfgs;, score=0.755 total time=   0.3s\n",
            "[CV 2/5] END C=100, max_iter=600, penalty=l2, solver=lbfgs;, score=0.792 total time=   0.2s\n",
            "[CV 3/5] END C=100, max_iter=600, penalty=l2, solver=lbfgs;, score=0.754 total time=   0.3s\n",
            "[CV 4/5] END C=100, max_iter=600, penalty=l2, solver=lbfgs;, score=0.778 total time=   0.2s\n",
            "[CV 5/5] END C=100, max_iter=600, penalty=l2, solver=lbfgs;, score=0.795 total time=   0.3s\n",
            "[CV 1/5] END C=100, max_iter=600, penalty=l2, solver=liblinear;, score=0.755 total time=   0.0s\n",
            "[CV 2/5] END C=100, max_iter=600, penalty=l2, solver=liblinear;, score=0.792 total time=   0.0s\n",
            "[CV 3/5] END C=100, max_iter=600, penalty=l2, solver=liblinear;, score=0.754 total time=   0.0s\n",
            "[CV 4/5] END C=100, max_iter=600, penalty=l2, solver=liblinear;, score=0.778 total time=   0.0s\n",
            "[CV 5/5] END C=100, max_iter=600, penalty=l2, solver=liblinear;, score=0.795 total time=   0.0s\n",
            "[CV 1/5] END C=100, max_iter=700, penalty=l2, solver=newton-cg;, score=0.755 total time=   0.1s\n",
            "[CV 2/5] END C=100, max_iter=700, penalty=l2, solver=newton-cg;, score=0.792 total time=   0.0s\n",
            "[CV 3/5] END C=100, max_iter=700, penalty=l2, solver=newton-cg;, score=0.754 total time=   0.1s\n",
            "[CV 4/5] END C=100, max_iter=700, penalty=l2, solver=newton-cg;, score=0.778 total time=   0.0s\n",
            "[CV 5/5] END C=100, max_iter=700, penalty=l2, solver=newton-cg;, score=0.795 total time=   0.0s\n",
            "[CV 1/5] END C=100, max_iter=700, penalty=l2, solver=lbfgs;, score=0.755 total time=   0.3s\n",
            "[CV 2/5] END C=100, max_iter=700, penalty=l2, solver=lbfgs;, score=0.792 total time=   0.2s\n",
            "[CV 3/5] END C=100, max_iter=700, penalty=l2, solver=lbfgs;, score=0.754 total time=   0.2s\n",
            "[CV 4/5] END C=100, max_iter=700, penalty=l2, solver=lbfgs;, score=0.778 total time=   0.2s\n",
            "[CV 5/5] END C=100, max_iter=700, penalty=l2, solver=lbfgs;, score=0.795 total time=   0.3s\n",
            "[CV 1/5] END C=100, max_iter=700, penalty=l2, solver=liblinear;, score=0.755 total time=   0.0s\n",
            "[CV 2/5] END C=100, max_iter=700, penalty=l2, solver=liblinear;, score=0.792 total time=   0.0s\n",
            "[CV 3/5] END C=100, max_iter=700, penalty=l2, solver=liblinear;, score=0.754 total time=   0.0s\n",
            "[CV 4/5] END C=100, max_iter=700, penalty=l2, solver=liblinear;, score=0.778 total time=   0.0s\n",
            "[CV 5/5] END C=100, max_iter=700, penalty=l2, solver=liblinear;, score=0.795 total time=   0.0s\n",
            "[CV 1/5] END C=100, max_iter=800, penalty=l2, solver=newton-cg;, score=0.755 total time=   0.0s\n",
            "[CV 2/5] END C=100, max_iter=800, penalty=l2, solver=newton-cg;, score=0.792 total time=   0.0s\n",
            "[CV 3/5] END C=100, max_iter=800, penalty=l2, solver=newton-cg;, score=0.754 total time=   0.1s\n",
            "[CV 4/5] END C=100, max_iter=800, penalty=l2, solver=newton-cg;, score=0.778 total time=   0.1s\n",
            "[CV 5/5] END C=100, max_iter=800, penalty=l2, solver=newton-cg;, score=0.795 total time=   0.0s\n",
            "[CV 1/5] END C=100, max_iter=800, penalty=l2, solver=lbfgs;, score=0.755 total time=   0.3s\n",
            "[CV 2/5] END C=100, max_iter=800, penalty=l2, solver=lbfgs;, score=0.792 total time=   0.2s\n",
            "[CV 3/5] END C=100, max_iter=800, penalty=l2, solver=lbfgs;, score=0.754 total time=   0.3s\n",
            "[CV 4/5] END C=100, max_iter=800, penalty=l2, solver=lbfgs;, score=0.778 total time=   0.3s\n",
            "[CV 5/5] END C=100, max_iter=800, penalty=l2, solver=lbfgs;, score=0.795 total time=   0.2s\n",
            "[CV 1/5] END C=100, max_iter=800, penalty=l2, solver=liblinear;, score=0.755 total time=   0.0s\n",
            "[CV 2/5] END C=100, max_iter=800, penalty=l2, solver=liblinear;, score=0.792 total time=   0.0s\n",
            "[CV 3/5] END C=100, max_iter=800, penalty=l2, solver=liblinear;, score=0.754 total time=   0.0s\n",
            "[CV 4/5] END C=100, max_iter=800, penalty=l2, solver=liblinear;, score=0.778 total time=   0.0s\n",
            "[CV 5/5] END C=100, max_iter=800, penalty=l2, solver=liblinear;, score=0.795 total time=   0.0s\n"
          ]
        },
        {
          "output_type": "stream",
          "name": "stderr",
          "text": [
            "/usr/local/lib/python3.8/dist-packages/sklearn/linear_model/_logistic.py:814: ConvergenceWarning: lbfgs failed to converge (status=1):\n",
            "STOP: TOTAL NO. of ITERATIONS REACHED LIMIT.\n",
            "\n",
            "Increase the number of iterations (max_iter) or scale the data as shown in:\n",
            "    https://scikit-learn.org/stable/modules/preprocessing.html\n",
            "Please also refer to the documentation for alternative solver options:\n",
            "    https://scikit-learn.org/stable/modules/linear_model.html#logistic-regression\n",
            "  n_iter_i = _check_optimize_result(\n"
          ]
        },
        {
          "output_type": "execute_result",
          "data": {
            "text/plain": [
              "GridSearchCV(estimator=LogisticRegression(),\n",
              "             param_grid={'C': [0.01, 0.1, 1, 10, 100],\n",
              "                         'max_iter': [100, 200, 300, 400, 500, 600, 700, 800],\n",
              "                         'penalty': ['l2'],\n",
              "                         'solver': ['newton-cg', 'lbfgs', 'liblinear']},\n",
              "             verbose=3)"
            ]
          },
          "metadata": {},
          "execution_count": 35
        }
      ]
    },
    {
      "cell_type": "code",
      "source": [
        "# print best parameter after tuning\n",
        "print(grid.best_params_)\n",
        "\n",
        "# print how our model looks after hyper-parameter tuning\n",
        "print(grid.best_estimator_)"
      ],
      "metadata": {
        "colab": {
          "base_uri": "https://localhost:8080/"
        },
        "id": "af95Vl_wpF36",
        "outputId": "586fd98f-544e-4167-8d6c-9664cccad8ab"
      },
      "execution_count": null,
      "outputs": [
        {
          "output_type": "stream",
          "name": "stdout",
          "text": [
            "{'C': 100, 'max_iter': 200, 'penalty': 'l2', 'solver': 'lbfgs'}\n",
            "LogisticRegression(C=100, max_iter=200)\n"
          ]
        }
      ]
    },
    {
      "cell_type": "code",
      "source": [
        "#ideal parameters\n",
        "#{'C': 100, 'max_iter': 200, 'penalty': 'l2', 'solver': 'lbfgs'}\n",
        "\n",
        "#logistic regression model\n",
        "logr_model = LogisticRegression(C = 100, max_iter = 400, penalty = \"l2\", solver = \"lbfgs\")\n",
        "logr_model.fit(X_train_normalised, Y_train)\n",
        "\n",
        "# evaluate performance using test set\n",
        "preds = logr_model.predict(X_test_normalised)\n",
        "print(metrics.classification_report(preds, Y_test))\n",
        "metrics.confusion_matrix(Y_test,preds)"
      ],
      "metadata": {
        "colab": {
          "base_uri": "https://localhost:8080/"
        },
        "id": "HwukLWbpJX16",
        "outputId": "01f5adb3-2d75-4711-e6b4-3a56aeff76f8"
      },
      "execution_count": null,
      "outputs": [
        {
          "output_type": "stream",
          "name": "stdout",
          "text": [
            "              precision    recall  f1-score   support\n",
            "\n",
            "         0.0       0.95      0.58      0.72       826\n",
            "         1.0       0.30      0.86      0.44       174\n",
            "\n",
            "    accuracy                           0.62      1000\n",
            "   macro avg       0.62      0.72      0.58      1000\n",
            "weighted avg       0.84      0.62      0.67      1000\n",
            "\n"
          ]
        },
        {
          "output_type": "stream",
          "name": "stderr",
          "text": [
            "/usr/local/lib/python3.8/dist-packages/sklearn/linear_model/_logistic.py:814: ConvergenceWarning: lbfgs failed to converge (status=1):\n",
            "STOP: TOTAL NO. of ITERATIONS REACHED LIMIT.\n",
            "\n",
            "Increase the number of iterations (max_iter) or scale the data as shown in:\n",
            "    https://scikit-learn.org/stable/modules/preprocessing.html\n",
            "Please also refer to the documentation for alternative solver options:\n",
            "    https://scikit-learn.org/stable/modules/linear_model.html#logistic-regression\n",
            "  n_iter_i = _check_optimize_result(\n"
          ]
        },
        {
          "output_type": "execute_result",
          "data": {
            "text/plain": [
              "array([[475,  25],\n",
              "       [351, 149]])"
            ]
          },
          "metadata": {},
          "execution_count": 16
        }
      ]
    },
    {
      "cell_type": "code",
      "source": [
        "## Tuning hyper parameters of svm rbf model using validation set\n",
        "\n",
        "# defining parameter range\n",
        "param_grid = {'C': [0.1, 1, 10, 100, 1000],\n",
        "\t\t\t'gamma': [1, 0.1, 0.01, 0.001, 0.0001],\n",
        "\t\t\t'kernel': ['rbf', \"linear\"]}\n",
        "\n",
        "grid = GridSearchCV(svm.SVC(), param_grid, refit = True, verbose = 3)\n",
        "\n",
        "# fitting the model for grid search\n",
        "grid.fit(X_validate_normalised, Y_validate)"
      ],
      "metadata": {
        "colab": {
          "base_uri": "https://localhost:8080/"
        },
        "id": "uIlmA8HFL09n",
        "outputId": "a16bfc6b-7153-4096-9554-dbc1d82172f2"
      },
      "execution_count": null,
      "outputs": [
        {
          "output_type": "stream",
          "name": "stdout",
          "text": [
            "Fitting 5 folds for each of 50 candidates, totalling 250 fits\n",
            "[CV 1/5] END ........C=0.1, gamma=1, kernel=rbf;, score=0.631 total time=   0.1s\n",
            "[CV 2/5] END ........C=0.1, gamma=1, kernel=rbf;, score=0.681 total time=   0.1s\n",
            "[CV 3/5] END ........C=0.1, gamma=1, kernel=rbf;, score=0.687 total time=   0.1s\n",
            "[CV 4/5] END ........C=0.1, gamma=1, kernel=rbf;, score=0.687 total time=   0.1s\n",
            "[CV 5/5] END ........C=0.1, gamma=1, kernel=rbf;, score=0.684 total time=   0.1s\n",
            "[CV 1/5] END .....C=0.1, gamma=1, kernel=linear;, score=0.641 total time=   0.1s\n",
            "[CV 2/5] END .....C=0.1, gamma=1, kernel=linear;, score=0.648 total time=   0.1s\n",
            "[CV 3/5] END .....C=0.1, gamma=1, kernel=linear;, score=0.663 total time=   0.1s\n",
            "[CV 4/5] END .....C=0.1, gamma=1, kernel=linear;, score=0.660 total time=   0.1s\n",
            "[CV 5/5] END .....C=0.1, gamma=1, kernel=linear;, score=0.667 total time=   0.1s\n",
            "[CV 1/5] END ......C=0.1, gamma=0.1, kernel=rbf;, score=0.540 total time=   0.1s\n",
            "[CV 2/5] END ......C=0.1, gamma=0.1, kernel=rbf;, score=0.520 total time=   0.1s\n",
            "[CV 3/5] END ......C=0.1, gamma=0.1, kernel=rbf;, score=0.529 total time=   0.1s\n",
            "[CV 4/5] END ......C=0.1, gamma=0.1, kernel=rbf;, score=0.519 total time=   0.1s\n",
            "[CV 5/5] END ......C=0.1, gamma=0.1, kernel=rbf;, score=0.515 total time=   0.1s\n",
            "[CV 1/5] END ...C=0.1, gamma=0.1, kernel=linear;, score=0.641 total time=   0.1s\n",
            "[CV 2/5] END ...C=0.1, gamma=0.1, kernel=linear;, score=0.648 total time=   0.1s\n",
            "[CV 3/5] END ...C=0.1, gamma=0.1, kernel=linear;, score=0.663 total time=   0.1s\n",
            "[CV 4/5] END ...C=0.1, gamma=0.1, kernel=linear;, score=0.660 total time=   0.1s\n",
            "[CV 5/5] END ...C=0.1, gamma=0.1, kernel=linear;, score=0.667 total time=   0.1s\n",
            "[CV 1/5] END .....C=0.1, gamma=0.01, kernel=rbf;, score=0.510 total time=   0.1s\n",
            "[CV 2/5] END .....C=0.1, gamma=0.01, kernel=rbf;, score=0.507 total time=   0.1s\n",
            "[CV 3/5] END .....C=0.1, gamma=0.01, kernel=rbf;, score=0.508 total time=   0.1s\n",
            "[CV 4/5] END .....C=0.1, gamma=0.01, kernel=rbf;, score=0.508 total time=   0.1s\n",
            "[CV 5/5] END .....C=0.1, gamma=0.01, kernel=rbf;, score=0.508 total time=   0.1s\n",
            "[CV 1/5] END ..C=0.1, gamma=0.01, kernel=linear;, score=0.641 total time=   0.1s\n",
            "[CV 2/5] END ..C=0.1, gamma=0.01, kernel=linear;, score=0.648 total time=   0.1s\n",
            "[CV 3/5] END ..C=0.1, gamma=0.01, kernel=linear;, score=0.663 total time=   0.1s\n",
            "[CV 4/5] END ..C=0.1, gamma=0.01, kernel=linear;, score=0.660 total time=   0.1s\n",
            "[CV 5/5] END ..C=0.1, gamma=0.01, kernel=linear;, score=0.667 total time=   0.1s\n",
            "[CV 1/5] END ....C=0.1, gamma=0.001, kernel=rbf;, score=0.510 total time=   0.1s\n",
            "[CV 2/5] END ....C=0.1, gamma=0.001, kernel=rbf;, score=0.507 total time=   0.1s\n",
            "[CV 3/5] END ....C=0.1, gamma=0.001, kernel=rbf;, score=0.508 total time=   0.1s\n",
            "[CV 4/5] END ....C=0.1, gamma=0.001, kernel=rbf;, score=0.508 total time=   0.1s\n",
            "[CV 5/5] END ....C=0.1, gamma=0.001, kernel=rbf;, score=0.508 total time=   0.1s\n",
            "[CV 1/5] END .C=0.1, gamma=0.001, kernel=linear;, score=0.641 total time=   0.1s\n",
            "[CV 2/5] END .C=0.1, gamma=0.001, kernel=linear;, score=0.648 total time=   0.1s\n",
            "[CV 3/5] END .C=0.1, gamma=0.001, kernel=linear;, score=0.663 total time=   0.1s\n",
            "[CV 4/5] END .C=0.1, gamma=0.001, kernel=linear;, score=0.660 total time=   0.1s\n",
            "[CV 5/5] END .C=0.1, gamma=0.001, kernel=linear;, score=0.667 total time=   0.1s\n",
            "[CV 1/5] END ...C=0.1, gamma=0.0001, kernel=rbf;, score=0.510 total time=   0.1s\n",
            "[CV 2/5] END ...C=0.1, gamma=0.0001, kernel=rbf;, score=0.507 total time=   0.1s\n",
            "[CV 3/5] END ...C=0.1, gamma=0.0001, kernel=rbf;, score=0.508 total time=   0.1s\n",
            "[CV 4/5] END ...C=0.1, gamma=0.0001, kernel=rbf;, score=0.508 total time=   0.1s\n",
            "[CV 5/5] END ...C=0.1, gamma=0.0001, kernel=rbf;, score=0.508 total time=   0.1s\n",
            "[CV 1/5] END C=0.1, gamma=0.0001, kernel=linear;, score=0.641 total time=   0.1s\n",
            "[CV 2/5] END C=0.1, gamma=0.0001, kernel=linear;, score=0.648 total time=   0.1s\n",
            "[CV 3/5] END C=0.1, gamma=0.0001, kernel=linear;, score=0.663 total time=   0.1s\n",
            "[CV 4/5] END C=0.1, gamma=0.0001, kernel=linear;, score=0.660 total time=   0.1s\n",
            "[CV 5/5] END C=0.1, gamma=0.0001, kernel=linear;, score=0.667 total time=   0.1s\n",
            "[CV 1/5] END ..........C=1, gamma=1, kernel=rbf;, score=0.705 total time=   0.1s\n",
            "[CV 2/5] END ..........C=1, gamma=1, kernel=rbf;, score=0.738 total time=   0.1s\n",
            "[CV 3/5] END ..........C=1, gamma=1, kernel=rbf;, score=0.714 total time=   0.1s\n",
            "[CV 4/5] END ..........C=1, gamma=1, kernel=rbf;, score=0.747 total time=   0.1s\n",
            "[CV 5/5] END ..........C=1, gamma=1, kernel=rbf;, score=0.704 total time=   0.1s\n",
            "[CV 1/5] END .......C=1, gamma=1, kernel=linear;, score=0.691 total time=   0.1s\n",
            "[CV 2/5] END .......C=1, gamma=1, kernel=linear;, score=0.745 total time=   0.1s\n",
            "[CV 3/5] END .......C=1, gamma=1, kernel=linear;, score=0.721 total time=   0.1s\n",
            "[CV 4/5] END .......C=1, gamma=1, kernel=linear;, score=0.741 total time=   0.1s\n",
            "[CV 5/5] END .......C=1, gamma=1, kernel=linear;, score=0.697 total time=   0.1s\n",
            "[CV 1/5] END ........C=1, gamma=0.1, kernel=rbf;, score=0.651 total time=   0.1s\n",
            "[CV 2/5] END ........C=1, gamma=0.1, kernel=rbf;, score=0.681 total time=   0.1s\n",
            "[CV 3/5] END ........C=1, gamma=0.1, kernel=rbf;, score=0.687 total time=   0.1s\n",
            "[CV 4/5] END ........C=1, gamma=0.1, kernel=rbf;, score=0.707 total time=   0.1s\n",
            "[CV 5/5] END ........C=1, gamma=0.1, kernel=rbf;, score=0.680 total time=   0.1s\n",
            "[CV 1/5] END .....C=1, gamma=0.1, kernel=linear;, score=0.691 total time=   0.1s\n",
            "[CV 2/5] END .....C=1, gamma=0.1, kernel=linear;, score=0.745 total time=   0.1s\n",
            "[CV 3/5] END .....C=1, gamma=0.1, kernel=linear;, score=0.721 total time=   0.1s\n",
            "[CV 4/5] END .....C=1, gamma=0.1, kernel=linear;, score=0.741 total time=   0.1s\n",
            "[CV 5/5] END .....C=1, gamma=0.1, kernel=linear;, score=0.697 total time=   0.1s\n",
            "[CV 1/5] END .......C=1, gamma=0.01, kernel=rbf;, score=0.540 total time=   0.1s\n",
            "[CV 2/5] END .......C=1, gamma=0.01, kernel=rbf;, score=0.520 total time=   0.1s\n",
            "[CV 3/5] END .......C=1, gamma=0.01, kernel=rbf;, score=0.529 total time=   0.1s\n",
            "[CV 4/5] END .......C=1, gamma=0.01, kernel=rbf;, score=0.519 total time=   0.1s\n",
            "[CV 5/5] END .......C=1, gamma=0.01, kernel=rbf;, score=0.515 total time=   0.1s\n",
            "[CV 1/5] END ....C=1, gamma=0.01, kernel=linear;, score=0.691 total time=   0.1s\n",
            "[CV 2/5] END ....C=1, gamma=0.01, kernel=linear;, score=0.745 total time=   0.1s\n",
            "[CV 3/5] END ....C=1, gamma=0.01, kernel=linear;, score=0.721 total time=   0.1s\n",
            "[CV 4/5] END ....C=1, gamma=0.01, kernel=linear;, score=0.741 total time=   0.1s\n",
            "[CV 5/5] END ....C=1, gamma=0.01, kernel=linear;, score=0.697 total time=   0.1s\n",
            "[CV 1/5] END ......C=1, gamma=0.001, kernel=rbf;, score=0.510 total time=   0.1s\n",
            "[CV 2/5] END ......C=1, gamma=0.001, kernel=rbf;, score=0.507 total time=   0.1s\n",
            "[CV 3/5] END ......C=1, gamma=0.001, kernel=rbf;, score=0.508 total time=   0.1s\n",
            "[CV 4/5] END ......C=1, gamma=0.001, kernel=rbf;, score=0.508 total time=   0.1s\n",
            "[CV 5/5] END ......C=1, gamma=0.001, kernel=rbf;, score=0.508 total time=   0.1s\n",
            "[CV 1/5] END ...C=1, gamma=0.001, kernel=linear;, score=0.691 total time=   0.1s\n",
            "[CV 2/5] END ...C=1, gamma=0.001, kernel=linear;, score=0.745 total time=   0.1s\n",
            "[CV 3/5] END ...C=1, gamma=0.001, kernel=linear;, score=0.721 total time=   0.1s\n",
            "[CV 4/5] END ...C=1, gamma=0.001, kernel=linear;, score=0.741 total time=   0.1s\n",
            "[CV 5/5] END ...C=1, gamma=0.001, kernel=linear;, score=0.697 total time=   0.1s\n",
            "[CV 1/5] END .....C=1, gamma=0.0001, kernel=rbf;, score=0.510 total time=   0.2s\n",
            "[CV 2/5] END .....C=1, gamma=0.0001, kernel=rbf;, score=0.507 total time=   0.1s\n",
            "[CV 3/5] END .....C=1, gamma=0.0001, kernel=rbf;, score=0.508 total time=   0.1s\n",
            "[CV 4/5] END .....C=1, gamma=0.0001, kernel=rbf;, score=0.508 total time=   0.1s\n",
            "[CV 5/5] END .....C=1, gamma=0.0001, kernel=rbf;, score=0.508 total time=   0.1s\n",
            "[CV 1/5] END ..C=1, gamma=0.0001, kernel=linear;, score=0.691 total time=   0.1s\n",
            "[CV 2/5] END ..C=1, gamma=0.0001, kernel=linear;, score=0.745 total time=   0.1s\n",
            "[CV 3/5] END ..C=1, gamma=0.0001, kernel=linear;, score=0.721 total time=   0.1s\n",
            "[CV 4/5] END ..C=1, gamma=0.0001, kernel=linear;, score=0.741 total time=   0.1s\n",
            "[CV 5/5] END ..C=1, gamma=0.0001, kernel=linear;, score=0.697 total time=   0.1s\n",
            "[CV 1/5] END .........C=10, gamma=1, kernel=rbf;, score=0.762 total time=   0.1s\n",
            "[CV 2/5] END .........C=10, gamma=1, kernel=rbf;, score=0.768 total time=   0.1s\n",
            "[CV 3/5] END .........C=10, gamma=1, kernel=rbf;, score=0.717 total time=   0.1s\n",
            "[CV 4/5] END .........C=10, gamma=1, kernel=rbf;, score=0.768 total time=   0.1s\n",
            "[CV 5/5] END .........C=10, gamma=1, kernel=rbf;, score=0.768 total time=   0.1s\n",
            "[CV 1/5] END ......C=10, gamma=1, kernel=linear;, score=0.725 total time=   0.1s\n",
            "[CV 2/5] END ......C=10, gamma=1, kernel=linear;, score=0.762 total time=   0.1s\n",
            "[CV 3/5] END ......C=10, gamma=1, kernel=linear;, score=0.727 total time=   0.1s\n",
            "[CV 4/5] END ......C=10, gamma=1, kernel=linear;, score=0.771 total time=   0.1s\n",
            "[CV 5/5] END ......C=10, gamma=1, kernel=linear;, score=0.764 total time=   0.1s\n",
            "[CV 1/5] END .......C=10, gamma=0.1, kernel=rbf;, score=0.711 total time=   0.1s\n",
            "[CV 2/5] END .......C=10, gamma=0.1, kernel=rbf;, score=0.752 total time=   0.1s\n",
            "[CV 3/5] END .......C=10, gamma=0.1, kernel=rbf;, score=0.727 total time=   0.1s\n",
            "[CV 4/5] END .......C=10, gamma=0.1, kernel=rbf;, score=0.768 total time=   0.1s\n",
            "[CV 5/5] END .......C=10, gamma=0.1, kernel=rbf;, score=0.734 total time=   0.1s\n",
            "[CV 1/5] END ....C=10, gamma=0.1, kernel=linear;, score=0.725 total time=   0.1s\n",
            "[CV 2/5] END ....C=10, gamma=0.1, kernel=linear;, score=0.762 total time=   0.1s\n",
            "[CV 3/5] END ....C=10, gamma=0.1, kernel=linear;, score=0.727 total time=   0.1s\n",
            "[CV 4/5] END ....C=10, gamma=0.1, kernel=linear;, score=0.771 total time=   0.1s\n",
            "[CV 5/5] END ....C=10, gamma=0.1, kernel=linear;, score=0.764 total time=   0.1s\n",
            "[CV 1/5] END ......C=10, gamma=0.01, kernel=rbf;, score=0.654 total time=   0.1s\n",
            "[CV 2/5] END ......C=10, gamma=0.01, kernel=rbf;, score=0.678 total time=   0.1s\n",
            "[CV 3/5] END ......C=10, gamma=0.01, kernel=rbf;, score=0.677 total time=   0.1s\n",
            "[CV 4/5] END ......C=10, gamma=0.01, kernel=rbf;, score=0.700 total time=   0.1s\n",
            "[CV 5/5] END ......C=10, gamma=0.01, kernel=rbf;, score=0.673 total time=   0.1s\n",
            "[CV 1/5] END ...C=10, gamma=0.01, kernel=linear;, score=0.725 total time=   0.1s\n",
            "[CV 2/5] END ...C=10, gamma=0.01, kernel=linear;, score=0.762 total time=   0.1s\n",
            "[CV 3/5] END ...C=10, gamma=0.01, kernel=linear;, score=0.727 total time=   0.1s\n",
            "[CV 4/5] END ...C=10, gamma=0.01, kernel=linear;, score=0.771 total time=   0.1s\n",
            "[CV 5/5] END ...C=10, gamma=0.01, kernel=linear;, score=0.764 total time=   0.1s\n",
            "[CV 1/5] END .....C=10, gamma=0.001, kernel=rbf;, score=0.540 total time=   0.1s\n",
            "[CV 2/5] END .....C=10, gamma=0.001, kernel=rbf;, score=0.520 total time=   0.1s\n",
            "[CV 3/5] END .....C=10, gamma=0.001, kernel=rbf;, score=0.529 total time=   0.1s\n",
            "[CV 4/5] END .....C=10, gamma=0.001, kernel=rbf;, score=0.519 total time=   0.1s\n",
            "[CV 5/5] END .....C=10, gamma=0.001, kernel=rbf;, score=0.515 total time=   0.1s\n",
            "[CV 1/5] END ..C=10, gamma=0.001, kernel=linear;, score=0.725 total time=   0.1s\n",
            "[CV 2/5] END ..C=10, gamma=0.001, kernel=linear;, score=0.762 total time=   0.1s\n",
            "[CV 3/5] END ..C=10, gamma=0.001, kernel=linear;, score=0.727 total time=   0.1s\n",
            "[CV 4/5] END ..C=10, gamma=0.001, kernel=linear;, score=0.771 total time=   0.1s\n",
            "[CV 5/5] END ..C=10, gamma=0.001, kernel=linear;, score=0.764 total time=   0.1s\n",
            "[CV 1/5] END ....C=10, gamma=0.0001, kernel=rbf;, score=0.510 total time=   0.1s\n",
            "[CV 2/5] END ....C=10, gamma=0.0001, kernel=rbf;, score=0.507 total time=   0.1s\n",
            "[CV 3/5] END ....C=10, gamma=0.0001, kernel=rbf;, score=0.508 total time=   0.1s\n",
            "[CV 4/5] END ....C=10, gamma=0.0001, kernel=rbf;, score=0.508 total time=   0.1s\n",
            "[CV 5/5] END ....C=10, gamma=0.0001, kernel=rbf;, score=0.508 total time=   0.1s\n",
            "[CV 1/5] END .C=10, gamma=0.0001, kernel=linear;, score=0.725 total time=   0.1s\n",
            "[CV 2/5] END .C=10, gamma=0.0001, kernel=linear;, score=0.762 total time=   0.1s\n",
            "[CV 3/5] END .C=10, gamma=0.0001, kernel=linear;, score=0.727 total time=   0.1s\n",
            "[CV 4/5] END .C=10, gamma=0.0001, kernel=linear;, score=0.771 total time=   0.1s\n",
            "[CV 5/5] END .C=10, gamma=0.0001, kernel=linear;, score=0.764 total time=   0.1s\n",
            "[CV 1/5] END ........C=100, gamma=1, kernel=rbf;, score=0.768 total time=   0.2s\n",
            "[CV 2/5] END ........C=100, gamma=1, kernel=rbf;, score=0.782 total time=   0.1s\n",
            "[CV 3/5] END ........C=100, gamma=1, kernel=rbf;, score=0.737 total time=   0.2s\n",
            "[CV 4/5] END ........C=100, gamma=1, kernel=rbf;, score=0.778 total time=   0.1s\n",
            "[CV 5/5] END ........C=100, gamma=1, kernel=rbf;, score=0.815 total time=   0.2s\n",
            "[CV 1/5] END .....C=100, gamma=1, kernel=linear;, score=0.772 total time=   0.2s\n",
            "[CV 2/5] END .....C=100, gamma=1, kernel=linear;, score=0.792 total time=   0.1s\n",
            "[CV 3/5] END .....C=100, gamma=1, kernel=linear;, score=0.785 total time=   0.1s\n",
            "[CV 4/5] END .....C=100, gamma=1, kernel=linear;, score=0.798 total time=   0.1s\n",
            "[CV 5/5] END .....C=100, gamma=1, kernel=linear;, score=0.811 total time=   0.1s\n",
            "[CV 1/5] END ......C=100, gamma=0.1, kernel=rbf;, score=0.718 total time=   0.1s\n",
            "[CV 2/5] END ......C=100, gamma=0.1, kernel=rbf;, score=0.775 total time=   0.1s\n",
            "[CV 3/5] END ......C=100, gamma=0.1, kernel=rbf;, score=0.734 total time=   0.1s\n",
            "[CV 4/5] END ......C=100, gamma=0.1, kernel=rbf;, score=0.785 total time=   0.1s\n",
            "[CV 5/5] END ......C=100, gamma=0.1, kernel=rbf;, score=0.805 total time=   0.1s\n",
            "[CV 1/5] END ...C=100, gamma=0.1, kernel=linear;, score=0.772 total time=   0.2s\n",
            "[CV 2/5] END ...C=100, gamma=0.1, kernel=linear;, score=0.792 total time=   0.1s\n",
            "[CV 3/5] END ...C=100, gamma=0.1, kernel=linear;, score=0.785 total time=   0.1s\n",
            "[CV 4/5] END ...C=100, gamma=0.1, kernel=linear;, score=0.798 total time=   0.1s\n",
            "[CV 5/5] END ...C=100, gamma=0.1, kernel=linear;, score=0.811 total time=   0.1s\n",
            "[CV 1/5] END .....C=100, gamma=0.01, kernel=rbf;, score=0.698 total time=   0.1s\n",
            "[CV 2/5] END .....C=100, gamma=0.01, kernel=rbf;, score=0.738 total time=   0.1s\n",
            "[CV 3/5] END .....C=100, gamma=0.01, kernel=rbf;, score=0.714 total time=   0.1s\n",
            "[CV 4/5] END .....C=100, gamma=0.01, kernel=rbf;, score=0.768 total time=   0.1s\n",
            "[CV 5/5] END .....C=100, gamma=0.01, kernel=rbf;, score=0.734 total time=   0.1s\n",
            "[CV 1/5] END ..C=100, gamma=0.01, kernel=linear;, score=0.772 total time=   0.2s\n",
            "[CV 2/5] END ..C=100, gamma=0.01, kernel=linear;, score=0.792 total time=   0.1s\n",
            "[CV 3/5] END ..C=100, gamma=0.01, kernel=linear;, score=0.785 total time=   0.1s\n",
            "[CV 4/5] END ..C=100, gamma=0.01, kernel=linear;, score=0.798 total time=   0.1s\n",
            "[CV 5/5] END ..C=100, gamma=0.01, kernel=linear;, score=0.811 total time=   0.1s\n",
            "[CV 1/5] END ....C=100, gamma=0.001, kernel=rbf;, score=0.664 total time=   0.1s\n",
            "[CV 2/5] END ....C=100, gamma=0.001, kernel=rbf;, score=0.688 total time=   0.1s\n",
            "[CV 3/5] END ....C=100, gamma=0.001, kernel=rbf;, score=0.677 total time=   0.1s\n",
            "[CV 4/5] END ....C=100, gamma=0.001, kernel=rbf;, score=0.700 total time=   0.1s\n",
            "[CV 5/5] END ....C=100, gamma=0.001, kernel=rbf;, score=0.673 total time=   0.1s\n",
            "[CV 1/5] END .C=100, gamma=0.001, kernel=linear;, score=0.772 total time=   0.2s\n",
            "[CV 2/5] END .C=100, gamma=0.001, kernel=linear;, score=0.792 total time=   0.1s\n",
            "[CV 3/5] END .C=100, gamma=0.001, kernel=linear;, score=0.785 total time=   0.1s\n",
            "[CV 4/5] END .C=100, gamma=0.001, kernel=linear;, score=0.798 total time=   0.1s\n",
            "[CV 5/5] END .C=100, gamma=0.001, kernel=linear;, score=0.811 total time=   0.1s\n",
            "[CV 1/5] END ...C=100, gamma=0.0001, kernel=rbf;, score=0.540 total time=   0.1s\n",
            "[CV 2/5] END ...C=100, gamma=0.0001, kernel=rbf;, score=0.520 total time=   0.1s\n",
            "[CV 3/5] END ...C=100, gamma=0.0001, kernel=rbf;, score=0.529 total time=   0.1s\n",
            "[CV 4/5] END ...C=100, gamma=0.0001, kernel=rbf;, score=0.519 total time=   0.1s\n",
            "[CV 5/5] END ...C=100, gamma=0.0001, kernel=rbf;, score=0.515 total time=   0.1s\n",
            "[CV 1/5] END C=100, gamma=0.0001, kernel=linear;, score=0.772 total time=   0.2s\n",
            "[CV 2/5] END C=100, gamma=0.0001, kernel=linear;, score=0.792 total time=   0.1s\n",
            "[CV 3/5] END C=100, gamma=0.0001, kernel=linear;, score=0.785 total time=   0.1s\n",
            "[CV 4/5] END C=100, gamma=0.0001, kernel=linear;, score=0.798 total time=   0.1s\n",
            "[CV 5/5] END C=100, gamma=0.0001, kernel=linear;, score=0.811 total time=   0.2s\n",
            "[CV 1/5] END .......C=1000, gamma=1, kernel=rbf;, score=0.742 total time=   0.5s\n",
            "[CV 2/5] END .......C=1000, gamma=1, kernel=rbf;, score=0.775 total time=   0.5s\n",
            "[CV 3/5] END .......C=1000, gamma=1, kernel=rbf;, score=0.758 total time=   0.4s\n",
            "[CV 4/5] END .......C=1000, gamma=1, kernel=rbf;, score=0.771 total time=   0.5s\n",
            "[CV 5/5] END .......C=1000, gamma=1, kernel=rbf;, score=0.774 total time=   0.5s\n",
            "[CV 1/5] END ....C=1000, gamma=1, kernel=linear;, score=0.772 total time=   0.6s\n",
            "[CV 2/5] END ....C=1000, gamma=1, kernel=linear;, score=0.799 total time=   0.8s\n",
            "[CV 3/5] END ....C=1000, gamma=1, kernel=linear;, score=0.791 total time=   0.7s\n",
            "[CV 4/5] END ....C=1000, gamma=1, kernel=linear;, score=0.818 total time=   0.6s\n",
            "[CV 5/5] END ....C=1000, gamma=1, kernel=linear;, score=0.815 total time=   0.6s\n",
            "[CV 1/5] END .....C=1000, gamma=0.1, kernel=rbf;, score=0.795 total time=   0.1s\n",
            "[CV 2/5] END .....C=1000, gamma=0.1, kernel=rbf;, score=0.792 total time=   0.2s\n",
            "[CV 3/5] END .....C=1000, gamma=0.1, kernel=rbf;, score=0.764 total time=   0.2s\n",
            "[CV 4/5] END .....C=1000, gamma=0.1, kernel=rbf;, score=0.778 total time=   0.2s\n",
            "[CV 5/5] END .....C=1000, gamma=0.1, kernel=rbf;, score=0.815 total time=   0.2s\n",
            "[CV 1/5] END ..C=1000, gamma=0.1, kernel=linear;, score=0.772 total time=   0.6s\n",
            "[CV 2/5] END ..C=1000, gamma=0.1, kernel=linear;, score=0.799 total time=   0.7s\n",
            "[CV 3/5] END ..C=1000, gamma=0.1, kernel=linear;, score=0.791 total time=   0.7s\n",
            "[CV 4/5] END ..C=1000, gamma=0.1, kernel=linear;, score=0.818 total time=   0.6s\n",
            "[CV 5/5] END ..C=1000, gamma=0.1, kernel=linear;, score=0.815 total time=   0.6s\n",
            "[CV 1/5] END ....C=1000, gamma=0.01, kernel=rbf;, score=0.752 total time=   0.1s\n",
            "[CV 2/5] END ....C=1000, gamma=0.01, kernel=rbf;, score=0.768 total time=   0.1s\n",
            "[CV 3/5] END ....C=1000, gamma=0.01, kernel=rbf;, score=0.737 total time=   0.1s\n",
            "[CV 4/5] END ....C=1000, gamma=0.01, kernel=rbf;, score=0.781 total time=   0.1s\n",
            "[CV 5/5] END ....C=1000, gamma=0.01, kernel=rbf;, score=0.795 total time=   0.1s\n",
            "[CV 1/5] END .C=1000, gamma=0.01, kernel=linear;, score=0.772 total time=   0.6s\n",
            "[CV 2/5] END .C=1000, gamma=0.01, kernel=linear;, score=0.799 total time=   0.8s\n",
            "[CV 3/5] END .C=1000, gamma=0.01, kernel=linear;, score=0.791 total time=   0.7s\n",
            "[CV 4/5] END .C=1000, gamma=0.01, kernel=linear;, score=0.818 total time=   0.5s\n",
            "[CV 5/5] END .C=1000, gamma=0.01, kernel=linear;, score=0.815 total time=   0.6s\n",
            "[CV 1/5] END ...C=1000, gamma=0.001, kernel=rbf;, score=0.698 total time=   0.1s\n",
            "[CV 2/5] END ...C=1000, gamma=0.001, kernel=rbf;, score=0.738 total time=   0.1s\n",
            "[CV 3/5] END ...C=1000, gamma=0.001, kernel=rbf;, score=0.714 total time=   0.1s\n",
            "[CV 4/5] END ...C=1000, gamma=0.001, kernel=rbf;, score=0.764 total time=   0.1s\n",
            "[CV 5/5] END ...C=1000, gamma=0.001, kernel=rbf;, score=0.734 total time=   0.1s\n",
            "[CV 1/5] END C=1000, gamma=0.001, kernel=linear;, score=0.772 total time=   0.6s\n",
            "[CV 2/5] END C=1000, gamma=0.001, kernel=linear;, score=0.799 total time=   0.8s\n",
            "[CV 3/5] END C=1000, gamma=0.001, kernel=linear;, score=0.791 total time=   0.6s\n",
            "[CV 4/5] END C=1000, gamma=0.001, kernel=linear;, score=0.818 total time=   0.6s\n",
            "[CV 5/5] END C=1000, gamma=0.001, kernel=linear;, score=0.815 total time=   0.6s\n",
            "[CV 1/5] END ..C=1000, gamma=0.0001, kernel=rbf;, score=0.664 total time=   0.1s\n",
            "[CV 2/5] END ..C=1000, gamma=0.0001, kernel=rbf;, score=0.688 total time=   0.1s\n",
            "[CV 3/5] END ..C=1000, gamma=0.0001, kernel=rbf;, score=0.677 total time=   0.1s\n",
            "[CV 4/5] END ..C=1000, gamma=0.0001, kernel=rbf;, score=0.700 total time=   0.1s\n",
            "[CV 5/5] END ..C=1000, gamma=0.0001, kernel=rbf;, score=0.673 total time=   0.1s\n",
            "[CV 1/5] END C=1000, gamma=0.0001, kernel=linear;, score=0.772 total time=   0.6s\n",
            "[CV 2/5] END C=1000, gamma=0.0001, kernel=linear;, score=0.799 total time=   0.8s\n",
            "[CV 3/5] END C=1000, gamma=0.0001, kernel=linear;, score=0.791 total time=   0.7s\n",
            "[CV 4/5] END C=1000, gamma=0.0001, kernel=linear;, score=0.818 total time=   0.6s\n",
            "[CV 5/5] END C=1000, gamma=0.0001, kernel=linear;, score=0.815 total time=   0.6s\n"
          ]
        },
        {
          "output_type": "execute_result",
          "data": {
            "text/plain": [
              "GridSearchCV(estimator=SVC(),\n",
              "             param_grid={'C': [0.1, 1, 10, 100, 1000],\n",
              "                         'gamma': [1, 0.1, 0.01, 0.001, 0.0001],\n",
              "                         'kernel': ['rbf', 'linear']},\n",
              "             verbose=3)"
            ]
          },
          "metadata": {},
          "execution_count": 29
        }
      ]
    },
    {
      "cell_type": "code",
      "source": [
        "# print best parameter after tuning\n",
        "print(grid.best_params_)\n",
        "\n",
        "# print how our model looks after hyper-parameter tuning\n",
        "print(grid.best_estimator_)"
      ],
      "metadata": {
        "colab": {
          "base_uri": "https://localhost:8080/"
        },
        "id": "aN6Bc1jRMcVJ",
        "outputId": "4c07cb4d-39c6-45b3-f92e-8d7fc2574afb"
      },
      "execution_count": null,
      "outputs": [
        {
          "output_type": "stream",
          "name": "stdout",
          "text": [
            "{'C': 1000, 'gamma': 1, 'kernel': 'linear'}\n",
            "SVC(C=1000, gamma=1, kernel='linear')\n"
          ]
        }
      ]
    },
    {
      "cell_type": "code",
      "source": [
        "# evaluating performance of tune parameters\n",
        "grid_predictions = grid.predict(X_test_normalised)\n",
        "\n",
        "# print classification report\n",
        "print(metrics.classification_report(Y_test, grid_predictions))"
      ],
      "metadata": {
        "colab": {
          "base_uri": "https://localhost:8080/"
        },
        "id": "NwRntfUJMdIN",
        "outputId": "46280a4e-45ab-4a12-e38e-9c926092afea"
      },
      "execution_count": null,
      "outputs": [
        {
          "output_type": "stream",
          "name": "stdout",
          "text": [
            "              precision    recall  f1-score   support\n",
            "\n",
            "         0.0       0.64      0.95      0.77       489\n",
            "         1.0       0.91      0.49      0.63       500\n",
            "\n",
            "    accuracy                           0.72       989\n",
            "   macro avg       0.78      0.72      0.70       989\n",
            "weighted avg       0.78      0.72      0.70       989\n",
            "\n"
          ]
        }
      ]
    },
    {
      "cell_type": "code",
      "source": [
        "## grid searched parameters:\n",
        "# C = 1000, gamma = 0.1, kernel = rbf \n",
        "# C = 1000, gamma = 1, kernel = linear \n",
        "\n",
        "#Create a svm Classifier\n",
        "rbf_svm_model = svm.SVC(kernel='rbf', C = 1000, gamma = 0.1, class_weight = \"balanced\") #\n",
        "#rbf_svm_model = svm.SVC(kernel='linear', C = 1000, gamma = 1) # alternate linear kernel svm, poorly named but better for switching\n",
        "\n",
        "#Train the model using the training sets\n",
        "rbf_svm_model.fit(X_train_normalised, Y_train)\n",
        "\n",
        "# Evaluate performance of model using test set\n",
        "y_pred = rbf_svm_model.predict(X_test_normalised)\n",
        "\n",
        "print(metrics.classification_report(y_pred, Y_test))\n",
        "cm_svm = metrics.confusion_matrix(Y_test,y_pred)\n",
        "metrics.confusion_matrix(Y_test,y_pred)"
      ],
      "metadata": {
        "colab": {
          "base_uri": "https://localhost:8080/"
        },
        "id": "su-Ra8V8J3lG",
        "outputId": "7c435540-194c-4830-dee3-60b9c8a1d861"
      },
      "execution_count": null,
      "outputs": [
        {
          "output_type": "stream",
          "name": "stdout",
          "text": [
            "              precision    recall  f1-score   support\n",
            "\n",
            "         0.0       0.76      0.75      0.75       502\n",
            "         1.0       0.75      0.76      0.75       498\n",
            "\n",
            "    accuracy                           0.75      1000\n",
            "   macro avg       0.75      0.75      0.75      1000\n",
            "weighted avg       0.75      0.75      0.75      1000\n",
            "\n"
          ]
        },
        {
          "output_type": "execute_result",
          "data": {
            "text/plain": [
              "array([[378, 122],\n",
              "       [124, 376]])"
            ]
          },
          "metadata": {},
          "execution_count": 25
        }
      ]
    },
    {
      "cell_type": "code",
      "source": [
        "## Creating confusion matrix plot\n",
        "ax= plt.subplot()\n",
        "sns.heatmap(cm_svm, annot=True, fmt='g', ax=ax, cmap=\"BuPu\");  #annot=True to annotate cells, ftm='g' to disable scientific notation\n",
        "\n",
        "# labels, title and ticks\n",
        "ax.set_xlabel('Predicted labels', fontsize = 16);ax.set_ylabel('True labels', fontsize = 16); \n",
        "font_size = 14 # Adjust as appropriate.\n",
        "ax.tick_params(labelsize=font_size)\n",
        "ax.xaxis.set_ticklabels(['Female', 'Male']); ax.yaxis.set_ticklabels(['Female','Male',]); # x axis = 0, 1 | y axis = 0,1"
      ],
      "metadata": {
        "colab": {
          "base_uri": "https://localhost:8080/",
          "height": 288
        },
        "id": "853Oj4Evb5pD",
        "outputId": "e303110c-cbd9-4580-a4e3-ac09c700909a"
      },
      "execution_count": null,
      "outputs": [
        {
          "output_type": "display_data",
          "data": {
            "text/plain": [
              "<Figure size 432x288 with 2 Axes>"
            ],
            "image/png": "[encoded data removed]"
          },
          "metadata": {
            "needs_background": "light"
          }
        }
      ]
    },
    {
      "cell_type": "markdown",
      "source": [
        "Save the model to be reloaded later"
      ],
      "metadata": {
        "id": "eLFe9XljwGHh"
      }
    },
    {
      "cell_type": "code",
      "source": [
        "# save the model to disk\n",
        "filename = 'A1_logr_model.sav'\n",
        "pickle.dump(logr_model, open(filename, 'wb'))"
      ],
      "metadata": {
        "id": "8MS2zXLlwMmU"
      },
      "execution_count": null,
      "outputs": []
    },
    {
      "cell_type": "code",
      "source": [
        "# load the model from disk\n",
        "filename = 'A1_logr_model.sav'\n",
        "loaded_model = pickle.load(open(filename, 'rb'))"
      ],
      "metadata": {
        "id": "MNHTlRYSwM59"
      },
      "execution_count": null,
      "outputs": []
    },
    {
      "cell_type": "code",
      "source": [
        "## Test loaded model\n",
        "result = loaded_model.score(X_test, Y_test)\n",
        "print(result)"
      ],
      "metadata": {
        "id": "sTXH_2Du7EqC"
      },
      "execution_count": null,
      "outputs": []
    },
    {
      "cell_type": "markdown",
      "source": [
        "Examination of Learning Curve"
      ],
      "metadata": {
        "id": "Il5dfFllb4Qe"
      }
    },
    {
      "cell_type": "code",
      "source": [
        "#rebuild untrained model that achieved highest performance\n",
        "estimator = svm.SVC(kernel='rbf', C = 1000, gamma = 0.1, class_weight = \"balanced\") #\n",
        "train_sizes, train_scores, test_scores, fit_times, _ = learning_curve(estimator, X_train_normalised, Y_train, cv = 5, return_times=True)"
      ],
      "metadata": {
        "id": "IjDMb8WBSVmv"
      },
      "execution_count": null,
      "outputs": []
    },
    {
      "cell_type": "code",
      "source": [
        "## plotting learning curve\n",
        "plt.style.use('seaborn')\n",
        "plt.plot(train_sizes,np.mean(train_scores,axis=1))\n",
        "plt.plot(train_sizes,np.mean(test_scores,axis=1))\n",
        "plt.ylabel('Score', fontsize = 16)\n",
        "plt.xlabel('Training set size', fontsize = 16)\n",
        "plt.title('A1: Learning Curve for an SVM', fontsize = 18, y = 1.03)\n",
        "plt.legend([\"Train Score\", \"Test Score\"],prop={'size': 14})\n",
        "plt.show()"
      ],
      "metadata": {
        "colab": {
          "base_uri": "https://localhost:8080/",
          "height": 394
        },
        "id": "fFi-vQEbSXtz",
        "outputId": "173df25b-4b11-485c-a1fc-4abc641e4258"
      },
      "execution_count": null,
      "outputs": [
        {
          "output_type": "display_data",
          "data": {
            "text/plain": [
              "<Figure size 576x396 with 1 Axes>"
            ],
            "image/png": "[encoded data removed]"
          },
          "metadata": {}
        }
      ]
    }
  ],
  "metadata": {
    "colab": {
      "provenance": [],
      "authorship_tag": "ABX9TyONanZJAjbc/MV3m+x4siUM",
      "include_colab_link": true
    },
    "kernelspec": {
      "display_name": "Python 3",
      "name": "python3"
    },
    "language_info": {
      "name": "python"
    }
  },
  "nbformat": 4,
  "nbformat_minor": 0
}